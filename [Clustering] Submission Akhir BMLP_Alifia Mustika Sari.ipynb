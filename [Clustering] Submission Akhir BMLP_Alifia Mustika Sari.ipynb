{
  "cells": [
    {
      "cell_type": "markdown",
      "metadata": {
        "id": "kZLRMFl0JyyQ"
      },
      "source": [
        "# **1. Perkenalan Dataset**\n"
      ]
    },
    {
      "cell_type": "markdown",
      "metadata": {
        "id": "hssSDn-5n3HR"
      },
      "source": [
        "Tahap pertama, Anda harus mencari dan menggunakan dataset **tanpa label** dengan ketentuan sebagai berikut:\n",
        "\n",
        "1. **Sumber Dataset**:  \n",
        "   Dataset dapat diperoleh dari berbagai sumber, seperti public repositories (*Kaggle*, *UCI ML Repository*, *Open Data*) atau data primer yang Anda kumpulkan sendiri.\n",
        "   \n",
        "2. **Ketentuan Dataset**:\n",
        "   - **Tanpa label**: Dataset tidak boleh memiliki label atau kelas.\n",
        "   - **Jumlah Baris**: Minimal 1000 baris untuk memastikan dataset cukup besar untuk analisis yang bermakna.\n",
        "   - **Tipe Data**: Harus mengandung data **kategorikal** dan **numerikal**.\n",
        "     - *Kategorikal*: Misalnya jenis kelamin, kategori produk.\n",
        "     - *Numerikal*: Misalnya usia, pendapatan, harga.\n",
        "\n",
        "3. **Pembatasan**:  \n",
        "   Dataset yang sudah digunakan dalam latihan clustering (seperti customer segmentation) tidak boleh digunakan."
      ]
    },
    {
      "cell_type": "markdown",
      "metadata": {},
      "source": [
        "**Bank Transaction Dataset** memberikan wawasan mendalam tentang perilaku transaksi dan pola aktivitas keuangan, yang sangat berguna untuk eksplorasi deteksi penipuan (fraud detection) dan identifikasi anomali. Dataset ini terdiri dari `2.512 sampel data transaksi`, mencakup berbagai atribut transaksi, demografi pelanggan, serta pola penggunaan.\n",
        "\n",
        "`Setiap entri dalam dataset ini merepresentasikan satu transaksi yang dilakukan oleh pelanggan`, mencakup informasi tentang jumlah transaksi, lokasi, perangkat yang digunakan, serta saluran pembayaran. Dengan berbagai fitur yang tersedia, dataset ini dapat digunakan untuk analisis pola transaksi keuangan, mendeteksi potensi aktivitas mencurigakan, serta membangun model prediktif untuk meningkatkan keamanan finansial."
      ]
    },
    {
      "cell_type": "markdown",
      "metadata": {},
      "source": [
        "**Fitur Utama dalam Dataset:**\n",
        "- `TransactionID`: Identifikasi unik untuk setiap transaksi.\n",
        "- `AccountID`: Identifikasi unik untuk akun pelanggan, dengan kemungkinan lebih dari satu transaksi per akun.\n",
        "- `TransactionAmount`: Nilai nominal dari setiap transaksi, berkisar dari pengeluaran kecil hingga pembelian dalam jumlah besar.\n",
        "- `TransactionDate`: Waktu transaksi dilakukan (tanggal dan jam).\n",
        "- `TransactionType`: Jenis transaksi (Credit atau Debit).\n",
        "- `Location`: Lokasi geografis tempat transaksi dilakukan (nama kota di AS).\n",
        "- `DeviceID`: Identifikasi unik perangkat yang digunakan dalam transaksi.\n",
        "- `IP Address`: Alamat IP terkait dengan transaksi, yang dapat berubah untuk beberapa akun.\n",
        "- `MerchantID`: Identifikasi unik pedagang (merchant), menunjukkan transaksi di merchant yang sering digunakan atau yang tidak biasa bagi akun tertentu.\n",
        "- `AccountBalance`: Saldo akun setelah transaksi dilakukan, yang berkorelasi dengan jenis dan jumlah transaksi.\n",
        "- `PreviousTransactionDate`: Waktu transaksi terakhir yang dilakukan oleh akun, berguna untuk menghitung frekuensi transaksi.\n",
        "- `Channel`: Saluran transaksi (misalnya Online, ATM, Branch).\n",
        "- `CustomerAge`: Usia pemilik akun, yang memiliki keterkaitan dengan jenis pekerjaan dan pola pengeluaran.\n",
        "- `CustomerOccupation`: Pekerjaan pemilik akun (Doctor, Engineer, Student, Retired), yang dapat mencerminkan pola pemasukan dan pengeluaran.\n",
        "- `TransactionDuration`: Lama waktu transaksi dalam detik, yang bervariasi tergantung jenis transaksi.\n",
        "- `LoginAttempts`: Jumlah percobaan login sebelum transaksi dilakukan, dengan nilai tinggi yang bisa mengindikasikan potensi aktivitas mencurigakan."
      ]
    },
    {
      "cell_type": "markdown",
      "metadata": {
        "id": "fKADPWcFKlj3"
      },
      "source": [
        "# **2. Import Library**"
      ]
    },
    {
      "cell_type": "markdown",
      "metadata": {
        "id": "LgA3ERnVn84N"
      },
      "source": [
        "Pada tahap ini, Anda perlu mengimpor beberapa pustaka (library) Python yang dibutuhkan untuk analisis data dan pembangunan model machine learning."
      ]
    },
    {
      "cell_type": "code",
      "execution_count": 67,
      "metadata": {
        "id": "BlmvjLY9M4Yj"
      },
      "outputs": [],
      "source": [
        "import pandas as pd\n",
        "import matplotlib.pyplot as plt\n",
        "import seaborn as sns\n",
        "\n",
        "# from yellowbrick.cluster import KElbowVisualizer  # Mengimpor KElbowVisualizer untuk visualisasi metode Elbow\n",
        "\n",
        "from sklearn.cluster import KMeans, DBSCAN  # Mengimpor algoritma KMeans dan DBSCAN untuk clustering\n",
        "from sklearn.metrics import silhouette_score  # Mengimpor silhouette_score untuk mengevaluasi hasil clustering"
      ]
    },
    {
      "cell_type": "markdown",
      "metadata": {
        "id": "f3YIEnAFKrKL"
      },
      "source": [
        "# **3. Memuat Dataset**"
      ]
    },
    {
      "cell_type": "markdown",
      "metadata": {
        "id": "Ey3ItwTen_7E"
      },
      "source": [
        "Pada tahap ini, Anda perlu memuat dataset ke dalam notebook. Jika dataset dalam format CSV, Anda bisa menggunakan pustaka pandas untuk membacanya. Pastikan untuk mengecek beberapa baris awal dataset untuk memahami strukturnya dan memastikan data telah dimuat dengan benar.\n",
        "\n",
        "Jika dataset berada di Google Drive, pastikan Anda menghubungkan Google Drive ke Colab terlebih dahulu. Setelah dataset berhasil dimuat, langkah berikutnya adalah memeriksa kesesuaian data dan siap untuk dianalisis lebih lanjut."
      ]
    },
    {
      "cell_type": "code",
      "execution_count": 68,
      "metadata": {
        "id": "GHCGNTyrM5fS"
      },
      "outputs": [
        {
          "data": {
            "text/html": [
              "<div>\n",
              "<style scoped>\n",
              "    .dataframe tbody tr th:only-of-type {\n",
              "        vertical-align: middle;\n",
              "    }\n",
              "\n",
              "    .dataframe tbody tr th {\n",
              "        vertical-align: top;\n",
              "    }\n",
              "\n",
              "    .dataframe thead th {\n",
              "        text-align: right;\n",
              "    }\n",
              "</style>\n",
              "<table border=\"1\" class=\"dataframe\">\n",
              "  <thead>\n",
              "    <tr style=\"text-align: right;\">\n",
              "      <th></th>\n",
              "      <th>TransactionID</th>\n",
              "      <th>AccountID</th>\n",
              "      <th>TransactionAmount</th>\n",
              "      <th>TransactionDate</th>\n",
              "      <th>TransactionType</th>\n",
              "      <th>Location</th>\n",
              "      <th>DeviceID</th>\n",
              "      <th>IP Address</th>\n",
              "      <th>MerchantID</th>\n",
              "      <th>Channel</th>\n",
              "      <th>CustomerAge</th>\n",
              "      <th>CustomerOccupation</th>\n",
              "      <th>TransactionDuration</th>\n",
              "      <th>LoginAttempts</th>\n",
              "      <th>AccountBalance</th>\n",
              "      <th>PreviousTransactionDate</th>\n",
              "    </tr>\n",
              "  </thead>\n",
              "  <tbody>\n",
              "    <tr>\n",
              "      <th>0</th>\n",
              "      <td>TX000001</td>\n",
              "      <td>AC00128</td>\n",
              "      <td>14.09</td>\n",
              "      <td>2023-04-11 16:29:14</td>\n",
              "      <td>Debit</td>\n",
              "      <td>San Diego</td>\n",
              "      <td>D000380</td>\n",
              "      <td>162.198.218.92</td>\n",
              "      <td>M015</td>\n",
              "      <td>ATM</td>\n",
              "      <td>70</td>\n",
              "      <td>Doctor</td>\n",
              "      <td>81</td>\n",
              "      <td>1</td>\n",
              "      <td>5112.21</td>\n",
              "      <td>2024-11-04 08:08:08</td>\n",
              "    </tr>\n",
              "    <tr>\n",
              "      <th>1</th>\n",
              "      <td>TX000002</td>\n",
              "      <td>AC00455</td>\n",
              "      <td>376.24</td>\n",
              "      <td>2023-06-27 16:44:19</td>\n",
              "      <td>Debit</td>\n",
              "      <td>Houston</td>\n",
              "      <td>D000051</td>\n",
              "      <td>13.149.61.4</td>\n",
              "      <td>M052</td>\n",
              "      <td>ATM</td>\n",
              "      <td>68</td>\n",
              "      <td>Doctor</td>\n",
              "      <td>141</td>\n",
              "      <td>1</td>\n",
              "      <td>13758.91</td>\n",
              "      <td>2024-11-04 08:09:35</td>\n",
              "    </tr>\n",
              "    <tr>\n",
              "      <th>2</th>\n",
              "      <td>TX000003</td>\n",
              "      <td>AC00019</td>\n",
              "      <td>126.29</td>\n",
              "      <td>2023-07-10 18:16:08</td>\n",
              "      <td>Debit</td>\n",
              "      <td>Mesa</td>\n",
              "      <td>D000235</td>\n",
              "      <td>215.97.143.157</td>\n",
              "      <td>M009</td>\n",
              "      <td>Online</td>\n",
              "      <td>19</td>\n",
              "      <td>Student</td>\n",
              "      <td>56</td>\n",
              "      <td>1</td>\n",
              "      <td>1122.35</td>\n",
              "      <td>2024-11-04 08:07:04</td>\n",
              "    </tr>\n",
              "    <tr>\n",
              "      <th>3</th>\n",
              "      <td>TX000004</td>\n",
              "      <td>AC00070</td>\n",
              "      <td>184.50</td>\n",
              "      <td>2023-05-05 16:32:11</td>\n",
              "      <td>Debit</td>\n",
              "      <td>Raleigh</td>\n",
              "      <td>D000187</td>\n",
              "      <td>200.13.225.150</td>\n",
              "      <td>M002</td>\n",
              "      <td>Online</td>\n",
              "      <td>26</td>\n",
              "      <td>Student</td>\n",
              "      <td>25</td>\n",
              "      <td>1</td>\n",
              "      <td>8569.06</td>\n",
              "      <td>2024-11-04 08:09:06</td>\n",
              "    </tr>\n",
              "    <tr>\n",
              "      <th>4</th>\n",
              "      <td>TX000005</td>\n",
              "      <td>AC00411</td>\n",
              "      <td>13.45</td>\n",
              "      <td>2023-10-16 17:51:24</td>\n",
              "      <td>Credit</td>\n",
              "      <td>Atlanta</td>\n",
              "      <td>D000308</td>\n",
              "      <td>65.164.3.100</td>\n",
              "      <td>M091</td>\n",
              "      <td>Online</td>\n",
              "      <td>26</td>\n",
              "      <td>Student</td>\n",
              "      <td>198</td>\n",
              "      <td>1</td>\n",
              "      <td>7429.40</td>\n",
              "      <td>2024-11-04 08:06:39</td>\n",
              "    </tr>\n",
              "    <tr>\n",
              "      <th>...</th>\n",
              "      <td>...</td>\n",
              "      <td>...</td>\n",
              "      <td>...</td>\n",
              "      <td>...</td>\n",
              "      <td>...</td>\n",
              "      <td>...</td>\n",
              "      <td>...</td>\n",
              "      <td>...</td>\n",
              "      <td>...</td>\n",
              "      <td>...</td>\n",
              "      <td>...</td>\n",
              "      <td>...</td>\n",
              "      <td>...</td>\n",
              "      <td>...</td>\n",
              "      <td>...</td>\n",
              "      <td>...</td>\n",
              "    </tr>\n",
              "    <tr>\n",
              "      <th>2507</th>\n",
              "      <td>TX002508</td>\n",
              "      <td>AC00297</td>\n",
              "      <td>856.21</td>\n",
              "      <td>2023-04-26 17:09:36</td>\n",
              "      <td>Credit</td>\n",
              "      <td>Colorado Springs</td>\n",
              "      <td>D000625</td>\n",
              "      <td>21.157.41.17</td>\n",
              "      <td>M072</td>\n",
              "      <td>Branch</td>\n",
              "      <td>33</td>\n",
              "      <td>Doctor</td>\n",
              "      <td>109</td>\n",
              "      <td>1</td>\n",
              "      <td>12690.79</td>\n",
              "      <td>2024-11-04 08:11:29</td>\n",
              "    </tr>\n",
              "    <tr>\n",
              "      <th>2508</th>\n",
              "      <td>TX002509</td>\n",
              "      <td>AC00322</td>\n",
              "      <td>251.54</td>\n",
              "      <td>2023-03-22 17:36:48</td>\n",
              "      <td>Debit</td>\n",
              "      <td>Tucson</td>\n",
              "      <td>D000410</td>\n",
              "      <td>49.174.157.140</td>\n",
              "      <td>M029</td>\n",
              "      <td>Branch</td>\n",
              "      <td>48</td>\n",
              "      <td>Doctor</td>\n",
              "      <td>177</td>\n",
              "      <td>1</td>\n",
              "      <td>254.75</td>\n",
              "      <td>2024-11-04 08:11:42</td>\n",
              "    </tr>\n",
              "    <tr>\n",
              "      <th>2509</th>\n",
              "      <td>TX002510</td>\n",
              "      <td>AC00095</td>\n",
              "      <td>28.63</td>\n",
              "      <td>2023-08-21 17:08:50</td>\n",
              "      <td>Debit</td>\n",
              "      <td>San Diego</td>\n",
              "      <td>D000095</td>\n",
              "      <td>58.1.27.124</td>\n",
              "      <td>M087</td>\n",
              "      <td>Branch</td>\n",
              "      <td>56</td>\n",
              "      <td>Retired</td>\n",
              "      <td>146</td>\n",
              "      <td>1</td>\n",
              "      <td>3382.91</td>\n",
              "      <td>2024-11-04 08:08:39</td>\n",
              "    </tr>\n",
              "    <tr>\n",
              "      <th>2510</th>\n",
              "      <td>TX002511</td>\n",
              "      <td>AC00118</td>\n",
              "      <td>185.97</td>\n",
              "      <td>2023-02-24 16:24:46</td>\n",
              "      <td>Debit</td>\n",
              "      <td>Denver</td>\n",
              "      <td>D000634</td>\n",
              "      <td>21.190.11.223</td>\n",
              "      <td>M041</td>\n",
              "      <td>Online</td>\n",
              "      <td>23</td>\n",
              "      <td>Student</td>\n",
              "      <td>19</td>\n",
              "      <td>1</td>\n",
              "      <td>1776.91</td>\n",
              "      <td>2024-11-04 08:12:22</td>\n",
              "    </tr>\n",
              "    <tr>\n",
              "      <th>2511</th>\n",
              "      <td>TX002512</td>\n",
              "      <td>AC00009</td>\n",
              "      <td>243.08</td>\n",
              "      <td>2023-02-14 16:21:23</td>\n",
              "      <td>Credit</td>\n",
              "      <td>Jacksonville</td>\n",
              "      <td>D000215</td>\n",
              "      <td>59.127.135.25</td>\n",
              "      <td>M041</td>\n",
              "      <td>Online</td>\n",
              "      <td>24</td>\n",
              "      <td>Student</td>\n",
              "      <td>93</td>\n",
              "      <td>1</td>\n",
              "      <td>131.25</td>\n",
              "      <td>2024-11-04 08:07:49</td>\n",
              "    </tr>\n",
              "  </tbody>\n",
              "</table>\n",
              "<p>2512 rows × 16 columns</p>\n",
              "</div>"
            ],
            "text/plain": [
              "     TransactionID AccountID  TransactionAmount      TransactionDate  \\\n",
              "0         TX000001   AC00128              14.09  2023-04-11 16:29:14   \n",
              "1         TX000002   AC00455             376.24  2023-06-27 16:44:19   \n",
              "2         TX000003   AC00019             126.29  2023-07-10 18:16:08   \n",
              "3         TX000004   AC00070             184.50  2023-05-05 16:32:11   \n",
              "4         TX000005   AC00411              13.45  2023-10-16 17:51:24   \n",
              "...            ...       ...                ...                  ...   \n",
              "2507      TX002508   AC00297             856.21  2023-04-26 17:09:36   \n",
              "2508      TX002509   AC00322             251.54  2023-03-22 17:36:48   \n",
              "2509      TX002510   AC00095              28.63  2023-08-21 17:08:50   \n",
              "2510      TX002511   AC00118             185.97  2023-02-24 16:24:46   \n",
              "2511      TX002512   AC00009             243.08  2023-02-14 16:21:23   \n",
              "\n",
              "     TransactionType          Location DeviceID      IP Address MerchantID  \\\n",
              "0              Debit         San Diego  D000380  162.198.218.92       M015   \n",
              "1              Debit           Houston  D000051     13.149.61.4       M052   \n",
              "2              Debit              Mesa  D000235  215.97.143.157       M009   \n",
              "3              Debit           Raleigh  D000187  200.13.225.150       M002   \n",
              "4             Credit           Atlanta  D000308    65.164.3.100       M091   \n",
              "...              ...               ...      ...             ...        ...   \n",
              "2507          Credit  Colorado Springs  D000625    21.157.41.17       M072   \n",
              "2508           Debit            Tucson  D000410  49.174.157.140       M029   \n",
              "2509           Debit         San Diego  D000095     58.1.27.124       M087   \n",
              "2510           Debit            Denver  D000634   21.190.11.223       M041   \n",
              "2511          Credit      Jacksonville  D000215   59.127.135.25       M041   \n",
              "\n",
              "     Channel  CustomerAge CustomerOccupation  TransactionDuration  \\\n",
              "0        ATM           70             Doctor                   81   \n",
              "1        ATM           68             Doctor                  141   \n",
              "2     Online           19            Student                   56   \n",
              "3     Online           26            Student                   25   \n",
              "4     Online           26            Student                  198   \n",
              "...      ...          ...                ...                  ...   \n",
              "2507  Branch           33             Doctor                  109   \n",
              "2508  Branch           48             Doctor                  177   \n",
              "2509  Branch           56            Retired                  146   \n",
              "2510  Online           23            Student                   19   \n",
              "2511  Online           24            Student                   93   \n",
              "\n",
              "      LoginAttempts  AccountBalance PreviousTransactionDate  \n",
              "0                 1         5112.21     2024-11-04 08:08:08  \n",
              "1                 1        13758.91     2024-11-04 08:09:35  \n",
              "2                 1         1122.35     2024-11-04 08:07:04  \n",
              "3                 1         8569.06     2024-11-04 08:09:06  \n",
              "4                 1         7429.40     2024-11-04 08:06:39  \n",
              "...             ...             ...                     ...  \n",
              "2507              1        12690.79     2024-11-04 08:11:29  \n",
              "2508              1          254.75     2024-11-04 08:11:42  \n",
              "2509              1         3382.91     2024-11-04 08:08:39  \n",
              "2510              1         1776.91     2024-11-04 08:12:22  \n",
              "2511              1          131.25     2024-11-04 08:07:49  \n",
              "\n",
              "[2512 rows x 16 columns]"
            ]
          },
          "execution_count": 68,
          "metadata": {},
          "output_type": "execute_result"
        }
      ],
      "source": [
        "df_transaction = pd.read_csv(\"Dataset_clustering.csv\")\n",
        "df_transaction"
      ]
    },
    {
      "cell_type": "markdown",
      "metadata": {
        "id": "bgZkbJLpK9UR"
      },
      "source": [
        "# **4. Exploratory Data Analysis (EDA)**\n",
        "\n",
        "Pada tahap ini, Anda akan melakukan **Exploratory Data Analysis (EDA)** untuk memahami karakteristik dataset. EDA bertujuan untuk:\n",
        "\n",
        "1. **Memahami Struktur Data**\n",
        "   - Tinjau jumlah baris dan kolom dalam dataset.  \n",
        "   - Tinjau jenis data di setiap kolom (numerikal atau kategorikal).\n",
        "\n",
        "2. **Menangani Data yang Hilang**  \n",
        "   - Identifikasi dan analisis data yang hilang (*missing values*). Tentukan langkah-langkah yang diperlukan untuk menangani data yang hilang, seperti pengisian atau penghapusan data tersebut.\n",
        "\n",
        "3. **Analisis Distribusi dan Korelasi**  \n",
        "   - Analisis distribusi variabel numerik dengan statistik deskriptif dan visualisasi seperti histogram atau boxplot.  \n",
        "   - Periksa hubungan antara variabel menggunakan matriks korelasi atau scatter plot.\n",
        "\n",
        "4. **Visualisasi Data**  \n",
        "   - Buat visualisasi dasar seperti grafik distribusi dan diagram batang untuk variabel kategorikal.  \n",
        "   - Gunakan heatmap atau pairplot untuk menganalisis korelasi antar variabel.\n",
        "\n",
        "Tujuan dari EDA adalah untuk memperoleh wawasan awal yang mendalam mengenai data dan menentukan langkah selanjutnya dalam analisis atau pemodelan."
      ]
    },
    {
      "cell_type": "markdown",
      "metadata": {},
      "source": [
        "### **4.1. Understanding Data Structures**"
      ]
    },
    {
      "cell_type": "code",
      "execution_count": 69,
      "metadata": {},
      "outputs": [
        {
          "data": {
            "text/html": [
              "<div>\n",
              "<style scoped>\n",
              "    .dataframe tbody tr th:only-of-type {\n",
              "        vertical-align: middle;\n",
              "    }\n",
              "\n",
              "    .dataframe tbody tr th {\n",
              "        vertical-align: top;\n",
              "    }\n",
              "\n",
              "    .dataframe thead th {\n",
              "        text-align: right;\n",
              "    }\n",
              "</style>\n",
              "<table border=\"1\" class=\"dataframe\">\n",
              "  <thead>\n",
              "    <tr style=\"text-align: right;\">\n",
              "      <th></th>\n",
              "      <th>TransactionAmount</th>\n",
              "      <th>CustomerAge</th>\n",
              "      <th>TransactionDuration</th>\n",
              "      <th>LoginAttempts</th>\n",
              "      <th>AccountBalance</th>\n",
              "    </tr>\n",
              "  </thead>\n",
              "  <tbody>\n",
              "    <tr>\n",
              "      <th>count</th>\n",
              "      <td>2512.000000</td>\n",
              "      <td>2512.000000</td>\n",
              "      <td>2512.000000</td>\n",
              "      <td>2512.000000</td>\n",
              "      <td>2512.000000</td>\n",
              "    </tr>\n",
              "    <tr>\n",
              "      <th>mean</th>\n",
              "      <td>297.593778</td>\n",
              "      <td>44.673965</td>\n",
              "      <td>119.643312</td>\n",
              "      <td>1.124602</td>\n",
              "      <td>5114.302966</td>\n",
              "    </tr>\n",
              "    <tr>\n",
              "      <th>std</th>\n",
              "      <td>291.946243</td>\n",
              "      <td>17.792198</td>\n",
              "      <td>69.963757</td>\n",
              "      <td>0.602662</td>\n",
              "      <td>3900.942499</td>\n",
              "    </tr>\n",
              "    <tr>\n",
              "      <th>min</th>\n",
              "      <td>0.260000</td>\n",
              "      <td>18.000000</td>\n",
              "      <td>10.000000</td>\n",
              "      <td>1.000000</td>\n",
              "      <td>101.250000</td>\n",
              "    </tr>\n",
              "    <tr>\n",
              "      <th>25%</th>\n",
              "      <td>81.885000</td>\n",
              "      <td>27.000000</td>\n",
              "      <td>63.000000</td>\n",
              "      <td>1.000000</td>\n",
              "      <td>1504.370000</td>\n",
              "    </tr>\n",
              "    <tr>\n",
              "      <th>50%</th>\n",
              "      <td>211.140000</td>\n",
              "      <td>45.000000</td>\n",
              "      <td>112.500000</td>\n",
              "      <td>1.000000</td>\n",
              "      <td>4735.510000</td>\n",
              "    </tr>\n",
              "    <tr>\n",
              "      <th>75%</th>\n",
              "      <td>414.527500</td>\n",
              "      <td>59.000000</td>\n",
              "      <td>161.000000</td>\n",
              "      <td>1.000000</td>\n",
              "      <td>7678.820000</td>\n",
              "    </tr>\n",
              "    <tr>\n",
              "      <th>max</th>\n",
              "      <td>1919.110000</td>\n",
              "      <td>80.000000</td>\n",
              "      <td>300.000000</td>\n",
              "      <td>5.000000</td>\n",
              "      <td>14977.990000</td>\n",
              "    </tr>\n",
              "  </tbody>\n",
              "</table>\n",
              "</div>"
            ],
            "text/plain": [
              "       TransactionAmount  CustomerAge  TransactionDuration  LoginAttempts  \\\n",
              "count        2512.000000  2512.000000          2512.000000    2512.000000   \n",
              "mean          297.593778    44.673965           119.643312       1.124602   \n",
              "std           291.946243    17.792198            69.963757       0.602662   \n",
              "min             0.260000    18.000000            10.000000       1.000000   \n",
              "25%            81.885000    27.000000            63.000000       1.000000   \n",
              "50%           211.140000    45.000000           112.500000       1.000000   \n",
              "75%           414.527500    59.000000           161.000000       1.000000   \n",
              "max          1919.110000    80.000000           300.000000       5.000000   \n",
              "\n",
              "       AccountBalance  \n",
              "count     2512.000000  \n",
              "mean      5114.302966  \n",
              "std       3900.942499  \n",
              "min        101.250000  \n",
              "25%       1504.370000  \n",
              "50%       4735.510000  \n",
              "75%       7678.820000  \n",
              "max      14977.990000  "
            ]
          },
          "execution_count": 69,
          "metadata": {},
          "output_type": "execute_result"
        }
      ],
      "source": [
        "df_transaction.describe()"
      ]
    },
    {
      "cell_type": "code",
      "execution_count": 70,
      "metadata": {},
      "outputs": [
        {
          "data": {
            "text/html": [
              "<div>\n",
              "<style scoped>\n",
              "    .dataframe tbody tr th:only-of-type {\n",
              "        vertical-align: middle;\n",
              "    }\n",
              "\n",
              "    .dataframe tbody tr th {\n",
              "        vertical-align: top;\n",
              "    }\n",
              "\n",
              "    .dataframe thead th {\n",
              "        text-align: right;\n",
              "    }\n",
              "</style>\n",
              "<table border=\"1\" class=\"dataframe\">\n",
              "  <thead>\n",
              "    <tr style=\"text-align: right;\">\n",
              "      <th></th>\n",
              "      <th>TransactionID</th>\n",
              "      <th>AccountID</th>\n",
              "      <th>TransactionDate</th>\n",
              "      <th>TransactionType</th>\n",
              "      <th>Location</th>\n",
              "      <th>DeviceID</th>\n",
              "      <th>IP Address</th>\n",
              "      <th>MerchantID</th>\n",
              "      <th>Channel</th>\n",
              "      <th>CustomerOccupation</th>\n",
              "      <th>PreviousTransactionDate</th>\n",
              "    </tr>\n",
              "  </thead>\n",
              "  <tbody>\n",
              "    <tr>\n",
              "      <th>count</th>\n",
              "      <td>2512</td>\n",
              "      <td>2512</td>\n",
              "      <td>2512</td>\n",
              "      <td>2512</td>\n",
              "      <td>2512</td>\n",
              "      <td>2512</td>\n",
              "      <td>2512</td>\n",
              "      <td>2512</td>\n",
              "      <td>2512</td>\n",
              "      <td>2512</td>\n",
              "      <td>2512</td>\n",
              "    </tr>\n",
              "    <tr>\n",
              "      <th>unique</th>\n",
              "      <td>2512</td>\n",
              "      <td>495</td>\n",
              "      <td>2512</td>\n",
              "      <td>2</td>\n",
              "      <td>43</td>\n",
              "      <td>681</td>\n",
              "      <td>592</td>\n",
              "      <td>100</td>\n",
              "      <td>3</td>\n",
              "      <td>4</td>\n",
              "      <td>360</td>\n",
              "    </tr>\n",
              "    <tr>\n",
              "      <th>top</th>\n",
              "      <td>TX000001</td>\n",
              "      <td>AC00362</td>\n",
              "      <td>2023-04-11 16:29:14</td>\n",
              "      <td>Debit</td>\n",
              "      <td>Fort Worth</td>\n",
              "      <td>D000697</td>\n",
              "      <td>200.136.146.93</td>\n",
              "      <td>M026</td>\n",
              "      <td>Branch</td>\n",
              "      <td>Student</td>\n",
              "      <td>2024-11-04 08:09:17</td>\n",
              "    </tr>\n",
              "    <tr>\n",
              "      <th>freq</th>\n",
              "      <td>1</td>\n",
              "      <td>12</td>\n",
              "      <td>1</td>\n",
              "      <td>1944</td>\n",
              "      <td>70</td>\n",
              "      <td>9</td>\n",
              "      <td>13</td>\n",
              "      <td>45</td>\n",
              "      <td>868</td>\n",
              "      <td>657</td>\n",
              "      <td>16</td>\n",
              "    </tr>\n",
              "  </tbody>\n",
              "</table>\n",
              "</div>"
            ],
            "text/plain": [
              "       TransactionID AccountID      TransactionDate TransactionType  \\\n",
              "count           2512      2512                 2512            2512   \n",
              "unique          2512       495                 2512               2   \n",
              "top         TX000001   AC00362  2023-04-11 16:29:14           Debit   \n",
              "freq               1        12                    1            1944   \n",
              "\n",
              "          Location DeviceID      IP Address MerchantID Channel  \\\n",
              "count         2512     2512            2512       2512    2512   \n",
              "unique          43      681             592        100       3   \n",
              "top     Fort Worth  D000697  200.136.146.93       M026  Branch   \n",
              "freq            70        9              13         45     868   \n",
              "\n",
              "       CustomerOccupation PreviousTransactionDate  \n",
              "count                2512                    2512  \n",
              "unique                  4                     360  \n",
              "top               Student     2024-11-04 08:09:17  \n",
              "freq                  657                      16  "
            ]
          },
          "execution_count": 70,
          "metadata": {},
          "output_type": "execute_result"
        }
      ],
      "source": [
        "df_transaction.describe(include='object')"
      ]
    },
    {
      "cell_type": "code",
      "execution_count": 71,
      "metadata": {},
      "outputs": [
        {
          "name": "stdout",
          "output_type": "stream",
          "text": [
            "<class 'pandas.core.frame.DataFrame'>\n",
            "RangeIndex: 2512 entries, 0 to 2511\n",
            "Data columns (total 16 columns):\n",
            " #   Column                   Non-Null Count  Dtype  \n",
            "---  ------                   --------------  -----  \n",
            " 0   TransactionID            2512 non-null   object \n",
            " 1   AccountID                2512 non-null   object \n",
            " 2   TransactionAmount        2512 non-null   float64\n",
            " 3   TransactionDate          2512 non-null   object \n",
            " 4   TransactionType          2512 non-null   object \n",
            " 5   Location                 2512 non-null   object \n",
            " 6   DeviceID                 2512 non-null   object \n",
            " 7   IP Address               2512 non-null   object \n",
            " 8   MerchantID               2512 non-null   object \n",
            " 9   Channel                  2512 non-null   object \n",
            " 10  CustomerAge              2512 non-null   int64  \n",
            " 11  CustomerOccupation       2512 non-null   object \n",
            " 12  TransactionDuration      2512 non-null   int64  \n",
            " 13  LoginAttempts            2512 non-null   int64  \n",
            " 14  AccountBalance           2512 non-null   float64\n",
            " 15  PreviousTransactionDate  2512 non-null   object \n",
            "dtypes: float64(2), int64(3), object(11)\n",
            "memory usage: 314.1+ KB\n"
          ]
        }
      ],
      "source": [
        "df_transaction.info()"
      ]
    },
    {
      "cell_type": "code",
      "execution_count": 72,
      "metadata": {},
      "outputs": [
        {
          "name": "stdout",
          "output_type": "stream",
          "text": [
            "Jumlah data df yang terdapat missing value:\n"
          ]
        },
        {
          "data": {
            "text/plain": [
              "TransactionID              0\n",
              "AccountID                  0\n",
              "TransactionAmount          0\n",
              "TransactionDate            0\n",
              "TransactionType            0\n",
              "Location                   0\n",
              "DeviceID                   0\n",
              "IP Address                 0\n",
              "MerchantID                 0\n",
              "Channel                    0\n",
              "CustomerAge                0\n",
              "CustomerOccupation         0\n",
              "TransactionDuration        0\n",
              "LoginAttempts              0\n",
              "AccountBalance             0\n",
              "PreviousTransactionDate    0\n",
              "dtype: int64"
            ]
          },
          "execution_count": 72,
          "metadata": {},
          "output_type": "execute_result"
        }
      ],
      "source": [
        "print(\"Jumlah data df yang terdapat missing value:\")\n",
        "df_transaction.isnull().sum()"
      ]
    },
    {
      "cell_type": "code",
      "execution_count": 73,
      "metadata": {},
      "outputs": [
        {
          "name": "stdout",
          "output_type": "stream",
          "text": [
            "Jumlah Duplikasi pada Data df_transaction: 0\n"
          ]
        }
      ],
      "source": [
        "print(\"Jumlah Duplikasi pada Data df_transaction:\", df_transaction.duplicated().sum())"
      ]
    },
    {
      "cell_type": "code",
      "execution_count": 74,
      "metadata": {},
      "outputs": [],
      "source": [
        "cate_col = []\n",
        "num_col = []\n",
        "\n",
        "for column in df_transaction.columns:\n",
        "    if df_transaction[column].dtype in ['object']:  # Jika tipe datanya object, maka kategorikal\n",
        "        cate_col.append(column)\n",
        "    elif df_transaction[column].dtype in ['int64', 'float64']:  # Jika tipe datanya numerik\n",
        "        num_col.append(column)"
      ]
    },
    {
      "cell_type": "code",
      "execution_count": 75,
      "metadata": {},
      "outputs": [],
      "source": [
        "df_numerical = df_transaction.select_dtypes(include='number')\n",
        "df_categorical = df_transaction.select_dtypes(include='object')"
      ]
    },
    {
      "cell_type": "code",
      "execution_count": 76,
      "metadata": {},
      "outputs": [
        {
          "name": "stdout",
          "output_type": "stream",
          "text": [
            "List Kolom Numerik: Index(['TransactionAmount', 'CustomerAge', 'TransactionDuration',\n",
            "       'LoginAttempts', 'AccountBalance'],\n",
            "      dtype='object')\n",
            "\n",
            "List Kolom Kategorikal: Index(['TransactionID', 'AccountID', 'TransactionDate', 'TransactionType',\n",
            "       'Location', 'DeviceID', 'IP Address', 'MerchantID', 'Channel',\n",
            "       'CustomerOccupation', 'PreviousTransactionDate'],\n",
            "      dtype='object')\n"
          ]
        }
      ],
      "source": [
        "print(\"List Kolom Numerik:\", df_numerical.columns)\n",
        "print(\"\\nList Kolom Kategorikal:\", df_categorical.columns)"
      ]
    },
    {
      "cell_type": "markdown",
      "metadata": {},
      "source": [
        "### **4.2. Numerical Features Analysis**"
      ]
    },
    {
      "cell_type": "code",
      "execution_count": 90,
      "metadata": {},
      "outputs": [
        {
          "name": "stdout",
          "output_type": "stream",
          "text": [
            "List Kolom Numerik: Index(['TransactionAmount', 'CustomerAge', 'TransactionDuration',\n",
            "       'LoginAttempts', 'AccountBalance'],\n",
            "      dtype='object')\n"
          ]
        }
      ],
      "source": [
        "print(\"List Kolom Numerik:\", df_numerical.columns)"
      ]
    },
    {
      "cell_type": "code",
      "execution_count": 101,
      "metadata": {},
      "outputs": [],
      "source": [
        "def plot_transaction_distribution(df, column_name):\n",
        "    \"\"\"\n",
        "    Menampilkan histogram dan boxplot dari fitur numerik tertentu dalam dataset.\n",
        "    \n",
        "    Parameters:\n",
        "        df (DataFrame): DataFrame yang berisi data transaksi.\n",
        "        column_name (str): Nama kolom numerik yang ingin divisualisasikan.\n",
        "    \"\"\"\n",
        "    # Palet warna\n",
        "    custom_palette = sns.color_palette(\"YlOrBr\", 3)\n",
        "    \n",
        "    # Membuat subplot dengan 1 baris dan 2 kolom\n",
        "    fig, axes = plt.subplots(1, 2, figsize=(12, 4))\n",
        "    \n",
        "    # Histogram\n",
        "    sns.histplot(df[column_name], bins=20, kde=True, color=custom_palette[1], ax=axes[0])\n",
        "    axes[0].set_title(f'Distribution of {column_name}')\n",
        "    axes[0].set_xlabel(column_name)\n",
        "    axes[0].set_ylabel('Frequency')\n",
        "    axes[0].set_axisbelow(True)\n",
        "    axes[0].grid(axis='y', color='gray', linestyle='--', linewidth=0.7)\n",
        "    \n",
        "    # Boxplot\n",
        "    sns.boxplot(x=df[column_name], color=custom_palette[2], ax=axes[1])\n",
        "    axes[1].set_title(f'Box Plot of {column_name}')\n",
        "    axes[1].set_xlabel(column_name)\n",
        "    axes[1].set_axisbelow(True)\n",
        "    axes[1].grid(axis='x', color='gray', linestyle='--', linewidth=0.7)\n",
        "    \n",
        "    # Menyesuaikan tata letak\n",
        "    plt.tight_layout()\n",
        "    plt.show()"
      ]
    },
    {
      "cell_type": "markdown",
      "metadata": {},
      "source": [
        "#### **4.2.1. Distribution `TransactionAmount`**"
      ]
    },
    {
      "cell_type": "code",
      "execution_count": 102,
      "metadata": {},
      "outputs": [
        {
          "data": {
            "image/png": "[encoded data removed]",
            "text/plain": [
              "<Figure size 1200x400 with 2 Axes>"
            ]
          },
          "metadata": {},
          "output_type": "display_data"
        },
        {
          "name": "stdout",
          "output_type": "stream",
          "text": [
            "\n",
            "Ringkasan Statistik Untuk TransactionAmount:\n",
            " count    2512.000000\n",
            "mean      297.593778\n",
            "std       291.946243\n",
            "min         0.260000\n",
            "25%        81.885000\n",
            "50%       211.140000\n",
            "75%       414.527500\n",
            "max      1919.110000\n",
            "Name: TransactionAmount, dtype: float64\n"
          ]
        }
      ],
      "source": [
        "plot_transaction_distribution(df_numerical, 'TransactionAmount')\n",
        "\n",
        "# Print summary statistics\n",
        "print(f'\\nRingkasan Statistik Untuk TransactionAmount:\\n', df_numerical['TransactionAmount'].describe())"
      ]
    },
    {
      "cell_type": "markdown",
      "metadata": {},
      "source": [
        "### **4.3. Correlation Each Variabel**"
      ]
    },
    {
      "cell_type": "code",
      "execution_count": 79,
      "metadata": {},
      "outputs": [
        {
          "data": {
            "image/png": "[encoded data removed]",
            "text/plain": [
              "<Figure size 1200x800 with 2 Axes>"
            ]
          },
          "metadata": {},
          "output_type": "display_data"
        }
      ],
      "source": [
        "fig, ax = plt.subplots(figsize=(12, 8))\n",
        "plt.title('Correlation Matrix of Numeric Features')\n",
        "\n",
        "sns.heatmap(df_numerical.corr(),\n",
        "            square = True,\n",
        "            fmt=\".2f\",\n",
        "            linewidths=0.5,\n",
        "            annot = True,\n",
        "            cmap=\"coolwarm\",\n",
        "            center=0)\n",
        "plt.show()"
      ]
    },
    {
      "cell_type": "markdown",
      "metadata": {
        "id": "cpgHfgnSK3ip"
      },
      "source": [
        "# **5. Data Preprocessing**"
      ]
    },
    {
      "cell_type": "markdown",
      "metadata": {
        "id": "COf8KUPXLg5r"
      },
      "source": [
        "Pada tahap ini, data preprocessing adalah langkah penting untuk memastikan kualitas data sebelum digunakan dalam model machine learning. Data mentah sering kali mengandung nilai kosong, duplikasi, atau rentang nilai yang tidak konsisten, yang dapat memengaruhi kinerja model. Oleh karena itu, proses ini bertujuan untuk membersihkan dan mempersiapkan data agar analisis berjalan optimal.\n",
        "\n",
        "Berikut adalah tahapan-tahapan yang bisa dilakukan, tetapi **tidak terbatas** pada:\n",
        "1. Menghapus atau Menangani Data Kosong (Missing Values)\n",
        "2. Menghapus Data Duplikat\n",
        "3. Normalisasi atau Standarisasi Fitur\n",
        "4. Deteksi dan Penanganan Outlier\n",
        "5. Encoding Data Kategorikal\n",
        "6. Binning (Pengelompokan Data)\n",
        "\n",
        "Cukup sesuaikan dengan karakteristik data yang kamu gunakan yah."
      ]
    },
    {
      "cell_type": "code",
      "execution_count": 80,
      "metadata": {
        "id": "WzBGjcbQM7N8"
      },
      "outputs": [],
      "source": [
        "#Type your code here"
      ]
    },
    {
      "cell_type": "markdown",
      "metadata": {
        "id": "BR73dCnrLEiq"
      },
      "source": [
        "# **6. Pembangunan Model Clustering**"
      ]
    },
    {
      "cell_type": "markdown",
      "metadata": {
        "id": "Fkd_QHXWMBDr"
      },
      "source": [
        "## **a. Pembangunan Model Clustering**"
      ]
    },
    {
      "cell_type": "markdown",
      "metadata": {
        "id": "Kn6Y2qbqMVLP"
      },
      "source": [
        "Pada tahap ini, Anda membangun model clustering dengan memilih algoritma yang sesuai untuk mengelompokkan data berdasarkan kesamaan. Berikut adalah **rekomendasi** tahapannya.\n",
        "1. Pilih algoritma clustering yang sesuai.\n",
        "2. Latih model dengan data menggunakan algoritma tersebut."
      ]
    },
    {
      "cell_type": "code",
      "execution_count": 81,
      "metadata": {
        "id": "hgYvwWOzM93L"
      },
      "outputs": [],
      "source": [
        "#Type your code here"
      ]
    },
    {
      "cell_type": "markdown",
      "metadata": {
        "id": "zsGVwzPKMEvn"
      },
      "source": [
        "## **b. Evaluasi Model Clustering**"
      ]
    },
    {
      "cell_type": "markdown",
      "metadata": {
        "id": "qk63ew39MeBf"
      },
      "source": [
        "Untuk menentukan jumlah cluster yang optimal dalam model clustering, Anda dapat menggunakan metode Elbow atau Silhouette Score.\n",
        "\n",
        "Metode ini membantu kita menemukan jumlah cluster yang memberikan pemisahan terbaik antar kelompok data, sehingga model yang dibangun dapat lebih efektif. Berikut adalah **rekomendasi** tahapannya.\n",
        "1. Gunakan Silhouette Score dan Elbow Method untuk menentukan jumlah cluster optimal.\n",
        "2. Hitung Silhouette Score sebagai ukuran kualitas cluster."
      ]
    },
    {
      "cell_type": "code",
      "execution_count": 82,
      "metadata": {
        "id": "yrPkK_bvM-Ya"
      },
      "outputs": [],
      "source": [
        "#Type your code here"
      ]
    },
    {
      "cell_type": "markdown",
      "metadata": {
        "id": "vWZp5vKNQddd"
      },
      "source": [
        "## **c. Feature Selection (Opsional)**"
      ]
    },
    {
      "cell_type": "markdown",
      "metadata": {
        "id": "QIHKgE07Q4c0"
      },
      "source": [
        "Silakan lakukan feature selection jika Anda membutuhkan optimasi model clustering. Jika Anda menerapkan proses ini, silakan lakukan pemodelan dan evaluasi kembali menggunakan kolom-kolom hasil feature selection. Terakhir, bandingkan hasil performa model sebelum dan sesudah menerapkan feature selection."
      ]
    },
    {
      "cell_type": "code",
      "execution_count": 83,
      "metadata": {
        "id": "Vbstha0PRUpI"
      },
      "outputs": [],
      "source": [
        "#Type your code here"
      ]
    },
    {
      "cell_type": "markdown",
      "metadata": {
        "id": "nn01TKkLLRiF"
      },
      "source": [
        "## **d. Visualisasi Hasil Clustering**"
      ]
    },
    {
      "cell_type": "markdown",
      "metadata": {
        "id": "gaz0fnhhMkRI"
      },
      "source": [
        "Setelah model clustering dilatih dan jumlah cluster optimal ditentukan, langkah selanjutnya adalah menampilkan hasil clustering melalui visualisasi.\n",
        "\n",
        "Berikut adalah **rekomendasi** tahapannya.\n",
        "1. Tampilkan hasil clustering dalam bentuk visualisasi, seperti grafik scatter plot atau 2D PCA projection."
      ]
    },
    {
      "cell_type": "code",
      "execution_count": 84,
      "metadata": {
        "id": "lfOjVvfYM-4v"
      },
      "outputs": [],
      "source": [
        "#Type your code here"
      ]
    },
    {
      "cell_type": "markdown",
      "metadata": {
        "id": "X4eydPWJLH4I"
      },
      "source": [
        "## **e. Analisis dan Interpretasi Hasil Cluster**"
      ]
    },
    {
      "cell_type": "markdown",
      "metadata": {
        "id": "mxTeTkTkA7o6"
      },
      "source": [
        "### Interpretasi Target"
      ]
    },
    {
      "cell_type": "markdown",
      "metadata": {
        "id": "NJDsBARmIsbW"
      },
      "source": [
        "**Tutorial: Melakukan Inverse Transform pada Data Target Setelah Clustering**\n",
        "\n",
        "Setelah melakukan clustering dengan model **KMeans**, kita perlu mengembalikan data yang telah diubah (normalisasi, standarisasi, atau label encoding) ke bentuk aslinya. Berikut adalah langkah-langkahnya.\n",
        "\n",
        "---\n",
        "\n",
        "**1. Tambahkan Hasil Label Cluster ke DataFrame**\n",
        "Setelah mendapatkan hasil clustering, kita tambahkan label cluster ke dalam DataFrame yang telah dinormalisasi.\n",
        "\n",
        "```python\n",
        "df_normalized['Cluster'] = model_kmeans.labels_\n",
        "```\n",
        "\n",
        "Lakukan Inverse Transform pada feature yang sudah dilakukan Labelisasi dan Standararisasi. Berikut code untuk melakukannya:\n",
        "label_encoder.inverse_transform(X_Selected[['Fitur']])\n",
        "\n",
        "Lalu masukkan ke dalam kolom dataset asli atau membuat dataframe baru\n",
        "```python\n",
        "df_normalized['Fitur'] = label_encoder.inverse_transform(df_normalized[['Fitur']])\n",
        "```\n",
        "Masukkan Data yang Sudah Di-Inverse ke dalam Dataset Asli atau Buat DataFrame Baru\n",
        "```python\n",
        "df_original['Fitur'] = df_normalized['Fitur']\n",
        "```"
      ]
    },
    {
      "cell_type": "code",
      "execution_count": 85,
      "metadata": {
        "id": "ySc78cHdOiaQ"
      },
      "outputs": [],
      "source": [
        "# Type your code here\n"
      ]
    },
    {
      "cell_type": "markdown",
      "metadata": {
        "id": "vITTtdoT_fIF"
      },
      "source": [
        "### Inverse Data Jika Melakukan Normalisasi/Standardisasi"
      ]
    },
    {
      "cell_type": "markdown",
      "metadata": {
        "id": "bUGkyAvnKRrk"
      },
      "source": [
        "Inverse Transform untuk Data yang Distandarisasi\n",
        "Jika data numerik telah dinormalisasi menggunakan StandardScaler atau MinMaxScaler, kita bisa mengembalikannya ke skala asli:\n",
        "```python\n",
        "df_normalized[['Fitur_Numerik']] = scaler.inverse_transform(df_normalized[['Fitur_Numerik']])\n",
        "```"
      ]
    },
    {
      "cell_type": "code",
      "execution_count": 86,
      "metadata": {
        "id": "aIGQ_6wKGbVz"
      },
      "outputs": [],
      "source": [
        "# Type your code here"
      ]
    },
    {
      "cell_type": "markdown",
      "metadata": {
        "id": "SENfLnfRMpC-"
      },
      "source": [
        "Setelah melakukan clustering, langkah selanjutnya adalah menganalisis karakteristik dari masing-masing cluster berdasarkan fitur yang tersedia.\n",
        "\n",
        "Berikut adalah **rekomendasi** tahapannya.\n",
        "1. Analisis karakteristik tiap cluster berdasarkan fitur yang tersedia (misalnya, distribusi nilai dalam cluster).\n",
        "2. Berikan interpretasi: Apakah hasil clustering sesuai dengan ekspektasi dan logika bisnis? Apakah ada pola tertentu yang bisa dimanfaatkan?"
      ]
    },
    {
      "cell_type": "code",
      "execution_count": 87,
      "metadata": {
        "id": "MFq0x-OzM_Wt"
      },
      "outputs": [],
      "source": [
        "# Type your code here"
      ]
    },
    {
      "cell_type": "markdown",
      "metadata": {
        "id": "JfgVMEBDS3KG"
      },
      "source": [
        "Tulis hasil interpretasinya di sini.\n",
        "1. Cluster 1:\n",
        "2. Cluster 2:\n",
        "3. Cluster 3:"
      ]
    },
    {
      "cell_type": "markdown",
      "metadata": {
        "id": "hOygRVqs_vdU"
      },
      "source": [
        "# Contoh interpretasi [TEMPLATE]\n",
        "# Analisis Karakteristik Cluster dari Model KMeans\n",
        "\n",
        "Berikut adalah analisis karakteristik untuk setiap cluster yang dihasilkan dari model KMeans.\n",
        "\n",
        "## Cluster 1:\n",
        "- **Rata-rata Annual Income (k$):** 48,260  \n",
        "- **Rata-rata Spending Score (1-100):** 56.48  \n",
        "- **Analisis:** Cluster ini mencakup pelanggan dengan pendapatan tahunan menengah dan tingkat pengeluaran yang cukup tinggi. Pelanggan dalam cluster ini cenderung memiliki daya beli yang moderat dan mereka lebih cenderung untuk membelanjakan sebagian besar pendapatan mereka.\n",
        "\n",
        "## Cluster 2:\n",
        "- **Rata-rata Annual Income (k$):** 86,540  \n",
        "- **Rata-rata Spending Score (1-100):** 82.13  \n",
        "- **Analisis:** Cluster ini menunjukkan pelanggan dengan pendapatan tahunan tinggi dan pengeluaran yang sangat tinggi. Pelanggan di cluster ini merupakan kelompok premium dengan daya beli yang kuat dan cenderung mengeluarkan uang dalam jumlah besar untuk produk atau layanan.\n",
        "\n",
        "## Cluster 3:\n",
        "- **Rata-rata Annual Income (k$):** 87,000  \n",
        "- **Rata-rata Spending Score (1-100):** 18.63  \n",
        "- **Analisis:** Cluster ini terdiri dari pelanggan dengan pendapatan tahunan yang tinggi tetapi pengeluaran yang rendah. Mereka mungkin memiliki kapasitas finansial yang baik namun tidak terlalu aktif dalam berbelanja. Ini bisa menunjukkan bahwa mereka lebih selektif dalam pengeluaran mereka atau mungkin lebih cenderung untuk menyimpan uang."
      ]
    },
    {
      "cell_type": "markdown",
      "metadata": {
        "id": "jaYP1fx5VgWO"
      },
      "source": [
        "# **7. Mengeksport Data**\n",
        "\n",
        "Simpan hasilnya ke dalam file CSV."
      ]
    },
    {
      "cell_type": "code",
      "execution_count": null,
      "metadata": {
        "id": "fkbg_o80aRSH"
      },
      "outputs": [],
      "source": []
    }
  ],
  "metadata": {
    "colab": {
      "provenance": []
    },
    "kernelspec": {
      "display_name": "datascience",
      "language": "python",
      "name": "python3"
    },
    "language_info": {
      "codemirror_mode": {
        "name": "ipython",
        "version": 3
      },
      "file_extension": ".py",
      "mimetype": "text/x-python",
      "name": "python",
      "nbconvert_exporter": "python",
      "pygments_lexer": "ipython3",
      "version": "3.12.2"
    }
  },
  "nbformat": 4,
  "nbformat_minor": 0
}
