{
  "cells": [
    {
      "cell_type": "markdown",
      "metadata": {
        "id": "fKADPWcFKlj3"
      },
      "source": [
        "# **1. Import Library** (FIX)"
      ]
    },
    {
      "cell_type": "markdown",
      "metadata": {
        "id": "LgA3ERnVn84N"
      },
      "source": [
        "Pada tahap ini, kita akan mengimpor beberapa pustaka (library) Python yang diperlukan untuk melakukan analisis data serta membangun model machine learning. Pustaka ini mencakup berbagai fungsi, mulai dari manipulasi data, visualisasi, hingga pembangunan model machine learning."
      ]
    },
    {
      "cell_type": "code",
      "execution_count": 2,
      "metadata": {
        "id": "BlmvjLY9M4Yj"
      },
      "outputs": [],
      "source": [
        "# Import library untuk manipulasi dan visualisasi Data\n",
        "import pandas as pd  # Untuk mengelola dan menganalisis data dalam bentuk DataFrame\n",
        "import numpy as np\n",
        "import seaborn as sns  # Untuk visualisasi data yang lebih informatif\n",
        "import matplotlib.pyplot as plt  # Untuk membuat grafik dan plot\n",
        "\n",
        "# Import library untuk preprocessing data\n",
        "from sklearn.model_selection import train_test_split, RandomizedSearchCV\n",
        "from sklearn.preprocessing import LabelEncoder, MinMaxScaler\n",
        "\n",
        "# Import library untuk membangun model machine learning\n",
        "from sklearn.ensemble import RandomForestClassifier\n",
        "from sklearn.linear_model import LogisticRegression\n",
        "from sklearn.tree import DecisionTreeClassifier\n",
        "\n",
        "# Import library untuk evaluasi model\n",
        "from sklearn.metrics import confusion_matrix, classification_report"
      ]
    },
    {
      "cell_type": "markdown",
      "metadata": {
        "id": "f3YIEnAFKrKL"
      },
      "source": [
        "# **2. Memuat Dataset dari Hasil Clustering** (FIX)"
      ]
    },
    {
      "cell_type": "markdown",
      "metadata": {
        "id": "Ey3ItwTen_7E"
      },
      "source": [
        "Pada tahap ini, Kita perlu memuat dataset ke dalam notebook dalam format CSV dengan menggunakan pustaka `pandas` untuk membacanya. Kita akan mengecek beberapa baris awal dataset untuk memahami struktur datanya."
      ]
    },
    {
      "cell_type": "code",
      "execution_count": 3,
      "metadata": {
        "id": "GHCGNTyrM5fS"
      },
      "outputs": [
        {
          "data": {
            "text/html": [
              "<div>\n",
              "<style scoped>\n",
              "    .dataframe tbody tr th:only-of-type {\n",
              "        vertical-align: middle;\n",
              "    }\n",
              "\n",
              "    .dataframe tbody tr th {\n",
              "        vertical-align: top;\n",
              "    }\n",
              "\n",
              "    .dataframe thead th {\n",
              "        text-align: right;\n",
              "    }\n",
              "</style>\n",
              "<table border=\"1\" class=\"dataframe\">\n",
              "  <thead>\n",
              "    <tr style=\"text-align: right;\">\n",
              "      <th></th>\n",
              "      <th>Order_ID</th>\n",
              "      <th>Customer_ID</th>\n",
              "      <th>Customer_Type</th>\n",
              "      <th>Product</th>\n",
              "      <th>Category</th>\n",
              "      <th>Unit_Price</th>\n",
              "      <th>Quantity</th>\n",
              "      <th>Discount</th>\n",
              "      <th>Total_Price</th>\n",
              "      <th>Region</th>\n",
              "      <th>Order_Date</th>\n",
              "      <th>Quantity_Category</th>\n",
              "      <th>Discount_Category</th>\n",
              "      <th>Cluster</th>\n",
              "    </tr>\n",
              "  </thead>\n",
              "  <tbody>\n",
              "    <tr>\n",
              "      <th>0</th>\n",
              "      <td>ORD697566</td>\n",
              "      <td>CUS6363</td>\n",
              "      <td>B2C</td>\n",
              "      <td>Coca-Cola</td>\n",
              "      <td>Soft Drinks</td>\n",
              "      <td>1.04</td>\n",
              "      <td>7.0</td>\n",
              "      <td>0.00</td>\n",
              "      <td>7.28</td>\n",
              "      <td>Bremen</td>\n",
              "      <td>2021-02-17</td>\n",
              "      <td>Medium</td>\n",
              "      <td>Low</td>\n",
              "      <td>2</td>\n",
              "    </tr>\n",
              "    <tr>\n",
              "      <th>1</th>\n",
              "      <td>ORD1118443</td>\n",
              "      <td>CUS7797</td>\n",
              "      <td>B2B</td>\n",
              "      <td>Selters</td>\n",
              "      <td>Water</td>\n",
              "      <td>0.71</td>\n",
              "      <td>46.0</td>\n",
              "      <td>0.10</td>\n",
              "      <td>29.39</td>\n",
              "      <td>Sachsen-Anhalt</td>\n",
              "      <td>2023-04-15</td>\n",
              "      <td>High</td>\n",
              "      <td>Low</td>\n",
              "      <td>0</td>\n",
              "    </tr>\n",
              "    <tr>\n",
              "      <th>2</th>\n",
              "      <td>ORD1437128</td>\n",
              "      <td>CUS6393</td>\n",
              "      <td>B2B</td>\n",
              "      <td>Monster</td>\n",
              "      <td>Soft Drinks</td>\n",
              "      <td>2.68</td>\n",
              "      <td>30.0</td>\n",
              "      <td>0.05</td>\n",
              "      <td>76.38</td>\n",
              "      <td>Schleswig-Holstein</td>\n",
              "      <td>2021-09-07</td>\n",
              "      <td>High</td>\n",
              "      <td>Low</td>\n",
              "      <td>2</td>\n",
              "    </tr>\n",
              "    <tr>\n",
              "      <th>3</th>\n",
              "      <td>ORD562794</td>\n",
              "      <td>CUS4090</td>\n",
              "      <td>B2C</td>\n",
              "      <td>San Pellegrino</td>\n",
              "      <td>Water</td>\n",
              "      <td>0.91</td>\n",
              "      <td>3.0</td>\n",
              "      <td>0.00</td>\n",
              "      <td>2.73</td>\n",
              "      <td>Hessen</td>\n",
              "      <td>2023-04-28</td>\n",
              "      <td>Low</td>\n",
              "      <td>Low</td>\n",
              "      <td>0</td>\n",
              "    </tr>\n",
              "    <tr>\n",
              "      <th>4</th>\n",
              "      <td>ORD2320519</td>\n",
              "      <td>CUS5936</td>\n",
              "      <td>B2C</td>\n",
              "      <td>Beck's</td>\n",
              "      <td>Alcoholic Beverages</td>\n",
              "      <td>1.41</td>\n",
              "      <td>4.0</td>\n",
              "      <td>0.00</td>\n",
              "      <td>5.64</td>\n",
              "      <td>Bremen</td>\n",
              "      <td>2023-11-01</td>\n",
              "      <td>Low</td>\n",
              "      <td>Low</td>\n",
              "      <td>3</td>\n",
              "    </tr>\n",
              "    <tr>\n",
              "      <th>...</th>\n",
              "      <td>...</td>\n",
              "      <td>...</td>\n",
              "      <td>...</td>\n",
              "      <td>...</td>\n",
              "      <td>...</td>\n",
              "      <td>...</td>\n",
              "      <td>...</td>\n",
              "      <td>...</td>\n",
              "      <td>...</td>\n",
              "      <td>...</td>\n",
              "      <td>...</td>\n",
              "      <td>...</td>\n",
              "      <td>...</td>\n",
              "      <td>...</td>\n",
              "    </tr>\n",
              "    <tr>\n",
              "      <th>3771</th>\n",
              "      <td>ORD326977</td>\n",
              "      <td>CUS6058</td>\n",
              "      <td>B2C</td>\n",
              "      <td>Volvic</td>\n",
              "      <td>Water</td>\n",
              "      <td>0.57</td>\n",
              "      <td>14.0</td>\n",
              "      <td>0.00</td>\n",
              "      <td>7.98</td>\n",
              "      <td>Thüringen</td>\n",
              "      <td>2022-05-16</td>\n",
              "      <td>High</td>\n",
              "      <td>Low</td>\n",
              "      <td>0</td>\n",
              "    </tr>\n",
              "    <tr>\n",
              "      <th>3772</th>\n",
              "      <td>ORD2103635</td>\n",
              "      <td>CUS7837</td>\n",
              "      <td>B2C</td>\n",
              "      <td>Mango Juice</td>\n",
              "      <td>Juices</td>\n",
              "      <td>3.12</td>\n",
              "      <td>3.0</td>\n",
              "      <td>0.00</td>\n",
              "      <td>9.36</td>\n",
              "      <td>Nordrhein-Westfalen</td>\n",
              "      <td>2021-10-30</td>\n",
              "      <td>Low</td>\n",
              "      <td>Low</td>\n",
              "      <td>1</td>\n",
              "    </tr>\n",
              "    <tr>\n",
              "      <th>3773</th>\n",
              "      <td>ORD927122</td>\n",
              "      <td>CUS1898</td>\n",
              "      <td>B2C</td>\n",
              "      <td>Vio Wasser</td>\n",
              "      <td>Water</td>\n",
              "      <td>1.71</td>\n",
              "      <td>3.0</td>\n",
              "      <td>0.00</td>\n",
              "      <td>5.13</td>\n",
              "      <td>Niedersachsen</td>\n",
              "      <td>2023-08-23</td>\n",
              "      <td>Low</td>\n",
              "      <td>Low</td>\n",
              "      <td>0</td>\n",
              "    </tr>\n",
              "    <tr>\n",
              "      <th>3774</th>\n",
              "      <td>ORD1092734</td>\n",
              "      <td>CUS3026</td>\n",
              "      <td>B2C</td>\n",
              "      <td>Mango Juice</td>\n",
              "      <td>Juices</td>\n",
              "      <td>3.12</td>\n",
              "      <td>2.0</td>\n",
              "      <td>0.00</td>\n",
              "      <td>6.24</td>\n",
              "      <td>Schleswig-Holstein</td>\n",
              "      <td>2021-06-30</td>\n",
              "      <td>Low</td>\n",
              "      <td>Low</td>\n",
              "      <td>1</td>\n",
              "    </tr>\n",
              "    <tr>\n",
              "      <th>3775</th>\n",
              "      <td>ORD608896</td>\n",
              "      <td>CUS1577</td>\n",
              "      <td>B2C</td>\n",
              "      <td>Cranberry Juice</td>\n",
              "      <td>Juices</td>\n",
              "      <td>3.67</td>\n",
              "      <td>15.0</td>\n",
              "      <td>0.00</td>\n",
              "      <td>55.05</td>\n",
              "      <td>Bayern</td>\n",
              "      <td>2023-04-18</td>\n",
              "      <td>High</td>\n",
              "      <td>Low</td>\n",
              "      <td>1</td>\n",
              "    </tr>\n",
              "  </tbody>\n",
              "</table>\n",
              "<p>3776 rows × 14 columns</p>\n",
              "</div>"
            ],
            "text/plain": [
              "        Order_ID Customer_ID Customer_Type          Product  \\\n",
              "0      ORD697566     CUS6363           B2C        Coca-Cola   \n",
              "1     ORD1118443     CUS7797           B2B          Selters   \n",
              "2     ORD1437128     CUS6393           B2B          Monster   \n",
              "3      ORD562794     CUS4090           B2C   San Pellegrino   \n",
              "4     ORD2320519     CUS5936           B2C           Beck's   \n",
              "...          ...         ...           ...              ...   \n",
              "3771   ORD326977     CUS6058           B2C           Volvic   \n",
              "3772  ORD2103635     CUS7837           B2C      Mango Juice   \n",
              "3773   ORD927122     CUS1898           B2C       Vio Wasser   \n",
              "3774  ORD1092734     CUS3026           B2C      Mango Juice   \n",
              "3775   ORD608896     CUS1577           B2C  Cranberry Juice   \n",
              "\n",
              "                 Category  Unit_Price  Quantity  Discount  Total_Price  \\\n",
              "0             Soft Drinks        1.04       7.0      0.00         7.28   \n",
              "1                   Water        0.71      46.0      0.10        29.39   \n",
              "2             Soft Drinks        2.68      30.0      0.05        76.38   \n",
              "3                   Water        0.91       3.0      0.00         2.73   \n",
              "4     Alcoholic Beverages        1.41       4.0      0.00         5.64   \n",
              "...                   ...         ...       ...       ...          ...   \n",
              "3771                Water        0.57      14.0      0.00         7.98   \n",
              "3772               Juices        3.12       3.0      0.00         9.36   \n",
              "3773                Water        1.71       3.0      0.00         5.13   \n",
              "3774               Juices        3.12       2.0      0.00         6.24   \n",
              "3775               Juices        3.67      15.0      0.00        55.05   \n",
              "\n",
              "                   Region  Order_Date Quantity_Category Discount_Category  \\\n",
              "0                  Bremen  2021-02-17            Medium               Low   \n",
              "1          Sachsen-Anhalt  2023-04-15              High               Low   \n",
              "2      Schleswig-Holstein  2021-09-07              High               Low   \n",
              "3                  Hessen  2023-04-28               Low               Low   \n",
              "4                  Bremen  2023-11-01               Low               Low   \n",
              "...                   ...         ...               ...               ...   \n",
              "3771            Thüringen  2022-05-16              High               Low   \n",
              "3772  Nordrhein-Westfalen  2021-10-30               Low               Low   \n",
              "3773        Niedersachsen  2023-08-23               Low               Low   \n",
              "3774   Schleswig-Holstein  2021-06-30               Low               Low   \n",
              "3775               Bayern  2023-04-18              High               Low   \n",
              "\n",
              "      Cluster  \n",
              "0           2  \n",
              "1           0  \n",
              "2           2  \n",
              "3           0  \n",
              "4           3  \n",
              "...       ...  \n",
              "3771        0  \n",
              "3772        1  \n",
              "3773        0  \n",
              "3774        1  \n",
              "3775        1  \n",
              "\n",
              "[3776 rows x 14 columns]"
            ]
          },
          "execution_count": 3,
          "metadata": {},
          "output_type": "execute_result"
        }
      ],
      "source": [
        "df_sales_cleaned = pd.read_csv('Dataset_klasifikasi.csv')\n",
        "df_sales_cleaned"
      ]
    },
    {
      "cell_type": "markdown",
      "metadata": {
        "id": "KkPem5eWL2UP"
      },
      "source": [
        "# **3. Data Splitting** (FIX)"
      ]
    },
    {
      "cell_type": "markdown",
      "metadata": {},
      "source": [
        "Pertama-tama kita akan membersihkan dataset agar dataset hanya berisi informasi yang relevan dan tidak mengandung duplikasi yang dapat memengaruhi analisis. Pada tahap ini, terdapat beberapa kolom yang kurang relevan, seperti Order_ID dan Customer_ID, yang tidak memberikan kontribusi signifikan dalam analisis. Selain itu, kolom seperti Order_Date, Quantity_Category, dan Discount_Category juga dihapus karena tidak diperlukan dalam pemodelan."
      ]
    },
    {
      "cell_type": "code",
      "execution_count": 4,
      "metadata": {},
      "outputs": [],
      "source": [
        "df_sales_cleaned = df_sales_cleaned.drop(columns=['Order_ID','Customer_ID','Order_Date','Quantity_Category','Discount_Category'])"
      ]
    },
    {
      "cell_type": "markdown",
      "metadata": {},
      "source": [
        "Untuk menghindari bias akibat data yang berulang, dilakukan penghapusan duplikasi. Hal ini bertujuan agar setiap baris dalam dataset merepresentasikan informasi yang unik, sehingga model dapat belajar dari pola yang beragam tanpa dipengaruhi oleh data yang berulang."
      ]
    },
    {
      "cell_type": "code",
      "execution_count": 5,
      "metadata": {
        "id": "OubAW-7ONKVj"
      },
      "outputs": [],
      "source": [
        "df_sales_cleaned = df_sales_cleaned.drop_duplicates(ignore_index=True)"
      ]
    },
    {
      "cell_type": "markdown",
      "metadata": {},
      "source": [
        "Cek kembali data setelah dilakukan penghapusan duplikasi dengan menggunakan method info()."
      ]
    },
    {
      "cell_type": "code",
      "execution_count": 6,
      "metadata": {},
      "outputs": [
        {
          "name": "stdout",
          "output_type": "stream",
          "text": [
            "<class 'pandas.core.frame.DataFrame'>\n",
            "RangeIndex: 3619 entries, 0 to 3618\n",
            "Data columns (total 9 columns):\n",
            " #   Column         Non-Null Count  Dtype  \n",
            "---  ------         --------------  -----  \n",
            " 0   Customer_Type  3619 non-null   object \n",
            " 1   Product        3619 non-null   object \n",
            " 2   Category       3619 non-null   object \n",
            " 3   Unit_Price     3619 non-null   float64\n",
            " 4   Quantity       3619 non-null   float64\n",
            " 5   Discount       3619 non-null   float64\n",
            " 6   Total_Price    3619 non-null   float64\n",
            " 7   Region         3619 non-null   object \n",
            " 8   Cluster        3619 non-null   int64  \n",
            "dtypes: float64(4), int64(1), object(4)\n",
            "memory usage: 254.6+ KB\n"
          ]
        }
      ],
      "source": [
        "df_sales_cleaned.info()"
      ]
    },
    {
      "cell_type": "markdown",
      "metadata": {},
      "source": [
        "Setelah proses ini, dataset menjadi lebih ringkas dan hanya berisi kolom-kolom yang diperlukan untuk analisis lebih lanjut. Tidak ada lagi duplikasi yang dapat mempengaruhi hasil pemodelan. Tahap ini penting untuk memastikan bahwa model yang akan dibangun dapat melakukan generalisasi dengan baik terhadap data baru."
      ]
    },
    {
      "cell_type": "markdown",
      "metadata": {},
      "source": [
        "Langkah penting yang harus dilakukan adalah memisahkan dataset menjadi features (X) dan target (y). Dalam konteks ini, features merupakan variabel independen yang akan digunakan oleh model untuk melakukan prediksi, sedangkan target adalah variabel dependen yang menjadi output dari model."
      ]
    },
    {
      "cell_type": "markdown",
      "metadata": {},
      "source": [
        "Pada dataset ini, kolom 'Cluster' adalah label atau target yang ingin diprediksi, sehingga perlu dipisahkan dari dataset utama. Sementara itu, kolom lainnya akan menjadi fitur yang digunakan dalam analisis."
      ]
    },
    {
      "cell_type": "code",
      "execution_count": 7,
      "metadata": {},
      "outputs": [
        {
          "data": {
            "text/html": [
              "<div>\n",
              "<style scoped>\n",
              "    .dataframe tbody tr th:only-of-type {\n",
              "        vertical-align: middle;\n",
              "    }\n",
              "\n",
              "    .dataframe tbody tr th {\n",
              "        vertical-align: top;\n",
              "    }\n",
              "\n",
              "    .dataframe thead th {\n",
              "        text-align: right;\n",
              "    }\n",
              "</style>\n",
              "<table border=\"1\" class=\"dataframe\">\n",
              "  <thead>\n",
              "    <tr style=\"text-align: right;\">\n",
              "      <th></th>\n",
              "      <th>Customer_Type</th>\n",
              "      <th>Product</th>\n",
              "      <th>Category</th>\n",
              "      <th>Unit_Price</th>\n",
              "      <th>Quantity</th>\n",
              "      <th>Discount</th>\n",
              "      <th>Total_Price</th>\n",
              "      <th>Region</th>\n",
              "    </tr>\n",
              "  </thead>\n",
              "  <tbody>\n",
              "    <tr>\n",
              "      <th>0</th>\n",
              "      <td>B2C</td>\n",
              "      <td>Coca-Cola</td>\n",
              "      <td>Soft Drinks</td>\n",
              "      <td>1.04</td>\n",
              "      <td>7.0</td>\n",
              "      <td>0.00</td>\n",
              "      <td>7.28</td>\n",
              "      <td>Bremen</td>\n",
              "    </tr>\n",
              "    <tr>\n",
              "      <th>1</th>\n",
              "      <td>B2B</td>\n",
              "      <td>Selters</td>\n",
              "      <td>Water</td>\n",
              "      <td>0.71</td>\n",
              "      <td>46.0</td>\n",
              "      <td>0.10</td>\n",
              "      <td>29.39</td>\n",
              "      <td>Sachsen-Anhalt</td>\n",
              "    </tr>\n",
              "    <tr>\n",
              "      <th>2</th>\n",
              "      <td>B2B</td>\n",
              "      <td>Monster</td>\n",
              "      <td>Soft Drinks</td>\n",
              "      <td>2.68</td>\n",
              "      <td>30.0</td>\n",
              "      <td>0.05</td>\n",
              "      <td>76.38</td>\n",
              "      <td>Schleswig-Holstein</td>\n",
              "    </tr>\n",
              "    <tr>\n",
              "      <th>3</th>\n",
              "      <td>B2C</td>\n",
              "      <td>San Pellegrino</td>\n",
              "      <td>Water</td>\n",
              "      <td>0.91</td>\n",
              "      <td>3.0</td>\n",
              "      <td>0.00</td>\n",
              "      <td>2.73</td>\n",
              "      <td>Hessen</td>\n",
              "    </tr>\n",
              "    <tr>\n",
              "      <th>4</th>\n",
              "      <td>B2C</td>\n",
              "      <td>Beck's</td>\n",
              "      <td>Alcoholic Beverages</td>\n",
              "      <td>1.41</td>\n",
              "      <td>4.0</td>\n",
              "      <td>0.00</td>\n",
              "      <td>5.64</td>\n",
              "      <td>Bremen</td>\n",
              "    </tr>\n",
              "  </tbody>\n",
              "</table>\n",
              "</div>"
            ],
            "text/plain": [
              "  Customer_Type         Product             Category  Unit_Price  Quantity  \\\n",
              "0           B2C       Coca-Cola          Soft Drinks        1.04       7.0   \n",
              "1           B2B         Selters                Water        0.71      46.0   \n",
              "2           B2B         Monster          Soft Drinks        2.68      30.0   \n",
              "3           B2C  San Pellegrino                Water        0.91       3.0   \n",
              "4           B2C          Beck's  Alcoholic Beverages        1.41       4.0   \n",
              "\n",
              "   Discount  Total_Price              Region  \n",
              "0      0.00         7.28              Bremen  \n",
              "1      0.10        29.39      Sachsen-Anhalt  \n",
              "2      0.05        76.38  Schleswig-Holstein  \n",
              "3      0.00         2.73              Hessen  \n",
              "4      0.00         5.64              Bremen  "
            ]
          },
          "execution_count": 7,
          "metadata": {},
          "output_type": "execute_result"
        }
      ],
      "source": [
        "X = df_sales_cleaned.drop(columns=['Cluster'])\n",
        "y = df_sales_cleaned['Cluster']\n",
        "\n",
        "# Tampilkan lima baris pertama dari fitur\n",
        "X.head()"
      ]
    },
    {
      "cell_type": "markdown",
      "metadata": {},
      "source": [
        "Setelah proses ini, dataset terbagi menjadi dua bagian:\n",
        "- X (Fitur): Berisi seluruh kolom kecuali 'Cluster', yang akan digunakan sebagai input dalam model.\n",
        "- y (Target): Berisi hanya kolom 'Cluster', yang akan menjadi label atau hasil prediksi model.\n",
        "\n",
        "Tahap ini penting untuk memastikan bahwa model hanya belajar dari informasi yang relevan tanpa kebocoran data dari target."
      ]
    },
    {
      "cell_type": "markdown",
      "metadata": {},
      "source": [
        "Kita perlu memastikan bahwa data numerik memiliki skala yang seragam. Salah satu metode yang umum digunakan untuk ini adalah normalisasi.\n",
        "\n",
        "Dalam dataset ini, terdapat beberapa kolom numerik dengan rentang nilai yang berbeda. Jika tidak dinormalisasi, model dapat memberikan bobot yang lebih besar pada fitur dengan nilai lebih tinggi, yang dapat menyebabkan bias dalam proses pelatihan. Oleh karena itu, kita akan menggunakan MinMaxScaler dari sklearn.preprocessing untuk menormalisasi semua kolom numerik ke dalam rentang 0 hingga 1."
      ]
    },
    {
      "cell_type": "code",
      "execution_count": 8,
      "metadata": {},
      "outputs": [
        {
          "data": {
            "text/html": [
              "<div>\n",
              "<style scoped>\n",
              "    .dataframe tbody tr th:only-of-type {\n",
              "        vertical-align: middle;\n",
              "    }\n",
              "\n",
              "    .dataframe tbody tr th {\n",
              "        vertical-align: top;\n",
              "    }\n",
              "\n",
              "    .dataframe thead th {\n",
              "        text-align: right;\n",
              "    }\n",
              "</style>\n",
              "<table border=\"1\" class=\"dataframe\">\n",
              "  <thead>\n",
              "    <tr style=\"text-align: right;\">\n",
              "      <th></th>\n",
              "      <th>Customer_Type</th>\n",
              "      <th>Product</th>\n",
              "      <th>Category</th>\n",
              "      <th>Unit_Price</th>\n",
              "      <th>Quantity</th>\n",
              "      <th>Discount</th>\n",
              "      <th>Total_Price</th>\n",
              "      <th>Region</th>\n",
              "    </tr>\n",
              "  </thead>\n",
              "  <tbody>\n",
              "    <tr>\n",
              "      <th>0</th>\n",
              "      <td>B2C</td>\n",
              "      <td>Coca-Cola</td>\n",
              "      <td>Soft Drinks</td>\n",
              "      <td>0.119658</td>\n",
              "      <td>0.093750</td>\n",
              "      <td>0.0</td>\n",
              "      <td>0.045157</td>\n",
              "      <td>Bremen</td>\n",
              "    </tr>\n",
              "    <tr>\n",
              "      <th>1</th>\n",
              "      <td>B2B</td>\n",
              "      <td>Selters</td>\n",
              "      <td>Water</td>\n",
              "      <td>0.063248</td>\n",
              "      <td>0.703125</td>\n",
              "      <td>1.0</td>\n",
              "      <td>0.189856</td>\n",
              "      <td>Sachsen-Anhalt</td>\n",
              "    </tr>\n",
              "    <tr>\n",
              "      <th>2</th>\n",
              "      <td>B2B</td>\n",
              "      <td>Monster</td>\n",
              "      <td>Soft Drinks</td>\n",
              "      <td>0.400000</td>\n",
              "      <td>0.453125</td>\n",
              "      <td>0.5</td>\n",
              "      <td>0.497382</td>\n",
              "      <td>Schleswig-Holstein</td>\n",
              "    </tr>\n",
              "    <tr>\n",
              "      <th>3</th>\n",
              "      <td>B2C</td>\n",
              "      <td>San Pellegrino</td>\n",
              "      <td>Water</td>\n",
              "      <td>0.097436</td>\n",
              "      <td>0.031250</td>\n",
              "      <td>0.0</td>\n",
              "      <td>0.015380</td>\n",
              "      <td>Hessen</td>\n",
              "    </tr>\n",
              "    <tr>\n",
              "      <th>4</th>\n",
              "      <td>B2C</td>\n",
              "      <td>Beck's</td>\n",
              "      <td>Alcoholic Beverages</td>\n",
              "      <td>0.182906</td>\n",
              "      <td>0.046875</td>\n",
              "      <td>0.0</td>\n",
              "      <td>0.034424</td>\n",
              "      <td>Bremen</td>\n",
              "    </tr>\n",
              "  </tbody>\n",
              "</table>\n",
              "</div>"
            ],
            "text/plain": [
              "  Customer_Type         Product             Category  Unit_Price  Quantity  \\\n",
              "0           B2C       Coca-Cola          Soft Drinks    0.119658  0.093750   \n",
              "1           B2B         Selters                Water    0.063248  0.703125   \n",
              "2           B2B         Monster          Soft Drinks    0.400000  0.453125   \n",
              "3           B2C  San Pellegrino                Water    0.097436  0.031250   \n",
              "4           B2C          Beck's  Alcoholic Beverages    0.182906  0.046875   \n",
              "\n",
              "   Discount  Total_Price              Region  \n",
              "0       0.0     0.045157              Bremen  \n",
              "1       1.0     0.189856      Sachsen-Anhalt  \n",
              "2       0.5     0.497382  Schleswig-Holstein  \n",
              "3       0.0     0.015380              Hessen  \n",
              "4       0.0     0.034424              Bremen  "
            ]
          },
          "execution_count": 8,
          "metadata": {},
          "output_type": "execute_result"
        }
      ],
      "source": [
        "# Buat instance MinMaxScaler\n",
        "scaler = MinMaxScaler()\n",
        "\n",
        "# Normalisasi semua kolom numerik\n",
        "numeric_columns = X.select_dtypes(include=['int64', 'float64']).columns\n",
        "X[numeric_columns] = scaler.fit_transform(X[numeric_columns])\n",
        "\n",
        "# Tampilkan lima baris pertama setelah normalisasi\n",
        "X.head()"
      ]
    },
    {
      "cell_type": "markdown",
      "metadata": {},
      "source": [
        "Setelah proses ini, semua kolom numerik dalam dataset telah diubah ke skala 0 hingga 1, yang memastikan bahwa tidak ada fitur yang mendominasi model karena perbedaan skala. Dengan data yang telah dinormalisasi, model yang akan kita gunakan nantinya dapat bekerja lebih optimal dan menghasilkan prediksi yang lebih akurat."
      ]
    },
    {
      "cell_type": "markdown",
      "metadata": {},
      "source": [
        "Dataset yang kita gunakan mengandung beberapa fitur kategorikal, yaitu kolom yang berisi nilai dalam bentuk teks atau kategori. Namun, model machine learning tidak dapat bekerja langsung dengan data kategorikal, sehingga kita perlu mengonversinya ke bentuk numerik."
      ]
    },
    {
      "cell_type": "markdown",
      "metadata": {},
      "source": [
        "Salah satu metode yang umum digunakan untuk encoding data kategorikal adalah Label Encoding, yang mengubah setiap kategori dalam suatu fitur menjadi angka unik. Ini berguna ketika kategori memiliki hubungan ordinal atau saat kita ingin menggunakan model yang tidak sensitif terhadap skala nilai, seperti tree-based models (misalnya, Random Forest dan Decision Tree)."
      ]
    },
    {
      "cell_type": "markdown",
      "metadata": {},
      "source": [
        "Dalam tahap ini, kita akan menerapkan Label Encoding menggunakan LabelEncoder dari sklearn.preprocessing untuk mengonversi semua kolom kategorikal ke dalam format numerik."
      ]
    },
    {
      "cell_type": "code",
      "execution_count": 9,
      "metadata": {},
      "outputs": [
        {
          "data": {
            "text/html": [
              "<div>\n",
              "<style scoped>\n",
              "    .dataframe tbody tr th:only-of-type {\n",
              "        vertical-align: middle;\n",
              "    }\n",
              "\n",
              "    .dataframe tbody tr th {\n",
              "        vertical-align: top;\n",
              "    }\n",
              "\n",
              "    .dataframe thead th {\n",
              "        text-align: right;\n",
              "    }\n",
              "</style>\n",
              "<table border=\"1\" class=\"dataframe\">\n",
              "  <thead>\n",
              "    <tr style=\"text-align: right;\">\n",
              "      <th></th>\n",
              "      <th>Customer_Type</th>\n",
              "      <th>Product</th>\n",
              "      <th>Category</th>\n",
              "      <th>Unit_Price</th>\n",
              "      <th>Quantity</th>\n",
              "      <th>Discount</th>\n",
              "      <th>Total_Price</th>\n",
              "      <th>Region</th>\n",
              "    </tr>\n",
              "  </thead>\n",
              "  <tbody>\n",
              "    <tr>\n",
              "      <th>0</th>\n",
              "      <td>1</td>\n",
              "      <td>5</td>\n",
              "      <td>2</td>\n",
              "      <td>0.119658</td>\n",
              "      <td>0.093750</td>\n",
              "      <td>0.0</td>\n",
              "      <td>0.045157</td>\n",
              "      <td>4</td>\n",
              "    </tr>\n",
              "    <tr>\n",
              "      <th>1</th>\n",
              "      <td>0</td>\n",
              "      <td>32</td>\n",
              "      <td>3</td>\n",
              "      <td>0.063248</td>\n",
              "      <td>0.703125</td>\n",
              "      <td>1.0</td>\n",
              "      <td>0.189856</td>\n",
              "      <td>13</td>\n",
              "    </tr>\n",
              "    <tr>\n",
              "      <th>2</th>\n",
              "      <td>0</td>\n",
              "      <td>20</td>\n",
              "      <td>2</td>\n",
              "      <td>0.400000</td>\n",
              "      <td>0.453125</td>\n",
              "      <td>0.5</td>\n",
              "      <td>0.497382</td>\n",
              "      <td>14</td>\n",
              "    </tr>\n",
              "    <tr>\n",
              "      <th>3</th>\n",
              "      <td>1</td>\n",
              "      <td>29</td>\n",
              "      <td>3</td>\n",
              "      <td>0.097436</td>\n",
              "      <td>0.031250</td>\n",
              "      <td>0.0</td>\n",
              "      <td>0.015380</td>\n",
              "      <td>6</td>\n",
              "    </tr>\n",
              "    <tr>\n",
              "      <th>4</th>\n",
              "      <td>1</td>\n",
              "      <td>2</td>\n",
              "      <td>0</td>\n",
              "      <td>0.182906</td>\n",
              "      <td>0.046875</td>\n",
              "      <td>0.0</td>\n",
              "      <td>0.034424</td>\n",
              "      <td>4</td>\n",
              "    </tr>\n",
              "  </tbody>\n",
              "</table>\n",
              "</div>"
            ],
            "text/plain": [
              "   Customer_Type  Product  Category  Unit_Price  Quantity  Discount  \\\n",
              "0              1        5         2    0.119658  0.093750       0.0   \n",
              "1              0       32         3    0.063248  0.703125       1.0   \n",
              "2              0       20         2    0.400000  0.453125       0.5   \n",
              "3              1       29         3    0.097436  0.031250       0.0   \n",
              "4              1        2         0    0.182906  0.046875       0.0   \n",
              "\n",
              "   Total_Price  Region  \n",
              "0     0.045157       4  \n",
              "1     0.189856      13  \n",
              "2     0.497382      14  \n",
              "3     0.015380       6  \n",
              "4     0.034424       4  "
            ]
          },
          "execution_count": 9,
          "metadata": {},
          "output_type": "execute_result"
        }
      ],
      "source": [
        "# Buat instance LabelEncoder\n",
        "encoder = LabelEncoder()\n",
        "\n",
        "# Melakukan encoding pada kolom kategorikal\n",
        "categorical_columns = X.select_dtypes(include=['object']).columns\n",
        "for column in categorical_columns:\n",
        "    X[column] = encoder.fit_transform(X[column])\n",
        "\n",
        "# Tampilkan lima baris pertama setelah encoding\n",
        "X.head()"
      ]
    },
    {
      "cell_type": "markdown",
      "metadata": {},
      "source": [
        "Setelah semua fitur numerik telah dinormalisasi dan fitur kategorikal telah dikonversi menjadi format numerik menggunakan Label Encoding, langkah selanjutnya adalah membagi dataset menjadi training set dan test set.\n",
        "\n",
        "Proses ini penting untuk mengevaluasi performa model machine learning. Dengan memisahkan sebagian data untuk pengujian, kita dapat mengukur bagaimana model akan bekerja pada data yang belum pernah dilihat sebelumnya.\n",
        "\n",
        "Dalam pembagian ini:\n",
        "- Training set (X_train, y_train) digunakan untuk melatih model.\n",
        "- Test set (X_test, y_test) digunakan untuk mengevaluasi kinerja model setelah pelatihan."
      ]
    },
    {
      "cell_type": "code",
      "execution_count": 10,
      "metadata": {},
      "outputs": [
        {
          "name": "stdout",
          "output_type": "stream",
          "text": [
            "Training set shape: X_train=(2895, 8), y_train=(2895,)\n",
            "Test set shape: X_test=(724, 8), y_test=(724,)\n"
          ]
        }
      ],
      "source": [
        "# Split data menjadi set pelatihan dan set uji\n",
        "X_train, X_test, y_train, y_test = train_test_split(X, y, test_size=0.2, random_state=69)\n",
        "\n",
        "# Tampilkan bentuk set pelatihan dan set uji untuk memastikan split\n",
        "print(f\"Training set shape: X_train={X_train.shape}, y_train={y_train.shape}\")\n",
        "print(f\"Test set shape: X_test={X_test.shape}, y_test={y_test.shape}\")"
      ]
    },
    {
      "cell_type": "markdown",
      "metadata": {},
      "source": [
        "Hasil dari X_train.shape dan X_test.shape menunjukkan jumlah sampel dan fitur dalam masing-masing set, sehingga kita dapat memastikan bahwa pemisahan dilakukan dengan benar."
      ]
    },
    {
      "cell_type": "markdown",
      "metadata": {
        "id": "IVPbB03CMhTT"
      },
      "source": [
        "# **4. Membangun Model Klasifikasi**\n"
      ]
    },
    {
      "cell_type": "markdown",
      "metadata": {
        "id": "Ned1pL9zMmBK"
      },
      "source": [
        "### **4.1. Membangun Model Klasifikasi** (FIX)"
      ]
    },
    {
      "cell_type": "markdown",
      "metadata": {
        "id": "WAWzPOE4Nkti"
      },
      "source": [
        "Setelah memilih algoritma klasifikasi yang sesuai, langkah selanjutnya adalah melatih model menggunakan data latih.\n",
        "\n",
        "Berikut adalah rekomendasi tahapannya.\n",
        "1. Pilih algoritma klasifikasi yang sesuai, seperti Logistic Regression, Decision Tree, Random Forest, atau K-Nearest Neighbors (KNN).\n",
        "2. Latih model menggunakan data latih.\n",
        "\n",
        "---"
      ]
    },
    {
      "cell_type": "markdown",
      "metadata": {},
      "source": [
        "Setelah data dibersihkan, dikonversi, dinormalisasi, dan dibagi menjadi training set dan test set, langkah selanjutnya adalah melatih model machine learning.\n",
        "\n",
        "Pada tahap ini, kita akan menggunakan tiga model berbeda untuk melakukan klasifikasi:\n",
        "- Random Forest Classifier – Model berbasis ensemble yang menggunakan banyak pohon keputusan untuk meningkatkan akurasi dan mengurangi overfitting.\n",
        "- Logistic Regression – Model statistik yang sering digunakan untuk klasifikasi biner maupun multiklas.\n",
        "- Decision Tree Classifier – Model berbasis aturan yang membuat keputusan berdasarkan fitur dalam bentuk pohon.\n",
        "\n",
        "Ketiga model akan dilatih menggunakan training set (X_train, y_train) agar dapat mempelajari pola dari data. Seluruh model menggunakan random_state=69 untuk memastikan hasil yang konsisten setiap kali kode dijalankan."
      ]
    },
    {
      "cell_type": "code",
      "execution_count": 11,
      "metadata": {
        "id": "4JYxBe87NLDk"
      },
      "outputs": [
        {
          "name": "stdout",
          "output_type": "stream",
          "text": [
            "Model training selesai.\n"
          ]
        }
      ],
      "source": [
        "# Melatih model dengan training set\n",
        "log_reg = LogisticRegression(max_iter=1000, random_state=69).fit(X_train, y_train)\n",
        "dt = DecisionTreeClassifier(max_depth=5, random_state=69).fit(X_train, y_train)\n",
        "rf = RandomForestClassifier(random_state=69).fit(X_train, y_train)\n",
        "\n",
        "print(\"Model training selesai.\")"
      ]
    },
    {
      "cell_type": "markdown",
      "metadata": {
        "id": "seYoHNY3XU1y"
      },
      "source": [
        "Setelah proses pelatihan selesai, ketiga model kini telah terlatih dengan training set dan siap untuk dievaluasi menggunakan test set (X_test)."
      ]
    },
    {
      "cell_type": "markdown",
      "metadata": {
        "id": "ergzChZFEL-O"
      },
      "source": [
        "### **4.2. Evaluasi Model Klasifikasi** (FIX)"
      ]
    },
    {
      "cell_type": "markdown",
      "metadata": {
        "id": "zOm68u-7NpLT"
      },
      "source": [
        "Berikut adalah **rekomendasi** tahapannya.\n",
        "1. Lakukan prediksi menggunakan data uji.\n",
        "2. Hitung metrik evaluasi seperti Accuracy dan F1-Score (Opsional: Precision dan Recall).\n",
        "3. Buat confusion matrix untuk melihat detail prediksi benar dan salah.\n",
        "\n",
        "---"
      ]
    },
    {
      "cell_type": "markdown",
      "metadata": {},
      "source": [
        "Setelah melatih model, langkah berikutnya adalah mengevaluasi kinerjanya. Salah satu cara yang paling umum digunakan dalam klasifikasi adalah Confusion Matrix.\n",
        "\n",
        "Confusion Matrix adalah tabel yang menunjukkan jumlah prediksi benar dan salah untuk setiap kelas dalam data uji. Matriks ini membantu dalam memahami kesalahan klasifikasi dan pola distribusi prediksi model.\n",
        "\n",
        "Pada tahap ini, kita akan membuat fungsi plot_confusion_matrix() untuk menampilkan confusion matrix dalam bentuk heatmap yang lebih mudah dianalisis."
      ]
    },
    {
      "cell_type": "code",
      "execution_count": 12,
      "metadata": {},
      "outputs": [],
      "source": [
        "def plot_confusion_matrix(y_true, y_pred, model_name=\"Model\"):\n",
        "    \"\"\"\n",
        "    Fungsi untuk menampilkan confusion matrix dengan heatmap.\n",
        "    \n",
        "    Parameters:\n",
        "    - y_true: array-like, label asli\n",
        "    - y_pred: array-like, label hasil prediksi\n",
        "    - model_name: str, nama model yang akan ditampilkan di judul grafik\n",
        "    \"\"\"\n",
        "    unique_labels = sorted(set(y_true))  # Ambil label unik untuk sumbu x dan y\n",
        "    cm = confusion_matrix(y_true, y_pred)  # Hitung confusion matrix\n",
        "    \n",
        "    plt.figure(figsize=(12, 8))\n",
        "    sns.heatmap(cm, annot=True, fmt='d', cmap='YlOrBr', cbar=False, linewidths=0.5, center=0,\n",
        "                xticklabels=unique_labels,\n",
        "                yticklabels=unique_labels)\n",
        "    \n",
        "    plt.xlabel('Predicted Labels')\n",
        "    plt.ylabel('Actual Labels')\n",
        "    plt.title(f'Confusion Matrix - {model_name}')\n",
        "    plt.show()"
      ]
    },
    {
      "cell_type": "markdown",
      "metadata": {},
      "source": [
        "Selanjutnya kita akan mengevaluasi kinerja model yang telah dilatih sebelumnya. Salah satu cara terbaik untuk mengevaluasi model klasifikasi adalah dengan menggunakan Classification Report dari Scikit-Learn.\n",
        "\n",
        "Classification Report memberikan metrik utama seperti:\n",
        "- Precision – Seberapa banyak prediksi positif yang benar dibandingkan keseluruhan prediksi positif.\n",
        "- Recall – Seberapa banyak sampel positif yang benar-benar terdeteksi oleh model.\n",
        "- F1-score – Rata-rata harmonik antara precision dan recall.\n",
        "- Support – Jumlah sampel sebenarnya di setiap kelas."
      ]
    },
    {
      "cell_type": "markdown",
      "metadata": {},
      "source": [
        "#### -- **Model Logistic Regression**"
      ]
    },
    {
      "cell_type": "markdown",
      "metadata": {},
      "source": [
        "Kita akan menggunakan classification_report() untuk menganalisis performa model Logistic Regression terhadap data uji."
      ]
    },
    {
      "cell_type": "code",
      "execution_count": 13,
      "metadata": {},
      "outputs": [
        {
          "name": "stdout",
          "output_type": "stream",
          "text": [
            "Logistic Regression Classification Report:\n",
            "               precision    recall  f1-score   support\n",
            "\n",
            "           0    1.00000   1.00000   1.00000       215\n",
            "           1    1.00000   1.00000   1.00000       200\n",
            "           2    1.00000   1.00000   1.00000       192\n",
            "           3    1.00000   1.00000   1.00000       117\n",
            "\n",
            "    accuracy                        1.00000       724\n",
            "   macro avg    1.00000   1.00000   1.00000       724\n",
            "weighted avg    1.00000   1.00000   1.00000       724\n",
            "\n"
          ]
        }
      ],
      "source": [
        "log_reg_pred = log_reg.predict(X_test)\n",
        "print(\"Logistic Regression Classification Report:\\n\", classification_report(y_test, log_reg_pred, digits=5))"
      ]
    },
    {
      "cell_type": "markdown",
      "metadata": {},
      "source": [
        "**Insight:**\n",
        "- Skor 1.000 pada semua metrik (Precision, Recall, F1-score) menunjukkan bahwa model memperoleh prediksi sempurna pada data uji.\n",
        "- Tidak ada kesalahan klasifikasi, yang berarti tidak ada false positives atau false negatives dalam hasil prediksi."
      ]
    },
    {
      "cell_type": "markdown",
      "metadata": {},
      "source": [
        "Untuk melihat apakah model Logistic Regression dapat mengklasifikasikan dengan baik, kita cukup memanggil fungsi plot_confusion_matrix() dengan parameter y_test dan y_pred."
      ]
    },
    {
      "cell_type": "code",
      "execution_count": 14,
      "metadata": {},
      "outputs": [
        {
          "data": {
            "image/png": "[encoded data removed]",
            "text/plain": [
              "<Figure size 1200x800 with 1 Axes>"
            ]
          },
          "metadata": {},
          "output_type": "display_data"
        }
      ],
      "source": [
        "plot_confusion_matrix(y_test, log_reg_pred, model_name=\"Logistic Regression\")"
      ]
    },
    {
      "cell_type": "markdown",
      "metadata": {},
      "source": [
        "#### -- **Model Decision Tree**"
      ]
    },
    {
      "cell_type": "markdown",
      "metadata": {},
      "source": [
        "Kita akan menggunakan classification_report() untuk menganalisis performa model Decision Tree terhadap data uji."
      ]
    },
    {
      "cell_type": "code",
      "execution_count": 15,
      "metadata": {},
      "outputs": [
        {
          "name": "stdout",
          "output_type": "stream",
          "text": [
            "Decision Tree Classification Report:\n",
            "               precision    recall  f1-score   support\n",
            "\n",
            "           0    1.00000   1.00000   1.00000       215\n",
            "           1    1.00000   1.00000   1.00000       200\n",
            "           2    1.00000   1.00000   1.00000       192\n",
            "           3    1.00000   1.00000   1.00000       117\n",
            "\n",
            "    accuracy                        1.00000       724\n",
            "   macro avg    1.00000   1.00000   1.00000       724\n",
            "weighted avg    1.00000   1.00000   1.00000       724\n",
            "\n"
          ]
        }
      ],
      "source": [
        "dt_pred = dt.predict(X_test)\n",
        "print(\"Decision Tree Classification Report:\\n\", classification_report(y_test, dt_pred, digits=5))"
      ]
    },
    {
      "cell_type": "markdown",
      "metadata": {},
      "source": [
        "Untuk melihat apakah model Decision Tree dapat mengklasifikasikan dengan baik, kita cukup memanggil fungsi plot_confusion_matrix() dengan parameter y_test dan y_pred."
      ]
    },
    {
      "cell_type": "code",
      "execution_count": 16,
      "metadata": {},
      "outputs": [
        {
          "data": {
            "image/png": "[encoded data removed]",
            "text/plain": [
              "<Figure size 1200x800 with 1 Axes>"
            ]
          },
          "metadata": {},
          "output_type": "display_data"
        }
      ],
      "source": [
        "plot_confusion_matrix(y_test, dt_pred, model_name=\"Decision Tree\")"
      ]
    },
    {
      "cell_type": "markdown",
      "metadata": {},
      "source": [
        "#### -- **Model Random Forest**"
      ]
    },
    {
      "cell_type": "markdown",
      "metadata": {},
      "source": [
        "Kita akan menggunakan classification_report() untuk menganalisis performa model Random Forest terhadap data uji."
      ]
    },
    {
      "cell_type": "code",
      "execution_count": 17,
      "metadata": {},
      "outputs": [
        {
          "name": "stdout",
          "output_type": "stream",
          "text": [
            "Random Forest Classification Report:\n",
            "               precision    recall  f1-score   support\n",
            "\n",
            "           0    1.00000   1.00000   1.00000       215\n",
            "           1    1.00000   1.00000   1.00000       200\n",
            "           2    1.00000   1.00000   1.00000       192\n",
            "           3    1.00000   1.00000   1.00000       117\n",
            "\n",
            "    accuracy                        1.00000       724\n",
            "   macro avg    1.00000   1.00000   1.00000       724\n",
            "weighted avg    1.00000   1.00000   1.00000       724\n",
            "\n"
          ]
        }
      ],
      "source": [
        "rf_y_pred = rf.predict(X_test)\n",
        "print(\"Random Forest Classification Report:\\n\", classification_report(y_test, rf_y_pred, digits=5))"
      ]
    },
    {
      "cell_type": "markdown",
      "metadata": {},
      "source": [
        "Untuk melihat apakah model Random Forest dapat mengklasifikasikan dengan baik, kita cukup memanggil fungsi plot_confusion_matrix() dengan parameter y_test dan y_pred."
      ]
    },
    {
      "cell_type": "code",
      "execution_count": 18,
      "metadata": {},
      "outputs": [
        {
          "data": {
            "image/png": "[encoded data removed]",
            "text/plain": [
              "<Figure size 1200x800 with 1 Axes>"
            ]
          },
          "metadata": {},
          "output_type": "display_data"
        }
      ],
      "source": [
        "plot_confusion_matrix(y_test, rf_y_pred, model_name=\"Random Forest\")"
      ]
    },
    {
      "cell_type": "markdown",
      "metadata": {},
      "source": [
        "#### -- **Rangkuman Hasil Evaluasi**"
      ]
    },
    {
      "cell_type": "code",
      "execution_count": 19,
      "metadata": {},
      "outputs": [
        {
          "data": {
            "text/html": [
              "<div>\n",
              "<style scoped>\n",
              "    .dataframe tbody tr th:only-of-type {\n",
              "        vertical-align: middle;\n",
              "    }\n",
              "\n",
              "    .dataframe tbody tr th {\n",
              "        vertical-align: top;\n",
              "    }\n",
              "\n",
              "    .dataframe thead th {\n",
              "        text-align: right;\n",
              "    }\n",
              "</style>\n",
              "<table border=\"1\" class=\"dataframe\">\n",
              "  <thead>\n",
              "    <tr style=\"text-align: right;\">\n",
              "      <th></th>\n",
              "      <th>Model</th>\n",
              "      <th>Accuracy</th>\n",
              "      <th>Precision</th>\n",
              "      <th>Recall</th>\n",
              "      <th>F1-Score</th>\n",
              "    </tr>\n",
              "  </thead>\n",
              "  <tbody>\n",
              "    <tr>\n",
              "      <th>0</th>\n",
              "      <td>Logistic Regression</td>\n",
              "      <td>1.0</td>\n",
              "      <td>1.0</td>\n",
              "      <td>1.0</td>\n",
              "      <td>1.0</td>\n",
              "    </tr>\n",
              "    <tr>\n",
              "      <th>1</th>\n",
              "      <td>Decision Tree</td>\n",
              "      <td>1.0</td>\n",
              "      <td>1.0</td>\n",
              "      <td>1.0</td>\n",
              "      <td>1.0</td>\n",
              "    </tr>\n",
              "    <tr>\n",
              "      <th>2</th>\n",
              "      <td>Random Forest</td>\n",
              "      <td>1.0</td>\n",
              "      <td>1.0</td>\n",
              "      <td>1.0</td>\n",
              "      <td>1.0</td>\n",
              "    </tr>\n",
              "  </tbody>\n",
              "</table>\n",
              "</div>"
            ],
            "text/plain": [
              "                 Model  Accuracy  Precision  Recall  F1-Score\n",
              "0  Logistic Regression       1.0        1.0     1.0       1.0\n",
              "1        Decision Tree       1.0        1.0     1.0       1.0\n",
              "2        Random Forest       1.0        1.0     1.0       1.0"
            ]
          },
          "execution_count": 19,
          "metadata": {},
          "output_type": "execute_result"
        }
      ],
      "source": [
        "# Calculate classification reports for both models\n",
        "log_reg_report = classification_report(y_test, log_reg_pred, digits=5, output_dict=True)\n",
        "dt_report = classification_report(y_test, dt_pred, digits=5, output_dict=True)\n",
        "rf_report = classification_report(y_test, rf_y_pred, digits=5, output_dict=True)\n",
        "\n",
        "# Extract relevant metrics (accuracy, precision, recall, F1 score)\n",
        "metrics = {\n",
        "    'Model': ['Logistic Regression', 'Decision Tree', 'Random Forest'],\n",
        "    'Accuracy': [log_reg_report['accuracy'], dt_report['accuracy'], rf_report['accuracy']],\n",
        "    'Precision': [\n",
        "        log_reg_report['weighted avg']['precision'], \n",
        "        dt_report['weighted avg']['precision'], \n",
        "        rf_report['weighted avg']['precision']\n",
        "    ],\n",
        "    'Recall': [\n",
        "        log_reg_report['weighted avg']['recall'], \n",
        "        dt_report['weighted avg']['recall'], \n",
        "        rf_report['weighted avg']['recall']\n",
        "    ],\n",
        "    'F1-Score': [\n",
        "        log_reg_report['weighted avg']['f1-score'], \n",
        "        dt_report['weighted avg']['f1-score'], \n",
        "        rf_report['weighted avg']['f1-score']\n",
        "    ]\n",
        "}\n",
        "\n",
        "# Create a DataFrame\n",
        "df = pd.DataFrame(metrics)\n",
        "\n",
        "df"
      ]
    },
    {
      "cell_type": "markdown",
      "metadata": {
        "id": "H4_9OwrsXZlz"
      },
      "source": [
        "Berdasarkan rangkuman hasil evaluasi pada ketiga algoritma diatas, menunjukkan bahwa model Logistic Regression, Decision Tree, dan Random Forest memiliki akurasi sempurna dalam klasifikasi data uji. Berikut ini terdapat insight yang bisa kita ambil:\n",
        "- Tidak ada kesalahan klasifikasi. Semua prediksi berada di diagonal utama (dari kiri atas ke kanan bawah). Tidak ada nilai selain nol di luar diagonal utama, yang berarti tidak ada instance yang salah diklasifikasikan. Hal ini menunjukkan bahwa model tidak membuat kesalahan sama sekali dalam memprediksi kelas dari data uji."
      ]
    },
    {
      "cell_type": "markdown",
      "metadata": {
        "id": "ph9yIYDXEPuB"
      },
      "source": [
        "### **4.3. Tuning Model Klasifikasi (Optional)** (FIX)"
      ]
    },
    {
      "cell_type": "markdown",
      "metadata": {
        "id": "-Bikx3LINv5e"
      },
      "source": [
        "Gunakan GridSearchCV, RandomizedSearchCV, atau metode lainnya untuk mencari kombinasi hyperparameter terbaik\n",
        "\n",
        "---"
      ]
    },
    {
      "cell_type": "markdown",
      "metadata": {},
      "source": [
        "Dalam proses pengembangan model Machine Learning, pemilihan hyperparameter yang optimal sangat penting untuk mendapatkan kinerja terbaik. Hyperparameter adalah parameter yang ditentukan sebelum pelatihan model dan tidak dipelajari dari data. Oleh karena itu, kita harus melakukan pencarian hyperparameter terbaik menggunakan metode seperti  Randomized Search."
      ]
    },
    {
      "cell_type": "markdown",
      "metadata": {},
      "source": [
        "#### -- **Tentukan Hyperparameter**"
      ]
    },
    {
      "cell_type": "markdown",
      "metadata": {},
      "source": [
        "Pada implementasi ini, kita mendefinisikan hyperparameter space untuk tiga model klasifikasi utama: Logistic Regression, Decision Tree, dan Random Forest."
      ]
    },
    {
      "cell_type": "code",
      "execution_count": 20,
      "metadata": {},
      "outputs": [],
      "source": [
        "# Define Logistic Regression hyperparameters\n",
        "log_reg_param_dist = {\n",
        "    'C': np.logspace(-4, 4, 20),  # Regularization strength\n",
        "    'solver': ['liblinear', 'lbfgs', 'saga'],  # Optimization algorithm\n",
        "    'penalty': ['l1', 'l2', 'elasticnet', None]  # Regularization type\n",
        "}\n",
        "\n",
        "# Define Decision Tree hyperparameters\n",
        "dt_param_dist = {\n",
        "    'max_depth': np.arange(3, 50, 5),  # Maximum depth of the tree\n",
        "    'min_samples_split': np.arange(2, 20, 2),  # Minimum samples required to split a node\n",
        "    'min_samples_leaf': np.arange(1, 20, 2),  # Minimum samples required at a leaf node\n",
        "    'criterion': ['gini', 'entropy']  # Splitting criteria\n",
        "}\n",
        "\n",
        "# Define Random Forest hyperparameters\n",
        "rf_param_dist = {\n",
        "    'n_estimators': np.arange(50, 500, 50),\n",
        "    'max_depth': np.arange(5, 50, 5),\n",
        "    'min_samples_split': np.arange(2, 20, 2),\n",
        "    'min_samples_leaf': np.arange(1, 20, 2),\n",
        "    'max_features': [None, 'sqrt', 'log2'],\n",
        "    'bootstrap': [True, False]\n",
        "}"
      ]
    },
    {
      "cell_type": "markdown",
      "metadata": {},
      "source": [
        "Dengan mendefinisikan hyperparameter space ini, kita siap untuk melakukan tuning hyperparameter menggunakan RandomizedSearchCV"
      ]
    },
    {
      "cell_type": "markdown",
      "metadata": {},
      "source": [
        "#### -- **Hyperparameter Tuning**"
      ]
    },
    {
      "cell_type": "markdown",
      "metadata": {},
      "source": [
        "Setelah mendefinisikan hyperparameter space untuk Logistic Regression, Decision Tree, dan Random Forest, langkah selanjutnya adalah mencari kombinasi terbaik yang dapat meningkatkan performa model.\n",
        "\n",
        "Untuk melakukan ini, kita menggunakan RandomizedSearchCV dari sklearn.model_selection. Pendekatan ini lebih efisien dibandingkan Grid Search, karena hanya mengeksplorasi sejumlah kombinasi parameter secara acak daripada mencoba semua kemungkinan kombinasi."
      ]
    },
    {
      "cell_type": "code",
      "execution_count": 21,
      "metadata": {},
      "outputs": [],
      "source": [
        "# Perform RandomizedSearchCV for Logistic Regression\n",
        "log_reg_random_search = RandomizedSearchCV(\n",
        "    estimator=LogisticRegression(random_state=69, max_iter=500),\n",
        "    param_distributions=log_reg_param_dist,\n",
        "    n_iter=100,\n",
        "    cv=3,\n",
        "    verbose=2,\n",
        "    random_state=69,\n",
        "    n_jobs=-1\n",
        ")\n",
        "\n",
        "# Perform RandomizedSearchCV for Decision Tree\n",
        "dt_random_search = RandomizedSearchCV(\n",
        "    estimator=DecisionTreeClassifier(random_state=69),\n",
        "    param_distributions=dt_param_dist,\n",
        "    n_iter=100,\n",
        "    cv=3,\n",
        "    verbose=2,\n",
        "    random_state=69,\n",
        "    n_jobs=-1\n",
        ")\n",
        "\n",
        "# Perform RandomizedSearchCV for Random Forest\n",
        "rf_random_search = RandomizedSearchCV(\n",
        "    estimator=RandomForestClassifier(random_state=69),\n",
        "    param_distributions=rf_param_dist,\n",
        "    n_iter=100,\n",
        "    cv=3,\n",
        "    verbose=2,\n",
        "    random_state=69,\n",
        "    n_jobs=-1\n",
        ")"
      ]
    },
    {
      "cell_type": "markdown",
      "metadata": {},
      "source": [
        "Dengan menerapkan RandomizedSearchCV, kita dapat menemukan kombinasi hyperparameter terbaik untuk setiap model tanpa harus mencoba semua kemungkinan kombinasi. Hal ini menghemat waktu komputasi, sekaligus meningkatkan performa model dengan optimalisasi yang lebih baik. "
      ]
    },
    {
      "cell_type": "markdown",
      "metadata": {},
      "source": [
        "Setelah mendefinisikan hyperparameter space dan melakukan RandomizedSearchCV untuk mencari kombinasi terbaik, langkah selanjutnya adalah melatih model menggunakan dataset pelatihan. Ketiga model, yaitu Logistic Regression, Decision Tree, dan Random Forest, akan di-fit pada data training (X_train, y_train) menggunakan kombinasi hyperparameter yang telah dipilih secara optimal."
      ]
    },
    {
      "cell_type": "code",
      "execution_count": 22,
      "metadata": {},
      "outputs": [
        {
          "name": "stdout",
          "output_type": "stream",
          "text": [
            "Fitting 3 folds for each of 100 candidates, totalling 300 fits\n"
          ]
        },
        {
          "name": "stderr",
          "output_type": "stream",
          "text": [
            "d:\\Program_Files\\Anaconda\\envs\\datascience\\Lib\\site-packages\\sklearn\\model_selection\\_validation.py:425: FitFailedWarning: \n",
            "126 fits failed out of a total of 300.\n",
            "The score on these train-test partitions for these parameters will be set to nan.\n",
            "If these failures are not expected, you can try to debug them by setting error_score='raise'.\n",
            "\n",
            "Below are more details about the failures:\n",
            "--------------------------------------------------------------------------------\n",
            "24 fits failed with the following error:\n",
            "Traceback (most recent call last):\n",
            "  File \"d:\\Program_Files\\Anaconda\\envs\\datascience\\Lib\\site-packages\\sklearn\\model_selection\\_validation.py\", line 732, in _fit_and_score\n",
            "    estimator.fit(X_train, y_train, **fit_params)\n",
            "  File \"d:\\Program_Files\\Anaconda\\envs\\datascience\\Lib\\site-packages\\sklearn\\base.py\", line 1151, in wrapper\n",
            "    return fit_method(estimator, *args, **kwargs)\n",
            "           ^^^^^^^^^^^^^^^^^^^^^^^^^^^^^^^^^^^^^^\n",
            "  File \"d:\\Program_Files\\Anaconda\\envs\\datascience\\Lib\\site-packages\\sklearn\\linear_model\\_logistic.py\", line 1178, in fit\n",
            "    raise ValueError(\"l1_ratio must be specified when penalty is elasticnet.\")\n",
            "ValueError: l1_ratio must be specified when penalty is elasticnet.\n",
            "\n",
            "--------------------------------------------------------------------------------\n",
            "18 fits failed with the following error:\n",
            "Traceback (most recent call last):\n",
            "  File \"d:\\Program_Files\\Anaconda\\envs\\datascience\\Lib\\site-packages\\sklearn\\model_selection\\_validation.py\", line 732, in _fit_and_score\n",
            "    estimator.fit(X_train, y_train, **fit_params)\n",
            "  File \"d:\\Program_Files\\Anaconda\\envs\\datascience\\Lib\\site-packages\\sklearn\\base.py\", line 1151, in wrapper\n",
            "    return fit_method(estimator, *args, **kwargs)\n",
            "           ^^^^^^^^^^^^^^^^^^^^^^^^^^^^^^^^^^^^^^\n",
            "  File \"d:\\Program_Files\\Anaconda\\envs\\datascience\\Lib\\site-packages\\sklearn\\linear_model\\_logistic.py\", line 1168, in fit\n",
            "    solver = _check_solver(self.solver, self.penalty, self.dual)\n",
            "             ^^^^^^^^^^^^^^^^^^^^^^^^^^^^^^^^^^^^^^^^^^^^^^^^^^^\n",
            "  File \"d:\\Program_Files\\Anaconda\\envs\\datascience\\Lib\\site-packages\\sklearn\\linear_model\\_logistic.py\", line 56, in _check_solver\n",
            "    raise ValueError(\n",
            "ValueError: Solver lbfgs supports only 'l2' or 'none' penalties, got elasticnet penalty.\n",
            "\n",
            "--------------------------------------------------------------------------------\n",
            "36 fits failed with the following error:\n",
            "Traceback (most recent call last):\n",
            "  File \"d:\\Program_Files\\Anaconda\\envs\\datascience\\Lib\\site-packages\\sklearn\\model_selection\\_validation.py\", line 732, in _fit_and_score\n",
            "    estimator.fit(X_train, y_train, **fit_params)\n",
            "  File \"d:\\Program_Files\\Anaconda\\envs\\datascience\\Lib\\site-packages\\sklearn\\base.py\", line 1151, in wrapper\n",
            "    return fit_method(estimator, *args, **kwargs)\n",
            "           ^^^^^^^^^^^^^^^^^^^^^^^^^^^^^^^^^^^^^^\n",
            "  File \"d:\\Program_Files\\Anaconda\\envs\\datascience\\Lib\\site-packages\\sklearn\\linear_model\\_logistic.py\", line 1168, in fit\n",
            "    solver = _check_solver(self.solver, self.penalty, self.dual)\n",
            "             ^^^^^^^^^^^^^^^^^^^^^^^^^^^^^^^^^^^^^^^^^^^^^^^^^^^\n",
            "  File \"d:\\Program_Files\\Anaconda\\envs\\datascience\\Lib\\site-packages\\sklearn\\linear_model\\_logistic.py\", line 56, in _check_solver\n",
            "    raise ValueError(\n",
            "ValueError: Solver lbfgs supports only 'l2' or 'none' penalties, got l1 penalty.\n",
            "\n",
            "--------------------------------------------------------------------------------\n",
            "24 fits failed with the following error:\n",
            "Traceback (most recent call last):\n",
            "  File \"d:\\Program_Files\\Anaconda\\envs\\datascience\\Lib\\site-packages\\sklearn\\model_selection\\_validation.py\", line 732, in _fit_and_score\n",
            "    estimator.fit(X_train, y_train, **fit_params)\n",
            "  File \"d:\\Program_Files\\Anaconda\\envs\\datascience\\Lib\\site-packages\\sklearn\\base.py\", line 1151, in wrapper\n",
            "    return fit_method(estimator, *args, **kwargs)\n",
            "           ^^^^^^^^^^^^^^^^^^^^^^^^^^^^^^^^^^^^^^\n",
            "  File \"d:\\Program_Files\\Anaconda\\envs\\datascience\\Lib\\site-packages\\sklearn\\linear_model\\_logistic.py\", line 1168, in fit\n",
            "    solver = _check_solver(self.solver, self.penalty, self.dual)\n",
            "             ^^^^^^^^^^^^^^^^^^^^^^^^^^^^^^^^^^^^^^^^^^^^^^^^^^^\n",
            "  File \"d:\\Program_Files\\Anaconda\\envs\\datascience\\Lib\\site-packages\\sklearn\\linear_model\\_logistic.py\", line 66, in _check_solver\n",
            "    raise ValueError(\n",
            "ValueError: Only 'saga' solver supports elasticnet penalty, got solver=liblinear.\n",
            "\n",
            "--------------------------------------------------------------------------------\n",
            "24 fits failed with the following error:\n",
            "Traceback (most recent call last):\n",
            "  File \"d:\\Program_Files\\Anaconda\\envs\\datascience\\Lib\\site-packages\\sklearn\\model_selection\\_validation.py\", line 732, in _fit_and_score\n",
            "    estimator.fit(X_train, y_train, **fit_params)\n",
            "  File \"d:\\Program_Files\\Anaconda\\envs\\datascience\\Lib\\site-packages\\sklearn\\base.py\", line 1151, in wrapper\n",
            "    return fit_method(estimator, *args, **kwargs)\n",
            "           ^^^^^^^^^^^^^^^^^^^^^^^^^^^^^^^^^^^^^^\n",
            "  File \"d:\\Program_Files\\Anaconda\\envs\\datascience\\Lib\\site-packages\\sklearn\\linear_model\\_logistic.py\", line 1227, in fit\n",
            "    self.coef_, self.intercept_, self.n_iter_ = _fit_liblinear(\n",
            "                                                ^^^^^^^^^^^^^^^\n",
            "  File \"d:\\Program_Files\\Anaconda\\envs\\datascience\\Lib\\site-packages\\sklearn\\svm\\_base.py\", line 1221, in _fit_liblinear\n",
            "    solver_type = _get_liblinear_solver_type(multi_class, penalty, loss, dual)\n",
            "                  ^^^^^^^^^^^^^^^^^^^^^^^^^^^^^^^^^^^^^^^^^^^^^^^^^^^^^^^^^^^^\n",
            "  File \"d:\\Program_Files\\Anaconda\\envs\\datascience\\Lib\\site-packages\\sklearn\\svm\\_base.py\", line 1060, in _get_liblinear_solver_type\n",
            "    raise ValueError(\n",
            "ValueError: Unsupported set of arguments: The combination of penalty='None' and loss='logistic_regression' is not supported, Parameters: penalty=None, loss='logistic_regression', dual=False\n",
            "\n",
            "  warnings.warn(some_fits_failed_message, FitFailedWarning)\n",
            "d:\\Program_Files\\Anaconda\\envs\\datascience\\Lib\\site-packages\\sklearn\\model_selection\\_search.py:976: UserWarning: One or more of the test scores are non-finite: [1.         1.         0.99965458 1.         0.99965458 1.\n",
            " 1.         1.         0.84835924        nan 1.                nan\n",
            " 0.99965458 1.         1.                nan        nan 0.3298791\n",
            "        nan 1.                nan 0.94991364        nan 1.\n",
            " 1.         1.                nan 0.95233161        nan 0.94576857\n",
            "        nan 0.99965458        nan 1.                nan        nan\n",
            " 0.40345423        nan        nan 0.94991364 1.         1.\n",
            " 1.                nan        nan 0.97443869        nan        nan\n",
            "        nan        nan 0.99965458        nan 0.99965458 1.\n",
            "        nan        nan        nan 0.94715026 0.37340242 1.\n",
            "        nan 0.94576857        nan        nan 0.94611399 0.9447323\n",
            " 0.98031088 1.         1.         1.                nan 0.94956822\n",
            "        nan 1.         0.99965458        nan        nan 0.28221071\n",
            "        nan        nan        nan        nan 1.         0.99965458\n",
            "        nan 0.45250432 1.         0.99965458 1.         0.61105354\n",
            " 0.94645941 0.99965458        nan 0.94611399        nan        nan\n",
            "        nan 1.         1.                nan]\n",
            "  warnings.warn(\n",
            "d:\\Program_Files\\Anaconda\\envs\\datascience\\Lib\\site-packages\\sklearn\\linear_model\\_sag.py:350: ConvergenceWarning: The max_iter was reached which means the coef_ did not converge\n",
            "  warnings.warn(\n"
          ]
        },
        {
          "name": "stdout",
          "output_type": "stream",
          "text": [
            "Fitting 3 folds for each of 100 candidates, totalling 300 fits\n",
            "Fitting 3 folds for each of 100 candidates, totalling 300 fits\n"
          ]
        },
        {
          "data": {
            "text/html": [
              "<style>#sk-container-id-1 {color: black;}#sk-container-id-1 pre{padding: 0;}#sk-container-id-1 div.sk-toggleable {background-color: white;}#sk-container-id-1 label.sk-toggleable__label {cursor: pointer;display: block;width: 100%;margin-bottom: 0;padding: 0.3em;box-sizing: border-box;text-align: center;}#sk-container-id-1 label.sk-toggleable__label-arrow:before {content: \"▸\";float: left;margin-right: 0.25em;color: #696969;}#sk-container-id-1 label.sk-toggleable__label-arrow:hover:before {color: black;}#sk-container-id-1 div.sk-estimator:hover label.sk-toggleable__label-arrow:before {color: black;}#sk-container-id-1 div.sk-toggleable__content {max-height: 0;max-width: 0;overflow: hidden;text-align: left;background-color: #f0f8ff;}#sk-container-id-1 div.sk-toggleable__content pre {margin: 0.2em;color: black;border-radius: 0.25em;background-color: #f0f8ff;}#sk-container-id-1 input.sk-toggleable__control:checked~div.sk-toggleable__content {max-height: 200px;max-width: 100%;overflow: auto;}#sk-container-id-1 input.sk-toggleable__control:checked~label.sk-toggleable__label-arrow:before {content: \"▾\";}#sk-container-id-1 div.sk-estimator input.sk-toggleable__control:checked~label.sk-toggleable__label {background-color: #d4ebff;}#sk-container-id-1 div.sk-label input.sk-toggleable__control:checked~label.sk-toggleable__label {background-color: #d4ebff;}#sk-container-id-1 input.sk-hidden--visually {border: 0;clip: rect(1px 1px 1px 1px);clip: rect(1px, 1px, 1px, 1px);height: 1px;margin: -1px;overflow: hidden;padding: 0;position: absolute;width: 1px;}#sk-container-id-1 div.sk-estimator {font-family: monospace;background-color: #f0f8ff;border: 1px dotted black;border-radius: 0.25em;box-sizing: border-box;margin-bottom: 0.5em;}#sk-container-id-1 div.sk-estimator:hover {background-color: #d4ebff;}#sk-container-id-1 div.sk-parallel-item::after {content: \"\";width: 100%;border-bottom: 1px solid gray;flex-grow: 1;}#sk-container-id-1 div.sk-label:hover label.sk-toggleable__label {background-color: #d4ebff;}#sk-container-id-1 div.sk-serial::before {content: \"\";position: absolute;border-left: 1px solid gray;box-sizing: border-box;top: 0;bottom: 0;left: 50%;z-index: 0;}#sk-container-id-1 div.sk-serial {display: flex;flex-direction: column;align-items: center;background-color: white;padding-right: 0.2em;padding-left: 0.2em;position: relative;}#sk-container-id-1 div.sk-item {position: relative;z-index: 1;}#sk-container-id-1 div.sk-parallel {display: flex;align-items: stretch;justify-content: center;background-color: white;position: relative;}#sk-container-id-1 div.sk-item::before, #sk-container-id-1 div.sk-parallel-item::before {content: \"\";position: absolute;border-left: 1px solid gray;box-sizing: border-box;top: 0;bottom: 0;left: 50%;z-index: -1;}#sk-container-id-1 div.sk-parallel-item {display: flex;flex-direction: column;z-index: 1;position: relative;background-color: white;}#sk-container-id-1 div.sk-parallel-item:first-child::after {align-self: flex-end;width: 50%;}#sk-container-id-1 div.sk-parallel-item:last-child::after {align-self: flex-start;width: 50%;}#sk-container-id-1 div.sk-parallel-item:only-child::after {width: 0;}#sk-container-id-1 div.sk-dashed-wrapped {border: 1px dashed gray;margin: 0 0.4em 0.5em 0.4em;box-sizing: border-box;padding-bottom: 0.4em;background-color: white;}#sk-container-id-1 div.sk-label label {font-family: monospace;font-weight: bold;display: inline-block;line-height: 1.2em;}#sk-container-id-1 div.sk-label-container {text-align: center;}#sk-container-id-1 div.sk-container {/* jupyter's `normalize.less` sets `[hidden] { display: none; }` but bootstrap.min.css set `[hidden] { display: none !important; }` so we also need the `!important` here to be able to override the default hidden behavior on the sphinx rendered scikit-learn.org. See: https://github.com/scikit-learn/scikit-learn/issues/21755 */display: inline-block !important;position: relative;}#sk-container-id-1 div.sk-text-repr-fallback {display: none;}</style><div id=\"sk-container-id-1\" class=\"sk-top-container\"><div class=\"sk-text-repr-fallback\"><pre>RandomizedSearchCV(cv=3, estimator=RandomForestClassifier(random_state=69),\n",
              "                   n_iter=100, n_jobs=-1,\n",
              "                   param_distributions={&#x27;bootstrap&#x27;: [True, False],\n",
              "                                        &#x27;max_depth&#x27;: array([ 5, 10, 15, 20, 25, 30, 35, 40, 45]),\n",
              "                                        &#x27;max_features&#x27;: [None, &#x27;sqrt&#x27;, &#x27;log2&#x27;],\n",
              "                                        &#x27;min_samples_leaf&#x27;: array([ 1,  3,  5,  7,  9, 11, 13, 15, 17, 19]),\n",
              "                                        &#x27;min_samples_split&#x27;: array([ 2,  4,  6,  8, 10, 12, 14, 16, 18]),\n",
              "                                        &#x27;n_estimators&#x27;: array([ 50, 100, 150, 200, 250, 300, 350, 400, 450])},\n",
              "                   random_state=69, verbose=2)</pre><b>In a Jupyter environment, please rerun this cell to show the HTML representation or trust the notebook. <br />On GitHub, the HTML representation is unable to render, please try loading this page with nbviewer.org.</b></div><div class=\"sk-container\" hidden><div class=\"sk-item sk-dashed-wrapped\"><div class=\"sk-label-container\"><div class=\"sk-label sk-toggleable\"><input class=\"sk-toggleable__control sk-hidden--visually\" id=\"sk-estimator-id-1\" type=\"checkbox\" ><label for=\"sk-estimator-id-1\" class=\"sk-toggleable__label sk-toggleable__label-arrow\">RandomizedSearchCV</label><div class=\"sk-toggleable__content\"><pre>RandomizedSearchCV(cv=3, estimator=RandomForestClassifier(random_state=69),\n",
              "                   n_iter=100, n_jobs=-1,\n",
              "                   param_distributions={&#x27;bootstrap&#x27;: [True, False],\n",
              "                                        &#x27;max_depth&#x27;: array([ 5, 10, 15, 20, 25, 30, 35, 40, 45]),\n",
              "                                        &#x27;max_features&#x27;: [None, &#x27;sqrt&#x27;, &#x27;log2&#x27;],\n",
              "                                        &#x27;min_samples_leaf&#x27;: array([ 1,  3,  5,  7,  9, 11, 13, 15, 17, 19]),\n",
              "                                        &#x27;min_samples_split&#x27;: array([ 2,  4,  6,  8, 10, 12, 14, 16, 18]),\n",
              "                                        &#x27;n_estimators&#x27;: array([ 50, 100, 150, 200, 250, 300, 350, 400, 450])},\n",
              "                   random_state=69, verbose=2)</pre></div></div></div><div class=\"sk-parallel\"><div class=\"sk-parallel-item\"><div class=\"sk-item\"><div class=\"sk-label-container\"><div class=\"sk-label sk-toggleable\"><input class=\"sk-toggleable__control sk-hidden--visually\" id=\"sk-estimator-id-2\" type=\"checkbox\" ><label for=\"sk-estimator-id-2\" class=\"sk-toggleable__label sk-toggleable__label-arrow\">estimator: RandomForestClassifier</label><div class=\"sk-toggleable__content\"><pre>RandomForestClassifier(random_state=69)</pre></div></div></div><div class=\"sk-serial\"><div class=\"sk-item\"><div class=\"sk-estimator sk-toggleable\"><input class=\"sk-toggleable__control sk-hidden--visually\" id=\"sk-estimator-id-3\" type=\"checkbox\" ><label for=\"sk-estimator-id-3\" class=\"sk-toggleable__label sk-toggleable__label-arrow\">RandomForestClassifier</label><div class=\"sk-toggleable__content\"><pre>RandomForestClassifier(random_state=69)</pre></div></div></div></div></div></div></div></div></div></div>"
            ],
            "text/plain": [
              "RandomizedSearchCV(cv=3, estimator=RandomForestClassifier(random_state=69),\n",
              "                   n_iter=100, n_jobs=-1,\n",
              "                   param_distributions={'bootstrap': [True, False],\n",
              "                                        'max_depth': array([ 5, 10, 15, 20, 25, 30, 35, 40, 45]),\n",
              "                                        'max_features': [None, 'sqrt', 'log2'],\n",
              "                                        'min_samples_leaf': array([ 1,  3,  5,  7,  9, 11, 13, 15, 17, 19]),\n",
              "                                        'min_samples_split': array([ 2,  4,  6,  8, 10, 12, 14, 16, 18]),\n",
              "                                        'n_estimators': array([ 50, 100, 150, 200, 250, 300, 350, 400, 450])},\n",
              "                   random_state=69, verbose=2)"
            ]
          },
          "execution_count": 22,
          "metadata": {},
          "output_type": "execute_result"
        }
      ],
      "source": [
        "log_reg_random_search.fit(X_train, y_train)\n",
        "dt_random_search.fit(X_train, y_train)\n",
        "rf_random_search.fit(X_train, y_train)"
      ]
    },
    {
      "cell_type": "markdown",
      "metadata": {
        "id": "hE7pqlEPEYzI"
      },
      "source": [
        "### **4.4. Evaluasi Model Klasifikasi setelah Tuning (Optional)** (FIX)"
      ]
    },
    {
      "cell_type": "markdown",
      "metadata": {
        "id": "feaPESoeN0zz"
      },
      "source": [
        "Berikut adalah rekomendasi tahapannya.\n",
        "1. Gunakan model dengan hyperparameter terbaik.\n",
        "2. Hitung ulang metrik evaluasi untuk melihat apakah ada peningkatan performa.\n",
        "\n",
        "---"
      ]
    },
    {
      "cell_type": "code",
      "execution_count": 23,
      "metadata": {
        "id": "HTXZRvEeNMb1"
      },
      "outputs": [
        {
          "name": "stdout",
          "output_type": "stream",
          "text": [
            "-----------------------------\n",
            "Random Forest\n",
            "-----------------------------\n",
            "Best Random Forest Hyperparameters: {'n_estimators': 450, 'min_samples_split': 4, 'min_samples_leaf': 3, 'max_features': None, 'max_depth': 25, 'bootstrap': True}\n",
            "Best Random Forest Accuracy: 1.0\n",
            "Random Forest (best model) Classification Report:\n",
            "               precision    recall  f1-score   support\n",
            "\n",
            "           0    1.00000   1.00000   1.00000       215\n",
            "           1    1.00000   1.00000   1.00000       200\n",
            "           2    1.00000   1.00000   1.00000       192\n",
            "           3    1.00000   1.00000   1.00000       117\n",
            "\n",
            "    accuracy                        1.00000       724\n",
            "   macro avg    1.00000   1.00000   1.00000       724\n",
            "weighted avg    1.00000   1.00000   1.00000       724\n",
            "\n",
            "\n",
            "\n",
            "-----------------------------\n",
            "Logistic Regression\n",
            "-----------------------------\n",
            "Best Logistic Regression Hyperparameters: {'solver': 'saga', 'penalty': 'l2', 'C': 1.623776739188721}\n",
            "Best Logistic Regression Accuracy: 1.0\n",
            "Logistic Regression (best model) Classification Report:\n",
            "               precision    recall  f1-score   support\n",
            "\n",
            "           0    1.00000   1.00000   1.00000       215\n",
            "           1    1.00000   1.00000   1.00000       200\n",
            "           2    1.00000   1.00000   1.00000       192\n",
            "           3    1.00000   1.00000   1.00000       117\n",
            "\n",
            "    accuracy                        1.00000       724\n",
            "   macro avg    1.00000   1.00000   1.00000       724\n",
            "weighted avg    1.00000   1.00000   1.00000       724\n",
            "\n",
            "\n",
            "\n",
            "-----------------------------\n",
            "Decision Tree\n",
            "-----------------------------\n",
            "Best Decision Tree Hyperparameters: {'min_samples_split': 14, 'min_samples_leaf': 15, 'max_depth': 43, 'criterion': 'entropy'}\n",
            "Best Decision Tree Accuracy: 1.0\n",
            "Decision Tree (best model) Classification Report:\n",
            "               precision    recall  f1-score   support\n",
            "\n",
            "           0    1.00000   1.00000   1.00000       215\n",
            "           1    1.00000   1.00000   1.00000       200\n",
            "           2    1.00000   1.00000   1.00000       192\n",
            "           3    1.00000   1.00000   1.00000       117\n",
            "\n",
            "    accuracy                        1.00000       724\n",
            "   macro avg    1.00000   1.00000   1.00000       724\n",
            "weighted avg    1.00000   1.00000   1.00000       724\n",
            "\n",
            "\n",
            "\n"
          ]
        }
      ],
      "source": [
        "def evaluate_model(model_search, model_name, X_test, y_test):\n",
        "    \"\"\"\n",
        "    Mencetak hyperparameter terbaik, akurasi terbaik, dan classification report\n",
        "    untuk model yang telah dilakukan hyperparameter tuning dengan RandomizedSearchCV.\n",
        "    Juga mengembalikan hasil prediksi untuk analisis lebih lanjut.\n",
        "    \n",
        "    Parameters:\n",
        "        model_search: objek RandomizedSearchCV yang sudah dilatih\n",
        "        model_name: string, nama model (misal: \"Random Forest\")\n",
        "        X_test: data uji\n",
        "        y_test: label uji\n",
        "\n",
        "    Returns:\n",
        "        y_pred: array, hasil prediksi model terbaik pada data uji\n",
        "    \"\"\"\n",
        "    print(f\"-----------------------------\")\n",
        "    print(f\"{model_name}\")\n",
        "    print(f\"-----------------------------\")\n",
        "    \n",
        "    # Print hyperparameter terbaik dan skor terbaik\n",
        "    print(f\"Best {model_name} Hyperparameters:\", model_search.best_params_)\n",
        "    print(f\"Best {model_name} Accuracy:\", model_search.best_score_)\n",
        "    \n",
        "    # Prediksi dengan model terbaik\n",
        "    best_model = model_search.best_estimator_\n",
        "    y_pred = best_model.predict(X_test)\n",
        "    \n",
        "    # Print classification report\n",
        "    print(f\"{model_name} (best model) Classification Report:\\n\", \n",
        "          classification_report(y_test, y_pred, digits=5))\n",
        "    print(\"\\n\")\n",
        "    \n",
        "    return y_pred\n",
        "\n",
        "# Evaluasi masing-masing model dan simpan hasil prediksi\n",
        "rf_best_model_y_pred = evaluate_model(rf_random_search, \"Random Forest\", X_test, y_test)\n",
        "log_reg_best_model_y_pred = evaluate_model(log_reg_random_search, \"Logistic Regression\", X_test, y_test)\n",
        "dt_best_model_y_pred = evaluate_model(dt_random_search, \"Decision Tree\", X_test, y_test)"
      ]
    },
    {
      "cell_type": "code",
      "execution_count": 24,
      "metadata": {},
      "outputs": [
        {
          "data": {
            "text/html": [
              "<div>\n",
              "<style scoped>\n",
              "    .dataframe tbody tr th:only-of-type {\n",
              "        vertical-align: middle;\n",
              "    }\n",
              "\n",
              "    .dataframe tbody tr th {\n",
              "        vertical-align: top;\n",
              "    }\n",
              "\n",
              "    .dataframe thead th {\n",
              "        text-align: right;\n",
              "    }\n",
              "</style>\n",
              "<table border=\"1\" class=\"dataframe\">\n",
              "  <thead>\n",
              "    <tr style=\"text-align: right;\">\n",
              "      <th></th>\n",
              "      <th>Model</th>\n",
              "      <th>Accuracy</th>\n",
              "      <th>Precision</th>\n",
              "      <th>Recall</th>\n",
              "      <th>F1-Score</th>\n",
              "    </tr>\n",
              "  </thead>\n",
              "  <tbody>\n",
              "    <tr>\n",
              "      <th>0</th>\n",
              "      <td>Random Forest (Tuned)</td>\n",
              "      <td>1.0</td>\n",
              "      <td>1.0</td>\n",
              "      <td>1.0</td>\n",
              "      <td>1.0</td>\n",
              "    </tr>\n",
              "    <tr>\n",
              "      <th>1</th>\n",
              "      <td>Logistic Regression (Tuned)</td>\n",
              "      <td>1.0</td>\n",
              "      <td>1.0</td>\n",
              "      <td>1.0</td>\n",
              "      <td>1.0</td>\n",
              "    </tr>\n",
              "    <tr>\n",
              "      <th>2</th>\n",
              "      <td>Decision Tree (Tuned)</td>\n",
              "      <td>1.0</td>\n",
              "      <td>1.0</td>\n",
              "      <td>1.0</td>\n",
              "      <td>1.0</td>\n",
              "    </tr>\n",
              "  </tbody>\n",
              "</table>\n",
              "</div>"
            ],
            "text/plain": [
              "                         Model  Accuracy  Precision  Recall  F1-Score\n",
              "0        Random Forest (Tuned)       1.0        1.0     1.0       1.0\n",
              "1  Logistic Regression (Tuned)       1.0        1.0     1.0       1.0\n",
              "2        Decision Tree (Tuned)       1.0        1.0     1.0       1.0"
            ]
          },
          "execution_count": 24,
          "metadata": {},
          "output_type": "execute_result"
        }
      ],
      "source": [
        "# Menghitung classification report untuk semua model dalam format dictionary\n",
        "rf_best_report = classification_report(y_test, rf_best_model_y_pred, digits=5, output_dict=True)\n",
        "log_reg_best_report = classification_report(y_test, log_reg_best_model_y_pred, digits=5, output_dict=True)\n",
        "dt_best_report = classification_report(y_test, dt_best_model_y_pred, digits=5, output_dict=True)\n",
        "\n",
        "# Menyusun metrik evaluasi utama dari setiap model ke dalam dictionary\n",
        "metrics_tuned = {\n",
        "    # Menyimpan nama model yang telah dilakukan tuning\n",
        "    'Model': ['Random Forest (Tuned)', 'Logistic Regression (Tuned)', 'Decision Tree (Tuned)'],\n",
        "    \n",
        "    # Menyimpan nilai akurasi dari masing-masing model\n",
        "    'Accuracy': [\n",
        "        rf_best_report['accuracy'],  # Akurasi dari model Random Forest terbaik\n",
        "        log_reg_best_report['accuracy'],  # Akurasi dari model Logistic Regression terbaik\n",
        "        dt_best_report['accuracy']  # Akurasi dari model Decision Tree terbaik\n",
        "    ],\n",
        "    \n",
        "    # Menyimpan nilai precision rata-rata tertimbang (weighted avg) untuk setiap model\n",
        "    'Precision': [\n",
        "        rf_best_report['weighted avg']['precision'],  # Precision dari Random Forest\n",
        "        log_reg_best_report['weighted avg']['precision'],  # Precision dari Logistic Regression\n",
        "        dt_best_report['weighted avg']['precision']  # Precision dari Decision Tree\n",
        "    ],\n",
        "    \n",
        "    # Menyimpan nilai recall rata-rata tertimbang (weighted avg) untuk setiap model\n",
        "    'Recall': [\n",
        "        rf_best_report['weighted avg']['recall'],  # Recall dari Random Forest\n",
        "        log_reg_best_report['weighted avg']['recall'],  # Recall dari Logistic Regression\n",
        "        dt_best_report['weighted avg']['recall']  # Recall dari Decision Tree\n",
        "    ],\n",
        "    \n",
        "    # Menyimpan nilai F1-score rata-rata tertimbang (weighted avg) untuk setiap model\n",
        "    'F1-Score': [\n",
        "        rf_best_report['weighted avg']['f1-score'],  # F1-score dari Random Forest\n",
        "        log_reg_best_report['weighted avg']['f1-score'],  # F1-score dari Logistic Regression\n",
        "        dt_best_report['weighted avg']['f1-score']  # F1-score dari Decision Tree\n",
        "    ]\n",
        "}\n",
        "\n",
        "# Membuat DataFrame dari dictionary yang telah disusun\n",
        "df_tuned = pd.DataFrame(metrics_tuned)\n",
        "\n",
        "# Menampilkan DataFrame yang berisi hasil evaluasi model setelah tuning\n",
        "df_tuned"
      ]
    },
    {
      "cell_type": "markdown",
      "metadata": {
        "id": "ZRsOdm4uEgAW"
      },
      "source": [
        "### **4.5. Analisis Hasil Evaluasi Model Klasifikasi** (FIX)"
      ]
    },
    {
      "cell_type": "markdown",
      "metadata": {
        "id": "Hm3BhSi6N4_l"
      },
      "source": [
        "Berikut adalah **rekomendasi** tahapannya.\n",
        "1. Bandingkan hasil evaluasi sebelum dan setelah tuning (jika dilakukan).\n",
        "2. Identifikasi kelemahan model, seperti:\n",
        "  - Precision atau Recall rendah untuk kelas tertentu.\n",
        "  - Apakah model mengalami overfitting atau underfitting?\n",
        "3. Berikan rekomendasi tindakan lanjutan, seperti mengumpulkan data tambahan atau mencoba algoritma lain jika hasil belum memuaskan.\n",
        "\n",
        "---"
      ]
    },
    {
      "cell_type": "code",
      "execution_count": 25,
      "metadata": {},
      "outputs": [
        {
          "data": {
            "text/html": [
              "<div>\n",
              "<style scoped>\n",
              "    .dataframe tbody tr th:only-of-type {\n",
              "        vertical-align: middle;\n",
              "    }\n",
              "\n",
              "    .dataframe tbody tr th {\n",
              "        vertical-align: top;\n",
              "    }\n",
              "\n",
              "    .dataframe thead th {\n",
              "        text-align: right;\n",
              "    }\n",
              "</style>\n",
              "<table border=\"1\" class=\"dataframe\">\n",
              "  <thead>\n",
              "    <tr style=\"text-align: right;\">\n",
              "      <th></th>\n",
              "      <th>Model</th>\n",
              "      <th>Accuracy</th>\n",
              "      <th>Precision</th>\n",
              "      <th>Recall</th>\n",
              "      <th>F1-Score</th>\n",
              "    </tr>\n",
              "  </thead>\n",
              "  <tbody>\n",
              "    <tr>\n",
              "      <th>0</th>\n",
              "      <td>Logistic Regression</td>\n",
              "      <td>1.0</td>\n",
              "      <td>1.0</td>\n",
              "      <td>1.0</td>\n",
              "      <td>1.0</td>\n",
              "    </tr>\n",
              "    <tr>\n",
              "      <th>1</th>\n",
              "      <td>Random Forest</td>\n",
              "      <td>1.0</td>\n",
              "      <td>1.0</td>\n",
              "      <td>1.0</td>\n",
              "      <td>1.0</td>\n",
              "    </tr>\n",
              "    <tr>\n",
              "      <th>2</th>\n",
              "      <td>Decision Tree</td>\n",
              "      <td>1.0</td>\n",
              "      <td>1.0</td>\n",
              "      <td>1.0</td>\n",
              "      <td>1.0</td>\n",
              "    </tr>\n",
              "    <tr>\n",
              "      <th>3</th>\n",
              "      <td>Random Forest (Tuned)</td>\n",
              "      <td>1.0</td>\n",
              "      <td>1.0</td>\n",
              "      <td>1.0</td>\n",
              "      <td>1.0</td>\n",
              "    </tr>\n",
              "    <tr>\n",
              "      <th>4</th>\n",
              "      <td>Logistic Regression (Tuned)</td>\n",
              "      <td>1.0</td>\n",
              "      <td>1.0</td>\n",
              "      <td>1.0</td>\n",
              "      <td>1.0</td>\n",
              "    </tr>\n",
              "    <tr>\n",
              "      <th>5</th>\n",
              "      <td>Decision Tree (Tuned)</td>\n",
              "      <td>1.0</td>\n",
              "      <td>1.0</td>\n",
              "      <td>1.0</td>\n",
              "      <td>1.0</td>\n",
              "    </tr>\n",
              "  </tbody>\n",
              "</table>\n",
              "</div>"
            ],
            "text/plain": [
              "                         Model  Accuracy  Precision  Recall  F1-Score\n",
              "0          Logistic Regression       1.0        1.0     1.0       1.0\n",
              "1                Random Forest       1.0        1.0     1.0       1.0\n",
              "2                Decision Tree       1.0        1.0     1.0       1.0\n",
              "3        Random Forest (Tuned)       1.0        1.0     1.0       1.0\n",
              "4  Logistic Regression (Tuned)       1.0        1.0     1.0       1.0\n",
              "5        Decision Tree (Tuned)       1.0        1.0     1.0       1.0"
            ]
          },
          "execution_count": 25,
          "metadata": {},
          "output_type": "execute_result"
        }
      ],
      "source": [
        "df_merged = pd.concat([df, df_tuned], ignore_index=True)\n",
        "df_merged.iloc[[1, 2]] = df_merged.iloc[[2, 1]].values\n",
        "df_merged"
      ]
    },
    {
      "cell_type": "markdown",
      "metadata": {},
      "source": [
        "Sebelum dilakukan tuning, model yang digunakan (Logistic Regression, Random Forest, dan Decision Tree) sudah menunjukkan akurasi, precision, recall, dan F1-score sebesar 1.0 (100%). Hal ini mengindikasikan bahwa model mampu mengklasifikasikan data dengan sempurna tanpa kesalahan.\n",
        "\n",
        "Namun, nilai yang terlalu sempurna ini perlu diperiksa lebih lanjut karena bisa saja:\n",
        "- Overfitting – Model mungkin hanya menghafal data dan tidak akan bekerja dengan baik pada data baru.\n",
        "- Data Tidak Seimbang – Jika ada ketimpangan jumlah sampel antar kelas, model bisa saja hanya belajar untuk mengklasifikasikan mayoritas kelas dengan benar.\n",
        "- Kesalahan Implementasi – Misalnya, kebocoran data (data leakage) dari dataset pelatihan ke pengujian.\n"
      ]
    },
    {
      "cell_type": "markdown",
      "metadata": {},
      "source": [
        "Setelah dilakukan hyperparameter tuning, hasil evaluasi tetap 1.0 di semua metrik untuk semua model. Ini bisa berarti:\n",
        "- Tuning tidak memberikan perbedaan signifikan, karena model awal sudah sangat baik.\n",
        "- Data mungkin terlalu mudah diprediksi, sehingga model tidak menemui tantangan dalam klasifikasi.\n",
        "- Kemungkinan data leakage masih ada, perlu diperiksa ulang apakah data uji benar-benar tidak bocor dari data latih."
      ]
    },
    {
      "cell_type": "markdown",
      "metadata": {},
      "source": [
        "Rekomendasi & Langkah Selanjutnya:\n",
        "1. Cek Data Leakage:\n",
        "     - Pastikan X_test dan y_test tidak memiliki data yang pernah digunakan dalam pelatihan.\n",
        "     - Gunakan train_test_split(random_state=None) untuk meminimalkan kemungkinan kebocoran.\n",
        "2. Lakukan Cross-Validation\n",
        "     - Gunakan K-Fold Cross Validation untuk mengevaluasi performa model di berbagai subset data.\n",
        "3. Gunakan Metrik Tambahan\n",
        "     - Jika memungkinkan, gunakan ROC-AUC Score atau Precision-Recall Curve untuk analisis lebih mendalam."
      ]
    }
  ],
  "metadata": {
    "colab": {
      "provenance": []
    },
    "kernelspec": {
      "display_name": "datascience",
      "language": "python",
      "name": "python3"
    },
    "language_info": {
      "codemirror_mode": {
        "name": "ipython",
        "version": 3
      },
      "file_extension": ".py",
      "mimetype": "text/x-python",
      "name": "python",
      "nbconvert_exporter": "python",
      "pygments_lexer": "ipython3",
      "version": "3.12.2"
    }
  },
  "nbformat": 4,
  "nbformat_minor": 0
}
