{
  "cells": [
    {
      "cell_type": "markdown",
      "metadata": {
        "id": "fKADPWcFKlj3"
      },
      "source": [
        "# **1. Import Library** (FIX)"
      ]
    },
    {
      "cell_type": "markdown",
      "metadata": {
        "id": "LgA3ERnVn84N"
      },
      "source": [
        "Pada tahap ini, kita akan mengimpor beberapa pustaka (library) Python yang diperlukan untuk melakukan analisis data serta membangun model machine learning. Pustaka ini mencakup berbagai fungsi, mulai dari manipulasi data, visualisasi, hingga pembangunan model machine learning."
      ]
    },
    {
      "cell_type": "code",
      "execution_count": null,
      "metadata": {
        "id": "BlmvjLY9M4Yj"
      },
      "outputs": [],
      "source": [
        "# Import library untuk manipulasi dan visualisasi Data\n",
        "import pandas as pd  # Untuk mengelola dan menganalisis data dalam bentuk DataFrame\n",
        "import numpy as np\n",
        "import seaborn as sns  # Untuk visualisasi data yang lebih informatif\n",
        "import matplotlib.pyplot as plt  # Untuk membuat grafik dan plot\n",
        "\n",
        "# Import library untuk preprocessing data\n",
        "from sklearn.model_selection import train_test_split, RandomizedSearchCV\n",
        "from sklearn.preprocessing import LabelEncoder, MinMaxScaler\n",
        "\n",
        "# Import library untuk membangun model machine learning\n",
        "from sklearn.ensemble import RandomForestClassifier\n",
        "from sklearn.linear_model import LogisticRegression\n",
        "from sklearn.tree import DecisionTreeClassifier\n",
        "\n",
        "# Import library untuk evaluasi model\n",
        "from sklearn.metrics import confusion_matrix, classification_report"
      ]
    },
    {
      "cell_type": "markdown",
      "metadata": {
        "id": "f3YIEnAFKrKL"
      },
      "source": [
        "# **2. Memuat Dataset dari Hasil Clustering** (FIX)"
      ]
    },
    {
      "cell_type": "markdown",
      "metadata": {
        "id": "Ey3ItwTen_7E"
      },
      "source": [
        "Pada tahap ini, Kita perlu memuat dataset ke dalam notebook dalam format CSV dengan menggunakan pustaka `pandas` untuk membacanya. Kita akan mengecek beberapa baris awal dataset untuk memahami struktur datanya."
      ]
    },
    {
      "cell_type": "code",
      "execution_count": 64,
      "metadata": {
        "id": "GHCGNTyrM5fS"
      },
      "outputs": [
        {
          "data": {
            "text/html": [
              "<div>\n",
              "<style scoped>\n",
              "    .dataframe tbody tr th:only-of-type {\n",
              "        vertical-align: middle;\n",
              "    }\n",
              "\n",
              "    .dataframe tbody tr th {\n",
              "        vertical-align: top;\n",
              "    }\n",
              "\n",
              "    .dataframe thead th {\n",
              "        text-align: right;\n",
              "    }\n",
              "</style>\n",
              "<table border=\"1\" class=\"dataframe\">\n",
              "  <thead>\n",
              "    <tr style=\"text-align: right;\">\n",
              "      <th></th>\n",
              "      <th>Order_ID</th>\n",
              "      <th>Customer_ID</th>\n",
              "      <th>Customer_Type</th>\n",
              "      <th>Product</th>\n",
              "      <th>Category</th>\n",
              "      <th>Unit_Price</th>\n",
              "      <th>Quantity</th>\n",
              "      <th>Discount</th>\n",
              "      <th>Total_Price</th>\n",
              "      <th>Region</th>\n",
              "      <th>Order_Date</th>\n",
              "      <th>Quantity_Category</th>\n",
              "      <th>Discount_Category</th>\n",
              "      <th>Cluster</th>\n",
              "    </tr>\n",
              "  </thead>\n",
              "  <tbody>\n",
              "    <tr>\n",
              "      <th>0</th>\n",
              "      <td>ORD697566</td>\n",
              "      <td>CUS6363</td>\n",
              "      <td>B2C</td>\n",
              "      <td>Coca-Cola</td>\n",
              "      <td>Soft Drinks</td>\n",
              "      <td>1.04</td>\n",
              "      <td>7.0</td>\n",
              "      <td>0.00</td>\n",
              "      <td>7.28</td>\n",
              "      <td>Bremen</td>\n",
              "      <td>2021-02-17</td>\n",
              "      <td>Medium</td>\n",
              "      <td>NaN</td>\n",
              "      <td>2</td>\n",
              "    </tr>\n",
              "    <tr>\n",
              "      <th>1</th>\n",
              "      <td>ORD1118443</td>\n",
              "      <td>CUS7797</td>\n",
              "      <td>B2B</td>\n",
              "      <td>Selters</td>\n",
              "      <td>Water</td>\n",
              "      <td>0.71</td>\n",
              "      <td>46.0</td>\n",
              "      <td>0.10</td>\n",
              "      <td>29.39</td>\n",
              "      <td>Sachsen-Anhalt</td>\n",
              "      <td>2023-04-15</td>\n",
              "      <td>High</td>\n",
              "      <td>Low</td>\n",
              "      <td>0</td>\n",
              "    </tr>\n",
              "    <tr>\n",
              "      <th>2</th>\n",
              "      <td>ORD1437128</td>\n",
              "      <td>CUS6393</td>\n",
              "      <td>B2B</td>\n",
              "      <td>Monster</td>\n",
              "      <td>Soft Drinks</td>\n",
              "      <td>2.68</td>\n",
              "      <td>30.0</td>\n",
              "      <td>0.05</td>\n",
              "      <td>76.38</td>\n",
              "      <td>Schleswig-Holstein</td>\n",
              "      <td>2021-09-07</td>\n",
              "      <td>High</td>\n",
              "      <td>Low</td>\n",
              "      <td>2</td>\n",
              "    </tr>\n",
              "    <tr>\n",
              "      <th>3</th>\n",
              "      <td>ORD562794</td>\n",
              "      <td>CUS4090</td>\n",
              "      <td>B2C</td>\n",
              "      <td>San Pellegrino</td>\n",
              "      <td>Water</td>\n",
              "      <td>0.91</td>\n",
              "      <td>3.0</td>\n",
              "      <td>0.00</td>\n",
              "      <td>2.73</td>\n",
              "      <td>Hessen</td>\n",
              "      <td>2023-04-28</td>\n",
              "      <td>Low</td>\n",
              "      <td>NaN</td>\n",
              "      <td>0</td>\n",
              "    </tr>\n",
              "    <tr>\n",
              "      <th>4</th>\n",
              "      <td>ORD2320519</td>\n",
              "      <td>CUS5936</td>\n",
              "      <td>B2C</td>\n",
              "      <td>Beck's</td>\n",
              "      <td>Alcoholic Beverages</td>\n",
              "      <td>1.41</td>\n",
              "      <td>4.0</td>\n",
              "      <td>0.00</td>\n",
              "      <td>5.64</td>\n",
              "      <td>Bremen</td>\n",
              "      <td>2023-11-01</td>\n",
              "      <td>Low</td>\n",
              "      <td>NaN</td>\n",
              "      <td>3</td>\n",
              "    </tr>\n",
              "    <tr>\n",
              "      <th>...</th>\n",
              "      <td>...</td>\n",
              "      <td>...</td>\n",
              "      <td>...</td>\n",
              "      <td>...</td>\n",
              "      <td>...</td>\n",
              "      <td>...</td>\n",
              "      <td>...</td>\n",
              "      <td>...</td>\n",
              "      <td>...</td>\n",
              "      <td>...</td>\n",
              "      <td>...</td>\n",
              "      <td>...</td>\n",
              "      <td>...</td>\n",
              "      <td>...</td>\n",
              "    </tr>\n",
              "    <tr>\n",
              "      <th>1510</th>\n",
              "      <td>ORD1795421</td>\n",
              "      <td>CUS4304</td>\n",
              "      <td>B2C</td>\n",
              "      <td>Warsteiner</td>\n",
              "      <td>Alcoholic Beverages</td>\n",
              "      <td>1.05</td>\n",
              "      <td>9.0</td>\n",
              "      <td>0.00</td>\n",
              "      <td>9.45</td>\n",
              "      <td>Nordrhein-Westfalen</td>\n",
              "      <td>2022-06-30</td>\n",
              "      <td>Medium</td>\n",
              "      <td>NaN</td>\n",
              "      <td>3</td>\n",
              "    </tr>\n",
              "    <tr>\n",
              "      <th>1511</th>\n",
              "      <td>ORD2551132</td>\n",
              "      <td>CUS3279</td>\n",
              "      <td>B2C</td>\n",
              "      <td>Selters</td>\n",
              "      <td>Water</td>\n",
              "      <td>0.47</td>\n",
              "      <td>8.0</td>\n",
              "      <td>0.00</td>\n",
              "      <td>3.76</td>\n",
              "      <td>Bayern</td>\n",
              "      <td>2022-02-23</td>\n",
              "      <td>Medium</td>\n",
              "      <td>NaN</td>\n",
              "      <td>0</td>\n",
              "    </tr>\n",
              "    <tr>\n",
              "      <th>1512</th>\n",
              "      <td>ORD622704</td>\n",
              "      <td>CUS1332</td>\n",
              "      <td>B2C</td>\n",
              "      <td>Pepsi</td>\n",
              "      <td>Soft Drinks</td>\n",
              "      <td>1.49</td>\n",
              "      <td>3.0</td>\n",
              "      <td>0.00</td>\n",
              "      <td>4.47</td>\n",
              "      <td>Bayern</td>\n",
              "      <td>2021-11-23</td>\n",
              "      <td>Low</td>\n",
              "      <td>NaN</td>\n",
              "      <td>2</td>\n",
              "    </tr>\n",
              "    <tr>\n",
              "      <th>1513</th>\n",
              "      <td>ORD1378485</td>\n",
              "      <td>CUS6341</td>\n",
              "      <td>B2C</td>\n",
              "      <td>Mango Juice</td>\n",
              "      <td>Juices</td>\n",
              "      <td>3.31</td>\n",
              "      <td>12.0</td>\n",
              "      <td>0.00</td>\n",
              "      <td>39.72</td>\n",
              "      <td>Sachsen</td>\n",
              "      <td>2023-03-14</td>\n",
              "      <td>High</td>\n",
              "      <td>NaN</td>\n",
              "      <td>1</td>\n",
              "    </tr>\n",
              "    <tr>\n",
              "      <th>1514</th>\n",
              "      <td>ORD305171</td>\n",
              "      <td>CUS3940</td>\n",
              "      <td>B2C</td>\n",
              "      <td>Rauch Multivitamin</td>\n",
              "      <td>Juices</td>\n",
              "      <td>2.38</td>\n",
              "      <td>4.0</td>\n",
              "      <td>0.00</td>\n",
              "      <td>9.52</td>\n",
              "      <td>Schleswig-Holstein</td>\n",
              "      <td>2022-08-16</td>\n",
              "      <td>Low</td>\n",
              "      <td>NaN</td>\n",
              "      <td>1</td>\n",
              "    </tr>\n",
              "  </tbody>\n",
              "</table>\n",
              "<p>1515 rows × 14 columns</p>\n",
              "</div>"
            ],
            "text/plain": [
              "        Order_ID Customer_ID Customer_Type             Product  \\\n",
              "0      ORD697566     CUS6363           B2C           Coca-Cola   \n",
              "1     ORD1118443     CUS7797           B2B             Selters   \n",
              "2     ORD1437128     CUS6393           B2B             Monster   \n",
              "3      ORD562794     CUS4090           B2C      San Pellegrino   \n",
              "4     ORD2320519     CUS5936           B2C              Beck's   \n",
              "...          ...         ...           ...                 ...   \n",
              "1510  ORD1795421     CUS4304           B2C          Warsteiner   \n",
              "1511  ORD2551132     CUS3279           B2C             Selters   \n",
              "1512   ORD622704     CUS1332           B2C               Pepsi   \n",
              "1513  ORD1378485     CUS6341           B2C         Mango Juice   \n",
              "1514   ORD305171     CUS3940           B2C  Rauch Multivitamin   \n",
              "\n",
              "                 Category  Unit_Price  Quantity  Discount  Total_Price  \\\n",
              "0             Soft Drinks        1.04       7.0      0.00         7.28   \n",
              "1                   Water        0.71      46.0      0.10        29.39   \n",
              "2             Soft Drinks        2.68      30.0      0.05        76.38   \n",
              "3                   Water        0.91       3.0      0.00         2.73   \n",
              "4     Alcoholic Beverages        1.41       4.0      0.00         5.64   \n",
              "...                   ...         ...       ...       ...          ...   \n",
              "1510  Alcoholic Beverages        1.05       9.0      0.00         9.45   \n",
              "1511                Water        0.47       8.0      0.00         3.76   \n",
              "1512          Soft Drinks        1.49       3.0      0.00         4.47   \n",
              "1513               Juices        3.31      12.0      0.00        39.72   \n",
              "1514               Juices        2.38       4.0      0.00         9.52   \n",
              "\n",
              "                   Region  Order_Date Quantity_Category Discount_Category  \\\n",
              "0                  Bremen  2021-02-17            Medium               NaN   \n",
              "1          Sachsen-Anhalt  2023-04-15              High               Low   \n",
              "2      Schleswig-Holstein  2021-09-07              High               Low   \n",
              "3                  Hessen  2023-04-28               Low               NaN   \n",
              "4                  Bremen  2023-11-01               Low               NaN   \n",
              "...                   ...         ...               ...               ...   \n",
              "1510  Nordrhein-Westfalen  2022-06-30            Medium               NaN   \n",
              "1511               Bayern  2022-02-23            Medium               NaN   \n",
              "1512               Bayern  2021-11-23               Low               NaN   \n",
              "1513              Sachsen  2023-03-14              High               NaN   \n",
              "1514   Schleswig-Holstein  2022-08-16               Low               NaN   \n",
              "\n",
              "      Cluster  \n",
              "0           2  \n",
              "1           0  \n",
              "2           2  \n",
              "3           0  \n",
              "4           3  \n",
              "...       ...  \n",
              "1510        3  \n",
              "1511        0  \n",
              "1512        2  \n",
              "1513        1  \n",
              "1514        1  \n",
              "\n",
              "[1515 rows x 14 columns]"
            ]
          },
          "execution_count": 64,
          "metadata": {},
          "output_type": "execute_result"
        }
      ],
      "source": [
        "df_sales_cleaned = pd.read_csv('Dataset_klasifikasi.csv')\n",
        "df_sales_cleaned"
      ]
    },
    {
      "cell_type": "markdown",
      "metadata": {
        "id": "KkPem5eWL2UP"
      },
      "source": [
        "# **3. Data Splitting** (FIX)"
      ]
    },
    {
      "cell_type": "markdown",
      "metadata": {},
      "source": [
        "Pertama-tama kita akan membersihkan dataset agar dataset hanya berisi informasi yang relevan dan tidak mengandung duplikasi yang dapat memengaruhi analisis. Pada tahap ini, terdapat beberapa kolom yang kurang relevan, seperti Order_ID dan Customer_ID, yang tidak memberikan kontribusi signifikan dalam analisis. Selain itu, kolom seperti Order_Date, Quantity_Category, dan Discount_Category juga dihapus karena tidak diperlukan dalam pemodelan."
      ]
    },
    {
      "cell_type": "code",
      "execution_count": null,
      "metadata": {},
      "outputs": [],
      "source": [
        "df_sales_cleaned = df_sales_cleaned.drop(columns=['Order_ID','Customer_ID','Order_Date','Quantity_Category','Discount_Category'])"
      ]
    },
    {
      "cell_type": "markdown",
      "metadata": {},
      "source": [
        "Untuk menghindari bias akibat data yang berulang, dilakukan penghapusan duplikasi. Hal ini bertujuan agar setiap baris dalam dataset merepresentasikan informasi yang unik, sehingga model dapat belajar dari pola yang beragam tanpa dipengaruhi oleh data yang berulang."
      ]
    },
    {
      "cell_type": "code",
      "execution_count": 65,
      "metadata": {
        "id": "OubAW-7ONKVj"
      },
      "outputs": [],
      "source": [
        "df_sales_cleaned = df_sales_cleaned.drop_duplicates(ignore_index=True)"
      ]
    },
    {
      "cell_type": "markdown",
      "metadata": {},
      "source": [
        "Cek kembali data setelah dilakukan penghapusan duplikasi dengan menggunakan method info()."
      ]
    },
    {
      "cell_type": "code",
      "execution_count": 66,
      "metadata": {},
      "outputs": [
        {
          "name": "stdout",
          "output_type": "stream",
          "text": [
            "<class 'pandas.core.frame.DataFrame'>\n",
            "RangeIndex: 1515 entries, 0 to 1514\n",
            "Data columns (total 14 columns):\n",
            " #   Column             Non-Null Count  Dtype  \n",
            "---  ------             --------------  -----  \n",
            " 0   Order_ID           1515 non-null   object \n",
            " 1   Customer_ID        1515 non-null   object \n",
            " 2   Customer_Type      1515 non-null   object \n",
            " 3   Product            1515 non-null   object \n",
            " 4   Category           1515 non-null   object \n",
            " 5   Unit_Price         1515 non-null   float64\n",
            " 6   Quantity           1515 non-null   float64\n",
            " 7   Discount           1515 non-null   float64\n",
            " 8   Total_Price        1515 non-null   float64\n",
            " 9   Region             1515 non-null   object \n",
            " 10  Order_Date         1515 non-null   object \n",
            " 11  Quantity_Category  1427 non-null   object \n",
            " 12  Discount_Category  389 non-null    object \n",
            " 13  Cluster            1515 non-null   int64  \n",
            "dtypes: float64(4), int64(1), object(9)\n",
            "memory usage: 165.8+ KB\n"
          ]
        }
      ],
      "source": [
        "df_sales_cleaned.info()"
      ]
    },
    {
      "cell_type": "markdown",
      "metadata": {},
      "source": [
        "Setelah proses ini, dataset menjadi lebih ringkas dan hanya berisi kolom-kolom yang diperlukan untuk analisis lebih lanjut. Tidak ada lagi duplikasi yang dapat mempengaruhi hasil pemodelan. Tahap ini penting untuk memastikan bahwa model yang akan dibangun dapat melakukan generalisasi dengan baik terhadap data baru."
      ]
    },
    {
      "cell_type": "markdown",
      "metadata": {},
      "source": [
        "Langkah penting yang harus dilakukan adalah memisahkan dataset menjadi features (X) dan target (y). Dalam konteks ini, features merupakan variabel independen yang akan digunakan oleh model untuk melakukan prediksi, sedangkan target adalah variabel dependen yang menjadi output dari model."
      ]
    },
    {
      "cell_type": "markdown",
      "metadata": {},
      "source": [
        "Pada dataset ini, kolom 'Cluster' adalah label atau target yang ingin diprediksi, sehingga perlu dipisahkan dari dataset utama. Sementara itu, kolom lainnya akan menjadi fitur yang digunakan dalam analisis."
      ]
    },
    {
      "cell_type": "code",
      "execution_count": null,
      "metadata": {},
      "outputs": [
        {
          "data": {
            "text/html": [
              "<div>\n",
              "<style scoped>\n",
              "    .dataframe tbody tr th:only-of-type {\n",
              "        vertical-align: middle;\n",
              "    }\n",
              "\n",
              "    .dataframe tbody tr th {\n",
              "        vertical-align: top;\n",
              "    }\n",
              "\n",
              "    .dataframe thead th {\n",
              "        text-align: right;\n",
              "    }\n",
              "</style>\n",
              "<table border=\"1\" class=\"dataframe\">\n",
              "  <thead>\n",
              "    <tr style=\"text-align: right;\">\n",
              "      <th></th>\n",
              "      <th>Customer_Type</th>\n",
              "      <th>Product</th>\n",
              "      <th>Category</th>\n",
              "      <th>Unit_Price</th>\n",
              "      <th>Quantity</th>\n",
              "      <th>Discount</th>\n",
              "      <th>Total_Price</th>\n",
              "      <th>Region</th>\n",
              "    </tr>\n",
              "  </thead>\n",
              "  <tbody>\n",
              "    <tr>\n",
              "      <th>0</th>\n",
              "      <td>B2C</td>\n",
              "      <td>Coca-Cola</td>\n",
              "      <td>Soft Drinks</td>\n",
              "      <td>1.04</td>\n",
              "      <td>7.0</td>\n",
              "      <td>0.00</td>\n",
              "      <td>7.28</td>\n",
              "      <td>Bremen</td>\n",
              "    </tr>\n",
              "    <tr>\n",
              "      <th>1</th>\n",
              "      <td>B2B</td>\n",
              "      <td>Selters</td>\n",
              "      <td>Water</td>\n",
              "      <td>0.71</td>\n",
              "      <td>46.0</td>\n",
              "      <td>0.10</td>\n",
              "      <td>29.39</td>\n",
              "      <td>Sachsen-Anhalt</td>\n",
              "    </tr>\n",
              "    <tr>\n",
              "      <th>2</th>\n",
              "      <td>B2B</td>\n",
              "      <td>Monster</td>\n",
              "      <td>Soft Drinks</td>\n",
              "      <td>2.68</td>\n",
              "      <td>30.0</td>\n",
              "      <td>0.05</td>\n",
              "      <td>76.38</td>\n",
              "      <td>Schleswig-Holstein</td>\n",
              "    </tr>\n",
              "    <tr>\n",
              "      <th>3</th>\n",
              "      <td>B2C</td>\n",
              "      <td>San Pellegrino</td>\n",
              "      <td>Water</td>\n",
              "      <td>0.91</td>\n",
              "      <td>3.0</td>\n",
              "      <td>0.00</td>\n",
              "      <td>2.73</td>\n",
              "      <td>Hessen</td>\n",
              "    </tr>\n",
              "    <tr>\n",
              "      <th>4</th>\n",
              "      <td>B2C</td>\n",
              "      <td>Beck's</td>\n",
              "      <td>Alcoholic Beverages</td>\n",
              "      <td>1.41</td>\n",
              "      <td>4.0</td>\n",
              "      <td>0.00</td>\n",
              "      <td>5.64</td>\n",
              "      <td>Bremen</td>\n",
              "    </tr>\n",
              "  </tbody>\n",
              "</table>\n",
              "</div>"
            ],
            "text/plain": [
              "  Customer_Type         Product             Category  Unit_Price  Quantity  \\\n",
              "0           B2C       Coca-Cola          Soft Drinks        1.04       7.0   \n",
              "1           B2B         Selters                Water        0.71      46.0   \n",
              "2           B2B         Monster          Soft Drinks        2.68      30.0   \n",
              "3           B2C  San Pellegrino                Water        0.91       3.0   \n",
              "4           B2C          Beck's  Alcoholic Beverages        1.41       4.0   \n",
              "\n",
              "   Discount  Total_Price              Region  \n",
              "0      0.00         7.28              Bremen  \n",
              "1      0.10        29.39      Sachsen-Anhalt  \n",
              "2      0.05        76.38  Schleswig-Holstein  \n",
              "3      0.00         2.73              Hessen  \n",
              "4      0.00         5.64              Bremen  "
            ]
          },
          "execution_count": 40,
          "metadata": {},
          "output_type": "execute_result"
        }
      ],
      "source": [
        "X = df_sales_cleaned.drop(columns=['Cluster'])\n",
        "y = df_sales_cleaned['Cluster']\n",
        "\n",
        "# Tampilkan lima baris pertama dari fitur\n",
        "X.head()"
      ]
    },
    {
      "cell_type": "markdown",
      "metadata": {},
      "source": [
        "Setelah proses ini, dataset terbagi menjadi dua bagian:\n",
        "- X (Fitur): Berisi seluruh kolom kecuali 'Cluster', yang akan digunakan sebagai input dalam model.\n",
        "- y (Target): Berisi hanya kolom 'Cluster', yang akan menjadi label atau hasil prediksi model.\n",
        "\n",
        "Tahap ini penting untuk memastikan bahwa model hanya belajar dari informasi yang relevan tanpa kebocoran data dari target."
      ]
    },
    {
      "cell_type": "markdown",
      "metadata": {},
      "source": [
        "Kita perlu memastikan bahwa data numerik memiliki skala yang seragam. Salah satu metode yang umum digunakan untuk ini adalah normalisasi.\n",
        "\n",
        "Dalam dataset ini, terdapat beberapa kolom numerik dengan rentang nilai yang berbeda. Jika tidak dinormalisasi, model dapat memberikan bobot yang lebih besar pada fitur dengan nilai lebih tinggi, yang dapat menyebabkan bias dalam proses pelatihan. Oleh karena itu, kita akan menggunakan MinMaxScaler dari sklearn.preprocessing untuk menormalisasi semua kolom numerik ke dalam rentang 0 hingga 1."
      ]
    },
    {
      "cell_type": "code",
      "execution_count": null,
      "metadata": {},
      "outputs": [
        {
          "data": {
            "text/html": [
              "<div>\n",
              "<style scoped>\n",
              "    .dataframe tbody tr th:only-of-type {\n",
              "        vertical-align: middle;\n",
              "    }\n",
              "\n",
              "    .dataframe tbody tr th {\n",
              "        vertical-align: top;\n",
              "    }\n",
              "\n",
              "    .dataframe thead th {\n",
              "        text-align: right;\n",
              "    }\n",
              "</style>\n",
              "<table border=\"1\" class=\"dataframe\">\n",
              "  <thead>\n",
              "    <tr style=\"text-align: right;\">\n",
              "      <th></th>\n",
              "      <th>Customer_Type</th>\n",
              "      <th>Product</th>\n",
              "      <th>Category</th>\n",
              "      <th>Unit_Price</th>\n",
              "      <th>Quantity</th>\n",
              "      <th>Discount</th>\n",
              "      <th>Total_Price</th>\n",
              "      <th>Region</th>\n",
              "    </tr>\n",
              "  </thead>\n",
              "  <tbody>\n",
              "    <tr>\n",
              "      <th>0</th>\n",
              "      <td>B2C</td>\n",
              "      <td>Coca-Cola</td>\n",
              "      <td>Soft Drinks</td>\n",
              "      <td>0.126582</td>\n",
              "      <td>0.085714</td>\n",
              "      <td>0.0</td>\n",
              "      <td>0.041499</td>\n",
              "      <td>Bremen</td>\n",
              "    </tr>\n",
              "    <tr>\n",
              "      <th>1</th>\n",
              "      <td>B2B</td>\n",
              "      <td>Selters</td>\n",
              "      <td>Water</td>\n",
              "      <td>0.066908</td>\n",
              "      <td>0.642857</td>\n",
              "      <td>1.0</td>\n",
              "      <td>0.174667</td>\n",
              "      <td>Sachsen-Anhalt</td>\n",
              "    </tr>\n",
              "    <tr>\n",
              "      <th>2</th>\n",
              "      <td>B2B</td>\n",
              "      <td>Monster</td>\n",
              "      <td>Soft Drinks</td>\n",
              "      <td>0.423146</td>\n",
              "      <td>0.414286</td>\n",
              "      <td>0.5</td>\n",
              "      <td>0.457688</td>\n",
              "      <td>Schleswig-Holstein</td>\n",
              "    </tr>\n",
              "    <tr>\n",
              "      <th>3</th>\n",
              "      <td>B2C</td>\n",
              "      <td>San Pellegrino</td>\n",
              "      <td>Water</td>\n",
              "      <td>0.103074</td>\n",
              "      <td>0.028571</td>\n",
              "      <td>0.0</td>\n",
              "      <td>0.014094</td>\n",
              "      <td>Hessen</td>\n",
              "    </tr>\n",
              "    <tr>\n",
              "      <th>4</th>\n",
              "      <td>B2C</td>\n",
              "      <td>Beck's</td>\n",
              "      <td>Alcoholic Beverages</td>\n",
              "      <td>0.193490</td>\n",
              "      <td>0.042857</td>\n",
              "      <td>0.0</td>\n",
              "      <td>0.031621</td>\n",
              "      <td>Bremen</td>\n",
              "    </tr>\n",
              "  </tbody>\n",
              "</table>\n",
              "</div>"
            ],
            "text/plain": [
              "  Customer_Type         Product             Category  Unit_Price  Quantity  \\\n",
              "0           B2C       Coca-Cola          Soft Drinks    0.126582  0.085714   \n",
              "1           B2B         Selters                Water    0.066908  0.642857   \n",
              "2           B2B         Monster          Soft Drinks    0.423146  0.414286   \n",
              "3           B2C  San Pellegrino                Water    0.103074  0.028571   \n",
              "4           B2C          Beck's  Alcoholic Beverages    0.193490  0.042857   \n",
              "\n",
              "   Discount  Total_Price              Region  \n",
              "0       0.0     0.041499              Bremen  \n",
              "1       1.0     0.174667      Sachsen-Anhalt  \n",
              "2       0.5     0.457688  Schleswig-Holstein  \n",
              "3       0.0     0.014094              Hessen  \n",
              "4       0.0     0.031621              Bremen  "
            ]
          },
          "execution_count": 41,
          "metadata": {},
          "output_type": "execute_result"
        }
      ],
      "source": [
        "# Buat instance MinMaxScaler\n",
        "scaler = MinMaxScaler()\n",
        "\n",
        "# Normalisasi semua kolom numerik\n",
        "numeric_columns = X.select_dtypes(include=['int64', 'float64']).columns\n",
        "X[numeric_columns] = scaler.fit_transform(X[numeric_columns])\n",
        "\n",
        "# Tampilkan lima baris pertama setelah normalisasi\n",
        "X.head()"
      ]
    },
    {
      "cell_type": "markdown",
      "metadata": {},
      "source": [
        "Setelah proses ini, semua kolom numerik dalam dataset telah diubah ke skala 0 hingga 1, yang memastikan bahwa tidak ada fitur yang mendominasi model karena perbedaan skala. Dengan data yang telah dinormalisasi, model yang akan kita gunakan nantinya dapat bekerja lebih optimal dan menghasilkan prediksi yang lebih akurat."
      ]
    },
    {
      "cell_type": "markdown",
      "metadata": {},
      "source": [
        "Dataset yang kita gunakan mengandung beberapa fitur kategorikal, yaitu kolom yang berisi nilai dalam bentuk teks atau kategori. Namun, model machine learning tidak dapat bekerja langsung dengan data kategorikal, sehingga kita perlu mengonversinya ke bentuk numerik."
      ]
    },
    {
      "cell_type": "markdown",
      "metadata": {},
      "source": [
        "Salah satu metode yang umum digunakan untuk encoding data kategorikal adalah Label Encoding, yang mengubah setiap kategori dalam suatu fitur menjadi angka unik. Ini berguna ketika kategori memiliki hubungan ordinal atau saat kita ingin menggunakan model yang tidak sensitif terhadap skala nilai, seperti tree-based models (misalnya, Random Forest dan Decision Tree)."
      ]
    },
    {
      "cell_type": "markdown",
      "metadata": {},
      "source": [
        "Dalam tahap ini, kita akan menerapkan Label Encoding menggunakan LabelEncoder dari sklearn.preprocessing untuk mengonversi semua kolom kategorikal ke dalam format numerik."
      ]
    },
    {
      "cell_type": "code",
      "execution_count": null,
      "metadata": {},
      "outputs": [
        {
          "data": {
            "text/html": [
              "<div>\n",
              "<style scoped>\n",
              "    .dataframe tbody tr th:only-of-type {\n",
              "        vertical-align: middle;\n",
              "    }\n",
              "\n",
              "    .dataframe tbody tr th {\n",
              "        vertical-align: top;\n",
              "    }\n",
              "\n",
              "    .dataframe thead th {\n",
              "        text-align: right;\n",
              "    }\n",
              "</style>\n",
              "<table border=\"1\" class=\"dataframe\">\n",
              "  <thead>\n",
              "    <tr style=\"text-align: right;\">\n",
              "      <th></th>\n",
              "      <th>Customer_Type</th>\n",
              "      <th>Product</th>\n",
              "      <th>Category</th>\n",
              "      <th>Unit_Price</th>\n",
              "      <th>Quantity</th>\n",
              "      <th>Discount</th>\n",
              "      <th>Total_Price</th>\n",
              "      <th>Region</th>\n",
              "    </tr>\n",
              "  </thead>\n",
              "  <tbody>\n",
              "    <tr>\n",
              "      <th>0</th>\n",
              "      <td>1</td>\n",
              "      <td>5</td>\n",
              "      <td>2</td>\n",
              "      <td>0.126582</td>\n",
              "      <td>0.085714</td>\n",
              "      <td>0.0</td>\n",
              "      <td>0.041499</td>\n",
              "      <td>4</td>\n",
              "    </tr>\n",
              "    <tr>\n",
              "      <th>1</th>\n",
              "      <td>0</td>\n",
              "      <td>31</td>\n",
              "      <td>3</td>\n",
              "      <td>0.066908</td>\n",
              "      <td>0.642857</td>\n",
              "      <td>1.0</td>\n",
              "      <td>0.174667</td>\n",
              "      <td>13</td>\n",
              "    </tr>\n",
              "    <tr>\n",
              "      <th>2</th>\n",
              "      <td>0</td>\n",
              "      <td>20</td>\n",
              "      <td>2</td>\n",
              "      <td>0.423146</td>\n",
              "      <td>0.414286</td>\n",
              "      <td>0.5</td>\n",
              "      <td>0.457688</td>\n",
              "      <td>14</td>\n",
              "    </tr>\n",
              "    <tr>\n",
              "      <th>3</th>\n",
              "      <td>1</td>\n",
              "      <td>28</td>\n",
              "      <td>3</td>\n",
              "      <td>0.103074</td>\n",
              "      <td>0.028571</td>\n",
              "      <td>0.0</td>\n",
              "      <td>0.014094</td>\n",
              "      <td>6</td>\n",
              "    </tr>\n",
              "    <tr>\n",
              "      <th>4</th>\n",
              "      <td>1</td>\n",
              "      <td>2</td>\n",
              "      <td>0</td>\n",
              "      <td>0.193490</td>\n",
              "      <td>0.042857</td>\n",
              "      <td>0.0</td>\n",
              "      <td>0.031621</td>\n",
              "      <td>4</td>\n",
              "    </tr>\n",
              "  </tbody>\n",
              "</table>\n",
              "</div>"
            ],
            "text/plain": [
              "   Customer_Type  Product  Category  Unit_Price  Quantity  Discount  \\\n",
              "0              1        5         2    0.126582  0.085714       0.0   \n",
              "1              0       31         3    0.066908  0.642857       1.0   \n",
              "2              0       20         2    0.423146  0.414286       0.5   \n",
              "3              1       28         3    0.103074  0.028571       0.0   \n",
              "4              1        2         0    0.193490  0.042857       0.0   \n",
              "\n",
              "   Total_Price  Region  \n",
              "0     0.041499       4  \n",
              "1     0.174667      13  \n",
              "2     0.457688      14  \n",
              "3     0.014094       6  \n",
              "4     0.031621       4  "
            ]
          },
          "execution_count": 42,
          "metadata": {},
          "output_type": "execute_result"
        }
      ],
      "source": [
        "# Buat instance LabelEncoder\n",
        "encoder = LabelEncoder()\n",
        "\n",
        "# Melakukan encoding pada kolom kategorikal\n",
        "categorical_columns = X.select_dtypes(include=['object']).columns\n",
        "for column in categorical_columns:\n",
        "    X[column] = encoder.fit_transform(X[column])\n",
        "\n",
        "# Tampilkan lima baris pertama setelah encoding\n",
        "X.head()"
      ]
    },
    {
      "cell_type": "markdown",
      "metadata": {},
      "source": [
        "Setelah semua fitur numerik telah dinormalisasi dan fitur kategorikal telah dikonversi menjadi format numerik menggunakan Label Encoding, langkah selanjutnya adalah membagi dataset menjadi training set dan test set.\n",
        "\n",
        "Proses ini penting untuk mengevaluasi performa model machine learning. Dengan memisahkan sebagian data untuk pengujian, kita dapat mengukur bagaimana model akan bekerja pada data yang belum pernah dilihat sebelumnya.\n",
        "\n",
        "Dalam pembagian ini:\n",
        "- Training set (X_train, y_train) digunakan untuk melatih model.\n",
        "- Test set (X_test, y_test) digunakan untuk mengevaluasi kinerja model setelah pelatihan."
      ]
    },
    {
      "cell_type": "code",
      "execution_count": 43,
      "metadata": {},
      "outputs": [
        {
          "name": "stdout",
          "output_type": "stream",
          "text": [
            "Training set shape: X_train=(1189, 8), y_train=(1189,)\n",
            "Test set shape: X_test=(298, 8), y_test=(298,)\n"
          ]
        }
      ],
      "source": [
        "# Split data menjadi set pelatihan dan set uji\n",
        "X_train, X_test, y_train, y_test = train_test_split(X, y, test_size=0.2, random_state=69)\n",
        "\n",
        "# Tampilkan bentuk set pelatihan dan set uji untuk memastikan split\n",
        "print(f\"Training set shape: X_train={X_train.shape}, y_train={y_train.shape}\")\n",
        "print(f\"Test set shape: X_test={X_test.shape}, y_test={y_test.shape}\")"
      ]
    },
    {
      "cell_type": "markdown",
      "metadata": {},
      "source": [
        "Hasil dari X_train.shape dan X_test.shape menunjukkan jumlah sampel dan fitur dalam masing-masing set, sehingga kita dapat memastikan bahwa pemisahan dilakukan dengan benar."
      ]
    },
    {
      "cell_type": "markdown",
      "metadata": {
        "id": "IVPbB03CMhTT"
      },
      "source": [
        "# **4. Membangun Model Klasifikasi**\n"
      ]
    },
    {
      "cell_type": "markdown",
      "metadata": {
        "id": "Ned1pL9zMmBK"
      },
      "source": [
        "## **a. Membangun Model Klasifikasi**"
      ]
    },
    {
      "cell_type": "markdown",
      "metadata": {
        "id": "WAWzPOE4Nkti"
      },
      "source": [
        "Setelah memilih algoritma klasifikasi yang sesuai, langkah selanjutnya adalah melatih model menggunakan data latih.\n",
        "\n",
        "Berikut adalah rekomendasi tahapannya.\n",
        "1. Pilih algoritma klasifikasi yang sesuai, seperti Logistic Regression, Decision Tree, Random Forest, atau K-Nearest Neighbors (KNN).\n",
        "2. Latih model menggunakan data latih.\n",
        "\n",
        "---"
      ]
    },
    {
      "cell_type": "code",
      "execution_count": 44,
      "metadata": {
        "id": "4JYxBe87NLDk"
      },
      "outputs": [
        {
          "name": "stdout",
          "output_type": "stream",
          "text": [
            "Model training selesai.\n"
          ]
        },
        {
          "name": "stderr",
          "output_type": "stream",
          "text": [
            "d:\\Program_Files\\Anaconda\\envs\\datascience\\Lib\\site-packages\\sklearn\\linear_model\\_logistic.py:460: ConvergenceWarning: lbfgs failed to converge (status=1):\n",
            "STOP: TOTAL NO. OF ITERATIONS REACHED LIMIT.\n",
            "\n",
            "Increase the number of iterations (max_iter) or scale the data as shown in:\n",
            "    https://scikit-learn.org/stable/modules/preprocessing.html\n",
            "Please also refer to the documentation for alternative solver options:\n",
            "    https://scikit-learn.org/stable/modules/linear_model.html#logistic-regression\n",
            "  n_iter_i = _check_optimize_result(\n"
          ]
        }
      ],
      "source": [
        "# nb = GaussianNB().fit(X_train, y_train)\n",
        "rf = RandomForestClassifier(random_state=69).fit(X_train, y_train)\n",
        "log_reg = LogisticRegression(random_state=69).fit(X_train, y_train)\n",
        "dt = DecisionTreeClassifier(max_depth=5, random_state=69).fit(X_train, y_train)\n",
        "\n",
        "print(\"Model training selesai.\")"
      ]
    },
    {
      "cell_type": "markdown",
      "metadata": {
        "id": "seYoHNY3XU1y"
      },
      "source": [
        "Tulis narasi atau penjelasan algoritma yang Anda gunakan."
      ]
    },
    {
      "cell_type": "markdown",
      "metadata": {
        "id": "ergzChZFEL-O"
      },
      "source": [
        "## **b. Evaluasi Model Klasifikasi**"
      ]
    },
    {
      "cell_type": "markdown",
      "metadata": {
        "id": "zOm68u-7NpLT"
      },
      "source": [
        "Berikut adalah **rekomendasi** tahapannya.\n",
        "1. Lakukan prediksi menggunakan data uji.\n",
        "2. Hitung metrik evaluasi seperti Accuracy dan F1-Score (Opsional: Precision dan Recall).\n",
        "3. Buat confusion matrix untuk melihat detail prediksi benar dan salah.\n",
        "\n",
        "---"
      ]
    },
    {
      "cell_type": "code",
      "execution_count": 46,
      "metadata": {},
      "outputs": [
        {
          "name": "stdout",
          "output_type": "stream",
          "text": [
            "Logistic Regression Classification Report:\n",
            "               precision    recall  f1-score   support\n",
            "\n",
            "           0    1.00000   1.00000   1.00000        82\n",
            "           1    1.00000   1.00000   1.00000        91\n",
            "           2    1.00000   1.00000   1.00000        77\n",
            "           3    1.00000   1.00000   1.00000        48\n",
            "\n",
            "    accuracy                        1.00000       298\n",
            "   macro avg    1.00000   1.00000   1.00000       298\n",
            "weighted avg    1.00000   1.00000   1.00000       298\n",
            "\n"
          ]
        },
        {
          "data": {
            "image/png": "[encoded data removed]",
            "text/plain": [
              "<Figure size 700x700 with 1 Axes>"
            ]
          },
          "metadata": {},
          "output_type": "display_data"
        },
        {
          "name": "stdout",
          "output_type": "stream",
          "text": [
            "\n",
            "\n"
          ]
        }
      ],
      "source": [
        "unique_labels = sorted(set(y))\n",
        "\n",
        "# -----------------------------\n",
        "# Logistic Regression\n",
        "# -----------------------------\n",
        "\n",
        "log_reg_pred = log_reg.predict(X_test)\n",
        "print(\"Logistic Regression Classification Report:\\n\", classification_report(y_test, log_reg_pred, digits=5))\n",
        "\n",
        "log_reg_cm = confusion_matrix(y_test, log_reg_pred)\n",
        "plt.figure(figsize=(7, 7))\n",
        "sns.heatmap(log_reg_cm, annot=True, fmt='d', cmap='Blues', cbar=False,\n",
        "            xticklabels=unique_labels,\n",
        "            yticklabels=unique_labels)\n",
        "\n",
        "plt.xlabel('Predicted Labels')\n",
        "plt.ylabel('Actual Labels')\n",
        "plt.title('Confusion Matrix - Logistic Regression')\n",
        "plt.show()\n",
        "print('\\n')"
      ]
    },
    {
      "cell_type": "code",
      "execution_count": 55,
      "metadata": {},
      "outputs": [
        {
          "name": "stdout",
          "output_type": "stream",
          "text": [
            "Decision Tree Classification Report:\n",
            "               precision    recall  f1-score   support\n",
            "\n",
            "           0    1.00000   1.00000   1.00000        82\n",
            "           1    1.00000   1.00000   1.00000        91\n",
            "           2    1.00000   1.00000   1.00000        77\n",
            "           3    1.00000   1.00000   1.00000        48\n",
            "\n",
            "    accuracy                        1.00000       298\n",
            "   macro avg    1.00000   1.00000   1.00000       298\n",
            "weighted avg    1.00000   1.00000   1.00000       298\n",
            "\n"
          ]
        },
        {
          "data": {
            "image/png": "[encoded data removed]",
            "text/plain": [
              "<Figure size 700x700 with 1 Axes>"
            ]
          },
          "metadata": {},
          "output_type": "display_data"
        },
        {
          "name": "stdout",
          "output_type": "stream",
          "text": [
            "\n",
            "\n"
          ]
        }
      ],
      "source": [
        "unique_labels = sorted(set(y))\n",
        "\n",
        "# -----------------------------\n",
        "# Decision Tree\n",
        "# -----------------------------\n",
        "\n",
        "dt_pred = dt.predict(X_test)\n",
        "print(\"Decision Tree Classification Report:\\n\", classification_report(y_test, dt_pred, digits=5))\n",
        "\n",
        "dt_cm = confusion_matrix(y_test, dt_pred)\n",
        "plt.figure(figsize=(7, 7))\n",
        "sns.heatmap(dt_cm, annot=True, fmt='d', cmap='Blues', cbar=False,\n",
        "            xticklabels=unique_labels,\n",
        "            yticklabels=unique_labels)\n",
        "\n",
        "plt.xlabel('Predicted Labels')\n",
        "plt.ylabel('Actual Labels')\n",
        "plt.title('Confusion Matrix - Decision Tree')\n",
        "plt.show()\n",
        "print('\\n')"
      ]
    },
    {
      "cell_type": "code",
      "execution_count": 54,
      "metadata": {},
      "outputs": [
        {
          "name": "stdout",
          "output_type": "stream",
          "text": [
            "Random Forest Classification Report:\n",
            "               precision    recall  f1-score   support\n",
            "\n",
            "           0    1.00000   1.00000   1.00000        82\n",
            "           1    1.00000   1.00000   1.00000        91\n",
            "           2    1.00000   1.00000   1.00000        77\n",
            "           3    1.00000   1.00000   1.00000        48\n",
            "\n",
            "    accuracy                        1.00000       298\n",
            "   macro avg    1.00000   1.00000   1.00000       298\n",
            "weighted avg    1.00000   1.00000   1.00000       298\n",
            "\n"
          ]
        },
        {
          "data": {
            "image/png": "[encoded data removed]",
            "text/plain": [
              "<Figure size 700x700 with 1 Axes>"
            ]
          },
          "metadata": {},
          "output_type": "display_data"
        },
        {
          "name": "stdout",
          "output_type": "stream",
          "text": [
            "\n",
            "\n"
          ]
        }
      ],
      "source": [
        "unique_labels = sorted(set(y))\n",
        "\n",
        "# -----------------------------\n",
        "# Random Forest\n",
        "# -----------------------------\n",
        "\n",
        "rf_y_pred = rf.predict(X_test)\n",
        "print(\"Random Forest Classification Report:\\n\", classification_report(y_test, rf_y_pred, digits=5))\n",
        "\n",
        "rf_cm = confusion_matrix(y_test, rf_y_pred)\n",
        "plt.figure(figsize=(7, 7))\n",
        "sns.heatmap(rf_cm, annot=True, fmt='d', cmap='Blues', cbar=False,\n",
        "            xticklabels=unique_labels,\n",
        "            yticklabels=unique_labels)\n",
        "\n",
        "plt.xlabel('Predicted Labels')\n",
        "plt.ylabel('Actual Labels')\n",
        "plt.title('Confusion Matrix - Random Forest')\n",
        "plt.show()\n",
        "print('\\n')"
      ]
    },
    {
      "cell_type": "code",
      "execution_count": 58,
      "metadata": {},
      "outputs": [
        {
          "data": {
            "text/html": [
              "<div>\n",
              "<style scoped>\n",
              "    .dataframe tbody tr th:only-of-type {\n",
              "        vertical-align: middle;\n",
              "    }\n",
              "\n",
              "    .dataframe tbody tr th {\n",
              "        vertical-align: top;\n",
              "    }\n",
              "\n",
              "    .dataframe thead th {\n",
              "        text-align: right;\n",
              "    }\n",
              "</style>\n",
              "<table border=\"1\" class=\"dataframe\">\n",
              "  <thead>\n",
              "    <tr style=\"text-align: right;\">\n",
              "      <th></th>\n",
              "      <th>Model</th>\n",
              "      <th>Accuracy</th>\n",
              "      <th>Precision</th>\n",
              "      <th>Recall</th>\n",
              "      <th>F1-Score</th>\n",
              "    </tr>\n",
              "  </thead>\n",
              "  <tbody>\n",
              "    <tr>\n",
              "      <th>0</th>\n",
              "      <td>Logistic Regression</td>\n",
              "      <td>1.0</td>\n",
              "      <td>1.0</td>\n",
              "      <td>1.0</td>\n",
              "      <td>1.0</td>\n",
              "    </tr>\n",
              "    <tr>\n",
              "      <th>1</th>\n",
              "      <td>Decision Tree</td>\n",
              "      <td>1.0</td>\n",
              "      <td>1.0</td>\n",
              "      <td>1.0</td>\n",
              "      <td>1.0</td>\n",
              "    </tr>\n",
              "    <tr>\n",
              "      <th>2</th>\n",
              "      <td>Random Forest</td>\n",
              "      <td>1.0</td>\n",
              "      <td>1.0</td>\n",
              "      <td>1.0</td>\n",
              "      <td>1.0</td>\n",
              "    </tr>\n",
              "  </tbody>\n",
              "</table>\n",
              "</div>"
            ],
            "text/plain": [
              "                 Model  Accuracy  Precision  Recall  F1-Score\n",
              "0  Logistic Regression       1.0        1.0     1.0       1.0\n",
              "1        Decision Tree       1.0        1.0     1.0       1.0\n",
              "2        Random Forest       1.0        1.0     1.0       1.0"
            ]
          },
          "execution_count": 58,
          "metadata": {},
          "output_type": "execute_result"
        }
      ],
      "source": [
        "# Calculate classification reports for both models\n",
        "log_reg_report = classification_report(y_test, log_reg_pred, digits=5, output_dict=True)\n",
        "dt_report = classification_report(y_test, dt_pred, digits=5, output_dict=True)\n",
        "rf_report = classification_report(y_test, rf_y_pred, digits=5, output_dict=True)\n",
        "\n",
        "# Extract relevant metrics (accuracy, precision, recall, F1 score)\n",
        "metrics = {\n",
        "    'Model': ['Logistic Regression', 'Decision Tree', 'Random Forest'],\n",
        "    'Accuracy': [log_reg_report['accuracy'], dt_report['accuracy'], rf_report['accuracy']],\n",
        "    'Precision': [\n",
        "        log_reg_report['weighted avg']['precision'], \n",
        "        dt_report['weighted avg']['precision'], \n",
        "        rf_report['weighted avg']['precision']\n",
        "    ],\n",
        "    'Recall': [\n",
        "        log_reg_report['weighted avg']['recall'], \n",
        "        dt_report['weighted avg']['recall'], \n",
        "        rf_report['weighted avg']['recall']\n",
        "    ],\n",
        "    'F1-Score': [\n",
        "        log_reg_report['weighted avg']['f1-score'], \n",
        "        dt_report['weighted avg']['f1-score'], \n",
        "        rf_report['weighted avg']['f1-score']\n",
        "    ]\n",
        "}\n",
        "\n",
        "# Create a DataFrame\n",
        "df = pd.DataFrame(metrics)\n",
        "\n",
        "df"
      ]
    },
    {
      "cell_type": "markdown",
      "metadata": {
        "id": "H4_9OwrsXZlz"
      },
      "source": [
        "Tulis hasil evaluasi algoritma yang digunakan, jika Anda menggunakan 2 algoritma, maka bandingkan hasilnya."
      ]
    },
    {
      "cell_type": "markdown",
      "metadata": {
        "id": "ph9yIYDXEPuB"
      },
      "source": [
        "## **c. Tuning Model Klasifikasi (Optional)**"
      ]
    },
    {
      "cell_type": "markdown",
      "metadata": {
        "id": "-Bikx3LINv5e"
      },
      "source": [
        "Gunakan GridSearchCV, RandomizedSearchCV, atau metode lainnya untuk mencari kombinasi hyperparameter terbaik"
      ]
    },
    {
      "cell_type": "code",
      "execution_count": 59,
      "metadata": {
        "id": "winbFzb8NL95"
      },
      "outputs": [
        {
          "name": "stdout",
          "output_type": "stream",
          "text": [
            "Fitting 3 folds for each of 100 candidates, totalling 300 fits\n"
          ]
        },
        {
          "name": "stderr",
          "output_type": "stream",
          "text": [
            "d:\\Program_Files\\Anaconda\\envs\\datascience\\Lib\\site-packages\\sklearn\\model_selection\\_validation.py:425: FitFailedWarning: \n",
            "126 fits failed out of a total of 300.\n",
            "The score on these train-test partitions for these parameters will be set to nan.\n",
            "If these failures are not expected, you can try to debug them by setting error_score='raise'.\n",
            "\n",
            "Below are more details about the failures:\n",
            "--------------------------------------------------------------------------------\n",
            "24 fits failed with the following error:\n",
            "Traceback (most recent call last):\n",
            "  File \"d:\\Program_Files\\Anaconda\\envs\\datascience\\Lib\\site-packages\\sklearn\\model_selection\\_validation.py\", line 732, in _fit_and_score\n",
            "    estimator.fit(X_train, y_train, **fit_params)\n",
            "  File \"d:\\Program_Files\\Anaconda\\envs\\datascience\\Lib\\site-packages\\sklearn\\base.py\", line 1151, in wrapper\n",
            "    return fit_method(estimator, *args, **kwargs)\n",
            "           ^^^^^^^^^^^^^^^^^^^^^^^^^^^^^^^^^^^^^^\n",
            "  File \"d:\\Program_Files\\Anaconda\\envs\\datascience\\Lib\\site-packages\\sklearn\\linear_model\\_logistic.py\", line 1178, in fit\n",
            "    raise ValueError(\"l1_ratio must be specified when penalty is elasticnet.\")\n",
            "ValueError: l1_ratio must be specified when penalty is elasticnet.\n",
            "\n",
            "--------------------------------------------------------------------------------\n",
            "18 fits failed with the following error:\n",
            "Traceback (most recent call last):\n",
            "  File \"d:\\Program_Files\\Anaconda\\envs\\datascience\\Lib\\site-packages\\sklearn\\model_selection\\_validation.py\", line 732, in _fit_and_score\n",
            "    estimator.fit(X_train, y_train, **fit_params)\n",
            "  File \"d:\\Program_Files\\Anaconda\\envs\\datascience\\Lib\\site-packages\\sklearn\\base.py\", line 1151, in wrapper\n",
            "    return fit_method(estimator, *args, **kwargs)\n",
            "           ^^^^^^^^^^^^^^^^^^^^^^^^^^^^^^^^^^^^^^\n",
            "  File \"d:\\Program_Files\\Anaconda\\envs\\datascience\\Lib\\site-packages\\sklearn\\linear_model\\_logistic.py\", line 1168, in fit\n",
            "    solver = _check_solver(self.solver, self.penalty, self.dual)\n",
            "             ^^^^^^^^^^^^^^^^^^^^^^^^^^^^^^^^^^^^^^^^^^^^^^^^^^^\n",
            "  File \"d:\\Program_Files\\Anaconda\\envs\\datascience\\Lib\\site-packages\\sklearn\\linear_model\\_logistic.py\", line 56, in _check_solver\n",
            "    raise ValueError(\n",
            "ValueError: Solver lbfgs supports only 'l2' or 'none' penalties, got elasticnet penalty.\n",
            "\n",
            "--------------------------------------------------------------------------------\n",
            "36 fits failed with the following error:\n",
            "Traceback (most recent call last):\n",
            "  File \"d:\\Program_Files\\Anaconda\\envs\\datascience\\Lib\\site-packages\\sklearn\\model_selection\\_validation.py\", line 732, in _fit_and_score\n",
            "    estimator.fit(X_train, y_train, **fit_params)\n",
            "  File \"d:\\Program_Files\\Anaconda\\envs\\datascience\\Lib\\site-packages\\sklearn\\base.py\", line 1151, in wrapper\n",
            "    return fit_method(estimator, *args, **kwargs)\n",
            "           ^^^^^^^^^^^^^^^^^^^^^^^^^^^^^^^^^^^^^^\n",
            "  File \"d:\\Program_Files\\Anaconda\\envs\\datascience\\Lib\\site-packages\\sklearn\\linear_model\\_logistic.py\", line 1168, in fit\n",
            "    solver = _check_solver(self.solver, self.penalty, self.dual)\n",
            "             ^^^^^^^^^^^^^^^^^^^^^^^^^^^^^^^^^^^^^^^^^^^^^^^^^^^\n",
            "  File \"d:\\Program_Files\\Anaconda\\envs\\datascience\\Lib\\site-packages\\sklearn\\linear_model\\_logistic.py\", line 56, in _check_solver\n",
            "    raise ValueError(\n",
            "ValueError: Solver lbfgs supports only 'l2' or 'none' penalties, got l1 penalty.\n",
            "\n",
            "--------------------------------------------------------------------------------\n",
            "24 fits failed with the following error:\n",
            "Traceback (most recent call last):\n",
            "  File \"d:\\Program_Files\\Anaconda\\envs\\datascience\\Lib\\site-packages\\sklearn\\model_selection\\_validation.py\", line 732, in _fit_and_score\n",
            "    estimator.fit(X_train, y_train, **fit_params)\n",
            "  File \"d:\\Program_Files\\Anaconda\\envs\\datascience\\Lib\\site-packages\\sklearn\\base.py\", line 1151, in wrapper\n",
            "    return fit_method(estimator, *args, **kwargs)\n",
            "           ^^^^^^^^^^^^^^^^^^^^^^^^^^^^^^^^^^^^^^\n",
            "  File \"d:\\Program_Files\\Anaconda\\envs\\datascience\\Lib\\site-packages\\sklearn\\linear_model\\_logistic.py\", line 1168, in fit\n",
            "    solver = _check_solver(self.solver, self.penalty, self.dual)\n",
            "             ^^^^^^^^^^^^^^^^^^^^^^^^^^^^^^^^^^^^^^^^^^^^^^^^^^^\n",
            "  File \"d:\\Program_Files\\Anaconda\\envs\\datascience\\Lib\\site-packages\\sklearn\\linear_model\\_logistic.py\", line 66, in _check_solver\n",
            "    raise ValueError(\n",
            "ValueError: Only 'saga' solver supports elasticnet penalty, got solver=liblinear.\n",
            "\n",
            "--------------------------------------------------------------------------------\n",
            "24 fits failed with the following error:\n",
            "Traceback (most recent call last):\n",
            "  File \"d:\\Program_Files\\Anaconda\\envs\\datascience\\Lib\\site-packages\\sklearn\\model_selection\\_validation.py\", line 732, in _fit_and_score\n",
            "    estimator.fit(X_train, y_train, **fit_params)\n",
            "  File \"d:\\Program_Files\\Anaconda\\envs\\datascience\\Lib\\site-packages\\sklearn\\base.py\", line 1151, in wrapper\n",
            "    return fit_method(estimator, *args, **kwargs)\n",
            "           ^^^^^^^^^^^^^^^^^^^^^^^^^^^^^^^^^^^^^^\n",
            "  File \"d:\\Program_Files\\Anaconda\\envs\\datascience\\Lib\\site-packages\\sklearn\\linear_model\\_logistic.py\", line 1227, in fit\n",
            "    self.coef_, self.intercept_, self.n_iter_ = _fit_liblinear(\n",
            "                                                ^^^^^^^^^^^^^^^\n",
            "  File \"d:\\Program_Files\\Anaconda\\envs\\datascience\\Lib\\site-packages\\sklearn\\svm\\_base.py\", line 1221, in _fit_liblinear\n",
            "    solver_type = _get_liblinear_solver_type(multi_class, penalty, loss, dual)\n",
            "                  ^^^^^^^^^^^^^^^^^^^^^^^^^^^^^^^^^^^^^^^^^^^^^^^^^^^^^^^^^^^^\n",
            "  File \"d:\\Program_Files\\Anaconda\\envs\\datascience\\Lib\\site-packages\\sklearn\\svm\\_base.py\", line 1060, in _get_liblinear_solver_type\n",
            "    raise ValueError(\n",
            "ValueError: Unsupported set of arguments: The combination of penalty='None' and loss='logistic_regression' is not supported, Parameters: penalty=None, loss='logistic_regression', dual=False\n",
            "\n",
            "  warnings.warn(some_fits_failed_message, FitFailedWarning)\n",
            "d:\\Program_Files\\Anaconda\\envs\\datascience\\Lib\\site-packages\\sklearn\\model_selection\\_search.py:976: UserWarning: One or more of the test scores are non-finite: [1.         1.         0.99242848 0.99495162 0.99242848 1.\n",
            " 1.         1.         0.72580973        nan 1.                nan\n",
            " 0.99242848 1.         1.                nan        nan 0.30026122\n",
            "        nan 1.                nan 0.9394321         nan 1.\n",
            " 1.         1.                nan 0.93186059        nan 0.93354833\n",
            "        nan 0.99242848        nan 1.                nan        nan\n",
            " 0.34483161        nan        nan 0.93859671 1.         1.\n",
            " 1.                nan        nan 0.95203928        nan        nan\n",
            "        nan        nan 0.99242848        nan 0.99242848 1.\n",
            "        nan        nan        nan 0.93523395 0.28931846 1.\n",
            "        nan 0.93354833        nan        nan 0.93354833 0.50462857\n",
            " 0.74010466 0.96299477 1.         1.                nan 0.93607358\n",
            "        nan 1.         0.99242848        nan        nan 0.29100196\n",
            "        nan        nan        nan        nan 1.         0.99242848\n",
            "        nan 0.39527729 1.         0.99242848 1.         0.53573519\n",
            " 0.93439008 0.99242848        nan 0.93354833        nan        nan\n",
            "        nan 1.         1.                nan]\n",
            "  warnings.warn(\n",
            "d:\\Program_Files\\Anaconda\\envs\\datascience\\Lib\\site-packages\\sklearn\\linear_model\\_sag.py:350: ConvergenceWarning: The max_iter was reached which means the coef_ did not converge\n",
            "  warnings.warn(\n"
          ]
        },
        {
          "name": "stdout",
          "output_type": "stream",
          "text": [
            "Fitting 3 folds for each of 100 candidates, totalling 300 fits\n",
            "Fitting 3 folds for each of 100 candidates, totalling 300 fits\n"
          ]
        },
        {
          "data": {
            "text/html": [
              "<style>#sk-container-id-4 {color: black;}#sk-container-id-4 pre{padding: 0;}#sk-container-id-4 div.sk-toggleable {background-color: white;}#sk-container-id-4 label.sk-toggleable__label {cursor: pointer;display: block;width: 100%;margin-bottom: 0;padding: 0.3em;box-sizing: border-box;text-align: center;}#sk-container-id-4 label.sk-toggleable__label-arrow:before {content: \"▸\";float: left;margin-right: 0.25em;color: #696969;}#sk-container-id-4 label.sk-toggleable__label-arrow:hover:before {color: black;}#sk-container-id-4 div.sk-estimator:hover label.sk-toggleable__label-arrow:before {color: black;}#sk-container-id-4 div.sk-toggleable__content {max-height: 0;max-width: 0;overflow: hidden;text-align: left;background-color: #f0f8ff;}#sk-container-id-4 div.sk-toggleable__content pre {margin: 0.2em;color: black;border-radius: 0.25em;background-color: #f0f8ff;}#sk-container-id-4 input.sk-toggleable__control:checked~div.sk-toggleable__content {max-height: 200px;max-width: 100%;overflow: auto;}#sk-container-id-4 input.sk-toggleable__control:checked~label.sk-toggleable__label-arrow:before {content: \"▾\";}#sk-container-id-4 div.sk-estimator input.sk-toggleable__control:checked~label.sk-toggleable__label {background-color: #d4ebff;}#sk-container-id-4 div.sk-label input.sk-toggleable__control:checked~label.sk-toggleable__label {background-color: #d4ebff;}#sk-container-id-4 input.sk-hidden--visually {border: 0;clip: rect(1px 1px 1px 1px);clip: rect(1px, 1px, 1px, 1px);height: 1px;margin: -1px;overflow: hidden;padding: 0;position: absolute;width: 1px;}#sk-container-id-4 div.sk-estimator {font-family: monospace;background-color: #f0f8ff;border: 1px dotted black;border-radius: 0.25em;box-sizing: border-box;margin-bottom: 0.5em;}#sk-container-id-4 div.sk-estimator:hover {background-color: #d4ebff;}#sk-container-id-4 div.sk-parallel-item::after {content: \"\";width: 100%;border-bottom: 1px solid gray;flex-grow: 1;}#sk-container-id-4 div.sk-label:hover label.sk-toggleable__label {background-color: #d4ebff;}#sk-container-id-4 div.sk-serial::before {content: \"\";position: absolute;border-left: 1px solid gray;box-sizing: border-box;top: 0;bottom: 0;left: 50%;z-index: 0;}#sk-container-id-4 div.sk-serial {display: flex;flex-direction: column;align-items: center;background-color: white;padding-right: 0.2em;padding-left: 0.2em;position: relative;}#sk-container-id-4 div.sk-item {position: relative;z-index: 1;}#sk-container-id-4 div.sk-parallel {display: flex;align-items: stretch;justify-content: center;background-color: white;position: relative;}#sk-container-id-4 div.sk-item::before, #sk-container-id-4 div.sk-parallel-item::before {content: \"\";position: absolute;border-left: 1px solid gray;box-sizing: border-box;top: 0;bottom: 0;left: 50%;z-index: -1;}#sk-container-id-4 div.sk-parallel-item {display: flex;flex-direction: column;z-index: 1;position: relative;background-color: white;}#sk-container-id-4 div.sk-parallel-item:first-child::after {align-self: flex-end;width: 50%;}#sk-container-id-4 div.sk-parallel-item:last-child::after {align-self: flex-start;width: 50%;}#sk-container-id-4 div.sk-parallel-item:only-child::after {width: 0;}#sk-container-id-4 div.sk-dashed-wrapped {border: 1px dashed gray;margin: 0 0.4em 0.5em 0.4em;box-sizing: border-box;padding-bottom: 0.4em;background-color: white;}#sk-container-id-4 div.sk-label label {font-family: monospace;font-weight: bold;display: inline-block;line-height: 1.2em;}#sk-container-id-4 div.sk-label-container {text-align: center;}#sk-container-id-4 div.sk-container {/* jupyter's `normalize.less` sets `[hidden] { display: none; }` but bootstrap.min.css set `[hidden] { display: none !important; }` so we also need the `!important` here to be able to override the default hidden behavior on the sphinx rendered scikit-learn.org. See: https://github.com/scikit-learn/scikit-learn/issues/21755 */display: inline-block !important;position: relative;}#sk-container-id-4 div.sk-text-repr-fallback {display: none;}</style><div id=\"sk-container-id-4\" class=\"sk-top-container\"><div class=\"sk-text-repr-fallback\"><pre>RandomizedSearchCV(cv=3, estimator=RandomForestClassifier(random_state=69),\n",
              "                   n_iter=100, n_jobs=-1,\n",
              "                   param_distributions={&#x27;bootstrap&#x27;: [True, False],\n",
              "                                        &#x27;max_depth&#x27;: array([ 5, 10, 15, 20, 25, 30, 35, 40, 45]),\n",
              "                                        &#x27;max_features&#x27;: [None, &#x27;sqrt&#x27;, &#x27;log2&#x27;],\n",
              "                                        &#x27;min_samples_leaf&#x27;: array([ 1,  3,  5,  7,  9, 11, 13, 15, 17, 19]),\n",
              "                                        &#x27;min_samples_split&#x27;: array([ 2,  4,  6,  8, 10, 12, 14, 16, 18]),\n",
              "                                        &#x27;n_estimators&#x27;: array([ 50, 100, 150, 200, 250, 300, 350, 400, 450])},\n",
              "                   random_state=69, verbose=2)</pre><b>In a Jupyter environment, please rerun this cell to show the HTML representation or trust the notebook. <br />On GitHub, the HTML representation is unable to render, please try loading this page with nbviewer.org.</b></div><div class=\"sk-container\" hidden><div class=\"sk-item sk-dashed-wrapped\"><div class=\"sk-label-container\"><div class=\"sk-label sk-toggleable\"><input class=\"sk-toggleable__control sk-hidden--visually\" id=\"sk-estimator-id-10\" type=\"checkbox\" ><label for=\"sk-estimator-id-10\" class=\"sk-toggleable__label sk-toggleable__label-arrow\">RandomizedSearchCV</label><div class=\"sk-toggleable__content\"><pre>RandomizedSearchCV(cv=3, estimator=RandomForestClassifier(random_state=69),\n",
              "                   n_iter=100, n_jobs=-1,\n",
              "                   param_distributions={&#x27;bootstrap&#x27;: [True, False],\n",
              "                                        &#x27;max_depth&#x27;: array([ 5, 10, 15, 20, 25, 30, 35, 40, 45]),\n",
              "                                        &#x27;max_features&#x27;: [None, &#x27;sqrt&#x27;, &#x27;log2&#x27;],\n",
              "                                        &#x27;min_samples_leaf&#x27;: array([ 1,  3,  5,  7,  9, 11, 13, 15, 17, 19]),\n",
              "                                        &#x27;min_samples_split&#x27;: array([ 2,  4,  6,  8, 10, 12, 14, 16, 18]),\n",
              "                                        &#x27;n_estimators&#x27;: array([ 50, 100, 150, 200, 250, 300, 350, 400, 450])},\n",
              "                   random_state=69, verbose=2)</pre></div></div></div><div class=\"sk-parallel\"><div class=\"sk-parallel-item\"><div class=\"sk-item\"><div class=\"sk-label-container\"><div class=\"sk-label sk-toggleable\"><input class=\"sk-toggleable__control sk-hidden--visually\" id=\"sk-estimator-id-11\" type=\"checkbox\" ><label for=\"sk-estimator-id-11\" class=\"sk-toggleable__label sk-toggleable__label-arrow\">estimator: RandomForestClassifier</label><div class=\"sk-toggleable__content\"><pre>RandomForestClassifier(random_state=69)</pre></div></div></div><div class=\"sk-serial\"><div class=\"sk-item\"><div class=\"sk-estimator sk-toggleable\"><input class=\"sk-toggleable__control sk-hidden--visually\" id=\"sk-estimator-id-12\" type=\"checkbox\" ><label for=\"sk-estimator-id-12\" class=\"sk-toggleable__label sk-toggleable__label-arrow\">RandomForestClassifier</label><div class=\"sk-toggleable__content\"><pre>RandomForestClassifier(random_state=69)</pre></div></div></div></div></div></div></div></div></div></div>"
            ],
            "text/plain": [
              "RandomizedSearchCV(cv=3, estimator=RandomForestClassifier(random_state=69),\n",
              "                   n_iter=100, n_jobs=-1,\n",
              "                   param_distributions={'bootstrap': [True, False],\n",
              "                                        'max_depth': array([ 5, 10, 15, 20, 25, 30, 35, 40, 45]),\n",
              "                                        'max_features': [None, 'sqrt', 'log2'],\n",
              "                                        'min_samples_leaf': array([ 1,  3,  5,  7,  9, 11, 13, 15, 17, 19]),\n",
              "                                        'min_samples_split': array([ 2,  4,  6,  8, 10, 12, 14, 16, 18]),\n",
              "                                        'n_estimators': array([ 50, 100, 150, 200, 250, 300, 350, 400, 450])},\n",
              "                   random_state=69, verbose=2)"
            ]
          },
          "execution_count": 59,
          "metadata": {},
          "output_type": "execute_result"
        }
      ],
      "source": [
        "# --------------------------------------------\n",
        "# 1. Logistic Regression Model Hyperparameter Tuning\n",
        "# --------------------------------------------\n",
        "\n",
        "# Define Logistic Regression hyperparameters\n",
        "log_reg_param_dist = {\n",
        "    'C': np.logspace(-4, 4, 20),  # Regularization strength\n",
        "    'solver': ['liblinear', 'lbfgs', 'saga'],  # Optimization algorithm\n",
        "    'penalty': ['l1', 'l2', 'elasticnet', None]  # Regularization type\n",
        "}\n",
        "\n",
        "# Perform RandomizedSearchCV for Logistic Regression\n",
        "log_reg_random_search = RandomizedSearchCV(\n",
        "    estimator=LogisticRegression(random_state=69, max_iter=500),\n",
        "    param_distributions=log_reg_param_dist,\n",
        "    n_iter=100,\n",
        "    cv=3,\n",
        "    verbose=2,\n",
        "    random_state=69,\n",
        "    n_jobs=-1\n",
        ")\n",
        "\n",
        "# Fit the model on the training data\n",
        "log_reg_random_search.fit(X_train, y_train)\n",
        "\n",
        "# --------------------------------------------\n",
        "# 2. Decision Tree Model Hyperparameter Tuning\n",
        "# --------------------------------------------\n",
        "\n",
        "# Define Decision Tree hyperparameters\n",
        "dt_param_dist = {\n",
        "    'max_depth': np.arange(3, 50, 5),  # Maximum depth of the tree\n",
        "    'min_samples_split': np.arange(2, 20, 2),  # Minimum samples required to split a node\n",
        "    'min_samples_leaf': np.arange(1, 20, 2),  # Minimum samples required at a leaf node\n",
        "    'criterion': ['gini', 'entropy']  # Splitting criteria\n",
        "}\n",
        "\n",
        "# Perform RandomizedSearchCV for Decision Tree\n",
        "dt_random_search = RandomizedSearchCV(\n",
        "    estimator=DecisionTreeClassifier(random_state=69),\n",
        "    param_distributions=dt_param_dist,\n",
        "    n_iter=100,\n",
        "    cv=3,\n",
        "    verbose=2,\n",
        "    random_state=69,\n",
        "    n_jobs=-1\n",
        ")\n",
        "\n",
        "# Fit the model on the training data\n",
        "dt_random_search.fit(X_train, y_train)\n",
        "\n",
        "# --------------------------------------------\n",
        "# 3. Random Forest Model Hyperparameter Tuning\n",
        "# --------------------------------------------\n",
        "\n",
        "# Define Random Forest hyperparameters\n",
        "rf_param_dist = {\n",
        "    'n_estimators': np.arange(50, 500, 50),\n",
        "    'max_depth': np.arange(5, 50, 5),\n",
        "    'min_samples_split': np.arange(2, 20, 2),\n",
        "    'min_samples_leaf': np.arange(1, 20, 2),\n",
        "    'max_features': [None, 'sqrt', 'log2'],\n",
        "    'bootstrap': [True, False]\n",
        "}\n",
        "\n",
        "# Perform RandomizedSearchCV for Random Forest\n",
        "rf_random_search = RandomizedSearchCV(\n",
        "    estimator=RandomForestClassifier(random_state=69),\n",
        "    param_distributions=rf_param_dist,\n",
        "    n_iter=100,\n",
        "    cv=3,\n",
        "    verbose=2,\n",
        "    random_state=69,\n",
        "    n_jobs=-1\n",
        ")\n",
        "\n",
        "# Fit the model on the training data\n",
        "rf_random_search.fit(X_train, y_train)"
      ]
    },
    {
      "cell_type": "markdown",
      "metadata": {
        "id": "hE7pqlEPEYzI"
      },
      "source": [
        "## **d. Evaluasi Model Klasifikasi setelah Tuning (Optional)**"
      ]
    },
    {
      "cell_type": "markdown",
      "metadata": {
        "id": "feaPESoeN0zz"
      },
      "source": [
        "Berikut adalah rekomendasi tahapannya.\n",
        "1. Gunakan model dengan hyperparameter terbaik.\n",
        "2. Hitung ulang metrik evaluasi untuk melihat apakah ada peningkatan performa."
      ]
    },
    {
      "cell_type": "code",
      "execution_count": 61,
      "metadata": {
        "id": "HTXZRvEeNMb1"
      },
      "outputs": [
        {
          "name": "stdout",
          "output_type": "stream",
          "text": [
            "Best Random Forest Hyperparameters: {'n_estimators': 450, 'min_samples_split': 4, 'min_samples_leaf': 3, 'max_features': None, 'max_depth': 25, 'bootstrap': True}\n",
            "Best Random Forest Accuracy: 1.0\n",
            "Random Forest (best model) Classification Report:\n",
            "               precision    recall  f1-score   support\n",
            "\n",
            "           0    1.00000   1.00000   1.00000        82\n",
            "           1    1.00000   1.00000   1.00000        91\n",
            "           2    1.00000   1.00000   1.00000        77\n",
            "           3    1.00000   1.00000   1.00000        48\n",
            "\n",
            "    accuracy                        1.00000       298\n",
            "   macro avg    1.00000   1.00000   1.00000       298\n",
            "weighted avg    1.00000   1.00000   1.00000       298\n",
            "\n",
            "Best Logistic Regression Hyperparameters: {'solver': 'saga', 'penalty': 'l2', 'C': 1.623776739188721}\n",
            "Best Logistic Regression Accuracy: 1.0\n",
            "Logistic Regression (best model) Classification Report:\n",
            "               precision    recall  f1-score   support\n",
            "\n",
            "           0    1.00000   1.00000   1.00000        82\n",
            "           1    1.00000   1.00000   1.00000        91\n",
            "           2    1.00000   1.00000   1.00000        77\n",
            "           3    1.00000   1.00000   1.00000        48\n",
            "\n",
            "    accuracy                        1.00000       298\n",
            "   macro avg    1.00000   1.00000   1.00000       298\n",
            "weighted avg    1.00000   1.00000   1.00000       298\n",
            "\n",
            "Best Decision Tree Hyperparameters: {'min_samples_split': 14, 'min_samples_leaf': 15, 'max_depth': 43, 'criterion': 'entropy'}\n",
            "Best Decision Tree Accuracy: 1.0\n",
            "Decision Tree (best model) Classification Report:\n",
            "               precision    recall  f1-score   support\n",
            "\n",
            "           0    1.00000   1.00000   1.00000        82\n",
            "           1    1.00000   1.00000   1.00000        91\n",
            "           2    1.00000   1.00000   1.00000        77\n",
            "           3    1.00000   1.00000   1.00000        48\n",
            "\n",
            "    accuracy                        1.00000       298\n",
            "   macro avg    1.00000   1.00000   1.00000       298\n",
            "weighted avg    1.00000   1.00000   1.00000       298\n",
            "\n"
          ]
        }
      ],
      "source": [
        "# -----------------------------\n",
        "# 1. Random Forest\n",
        "# -----------------------------\n",
        "\n",
        "# Print the best parameters and score\n",
        "print(\"Best Random Forest Hyperparameters:\", rf_random_search.best_params_)\n",
        "print(\"Best Random Forest Accuracy:\", rf_random_search.best_score_)\n",
        "\n",
        "# Predict and evaluate the Random Forest model\n",
        "rf_best_model = rf_random_search.best_estimator_\n",
        "rf_best_model_y_pred = rf_best_model.predict(X_test)\n",
        "print(\"Random Forest (best model) Classification Report:\\n\", classification_report(y_test, rf_best_model_y_pred, digits=5))\n",
        "\n",
        "# -----------------------------\n",
        "# 2. Logistic Regression\n",
        "# -----------------------------\n",
        "\n",
        "# Print the best parameters and score\n",
        "print(\"Best Logistic Regression Hyperparameters:\", log_reg_random_search.best_params_)\n",
        "print(\"Best Logistic Regression Accuracy:\", log_reg_random_search.best_score_)\n",
        "\n",
        "# Predict and evaluate the Logistic Regression model\n",
        "log_reg_best_model = log_reg_random_search.best_estimator_\n",
        "log_reg_best_model_y_pred = log_reg_best_model.predict(X_test)\n",
        "print(\"Logistic Regression (best model) Classification Report:\\n\", classification_report(y_test, log_reg_best_model_y_pred, digits=5))\n",
        "\n",
        "# -----------------------------\n",
        "# 3. Decision Tree\n",
        "# -----------------------------\n",
        "\n",
        "# Print the best parameters and score\n",
        "print(\"Best Decision Tree Hyperparameters:\", dt_random_search.best_params_)\n",
        "print(\"Best Decision Tree Accuracy:\", dt_random_search.best_score_)\n",
        "\n",
        "# Predict and evaluate the Decision Tree model\n",
        "dt_best_model = dt_random_search.best_estimator_\n",
        "dt_best_model_y_pred = dt_best_model.predict(X_test)\n",
        "print(\"Decision Tree (best model) Classification Report:\\n\", classification_report(y_test, dt_best_model_y_pred, digits=5))"
      ]
    },
    {
      "cell_type": "code",
      "execution_count": 62,
      "metadata": {},
      "outputs": [
        {
          "data": {
            "text/html": [
              "<div>\n",
              "<style scoped>\n",
              "    .dataframe tbody tr th:only-of-type {\n",
              "        vertical-align: middle;\n",
              "    }\n",
              "\n",
              "    .dataframe tbody tr th {\n",
              "        vertical-align: top;\n",
              "    }\n",
              "\n",
              "    .dataframe thead th {\n",
              "        text-align: right;\n",
              "    }\n",
              "</style>\n",
              "<table border=\"1\" class=\"dataframe\">\n",
              "  <thead>\n",
              "    <tr style=\"text-align: right;\">\n",
              "      <th></th>\n",
              "      <th>Model</th>\n",
              "      <th>Accuracy</th>\n",
              "      <th>Precision</th>\n",
              "      <th>Recall</th>\n",
              "      <th>F1-Score</th>\n",
              "    </tr>\n",
              "  </thead>\n",
              "  <tbody>\n",
              "    <tr>\n",
              "      <th>0</th>\n",
              "      <td>Random Forest (Tuned)</td>\n",
              "      <td>1.0</td>\n",
              "      <td>1.0</td>\n",
              "      <td>1.0</td>\n",
              "      <td>1.0</td>\n",
              "    </tr>\n",
              "    <tr>\n",
              "      <th>1</th>\n",
              "      <td>Logistic Regression (Tuned)</td>\n",
              "      <td>1.0</td>\n",
              "      <td>1.0</td>\n",
              "      <td>1.0</td>\n",
              "      <td>1.0</td>\n",
              "    </tr>\n",
              "    <tr>\n",
              "      <th>2</th>\n",
              "      <td>Decision Tree (Tuned)</td>\n",
              "      <td>1.0</td>\n",
              "      <td>1.0</td>\n",
              "      <td>1.0</td>\n",
              "      <td>1.0</td>\n",
              "    </tr>\n",
              "  </tbody>\n",
              "</table>\n",
              "</div>"
            ],
            "text/plain": [
              "                         Model  Accuracy  Precision  Recall  F1-Score\n",
              "0        Random Forest (Tuned)       1.0        1.0     1.0       1.0\n",
              "1  Logistic Regression (Tuned)       1.0        1.0     1.0       1.0\n",
              "2        Decision Tree (Tuned)       1.0        1.0     1.0       1.0"
            ]
          },
          "execution_count": 62,
          "metadata": {},
          "output_type": "execute_result"
        }
      ],
      "source": [
        "# Calculate classification reports for all models\n",
        "rf_best_report = classification_report(y_test, rf_best_model_y_pred, digits=5, output_dict=True)\n",
        "log_reg_best_report = classification_report(y_test, log_reg_best_model_y_pred, digits=5, output_dict=True)\n",
        "dt_best_report = classification_report(y_test, dt_best_model_y_pred, digits=5, output_dict=True)\n",
        "\n",
        "# Extract relevant metrics (accuracy, precision, recall, F1 score)\n",
        "metrics_tuned = {\n",
        "    'Model': ['Random Forest (Tuned)', 'Logistic Regression (Tuned)', 'Decision Tree (Tuned)'],\n",
        "    'Accuracy': [\n",
        "        rf_best_report['accuracy'], \n",
        "        log_reg_best_report['accuracy'], \n",
        "        dt_best_report['accuracy']\n",
        "    ],\n",
        "    'Precision': [\n",
        "        rf_best_report['weighted avg']['precision'], \n",
        "        log_reg_best_report['weighted avg']['precision'], \n",
        "        dt_best_report['weighted avg']['precision']\n",
        "    ],\n",
        "    'Recall': [\n",
        "        rf_best_report['weighted avg']['recall'], \n",
        "        log_reg_best_report['weighted avg']['recall'], \n",
        "        dt_best_report['weighted avg']['recall']\n",
        "    ],\n",
        "    'F1-Score': [\n",
        "        rf_best_report['weighted avg']['f1-score'], \n",
        "        log_reg_best_report['weighted avg']['f1-score'], \n",
        "        dt_best_report['weighted avg']['f1-score']\n",
        "    ]\n",
        "}\n",
        "\n",
        "# Create a DataFrame\n",
        "df_tuned = pd.DataFrame(metrics_tuned)\n",
        "\n",
        "df_tuned"
      ]
    },
    {
      "cell_type": "markdown",
      "metadata": {
        "id": "ZRsOdm4uEgAW"
      },
      "source": [
        "## **e. Analisis Hasil Evaluasi Model Klasifikasi**"
      ]
    },
    {
      "cell_type": "markdown",
      "metadata": {
        "id": "Hm3BhSi6N4_l"
      },
      "source": [
        "Berikut adalah **rekomendasi** tahapannya.\n",
        "1. Bandingkan hasil evaluasi sebelum dan setelah tuning (jika dilakukan).\n",
        "2. Identifikasi kelemahan model, seperti:\n",
        "  - Precision atau Recall rendah untuk kelas tertentu.\n",
        "  - Apakah model mengalami overfitting atau underfitting?\n",
        "3. Berikan rekomendasi tindakan lanjutan, seperti mengumpulkan data tambahan atau mencoba algoritma lain jika hasil belum memuaskan."
      ]
    },
    {
      "cell_type": "code",
      "execution_count": 63,
      "metadata": {},
      "outputs": [
        {
          "data": {
            "text/html": [
              "<div>\n",
              "<style scoped>\n",
              "    .dataframe tbody tr th:only-of-type {\n",
              "        vertical-align: middle;\n",
              "    }\n",
              "\n",
              "    .dataframe tbody tr th {\n",
              "        vertical-align: top;\n",
              "    }\n",
              "\n",
              "    .dataframe thead th {\n",
              "        text-align: right;\n",
              "    }\n",
              "</style>\n",
              "<table border=\"1\" class=\"dataframe\">\n",
              "  <thead>\n",
              "    <tr style=\"text-align: right;\">\n",
              "      <th></th>\n",
              "      <th>Model</th>\n",
              "      <th>Accuracy</th>\n",
              "      <th>Precision</th>\n",
              "      <th>Recall</th>\n",
              "      <th>F1-Score</th>\n",
              "    </tr>\n",
              "  </thead>\n",
              "  <tbody>\n",
              "    <tr>\n",
              "      <th>0</th>\n",
              "      <td>Logistic Regression</td>\n",
              "      <td>1.0</td>\n",
              "      <td>1.0</td>\n",
              "      <td>1.0</td>\n",
              "      <td>1.0</td>\n",
              "    </tr>\n",
              "    <tr>\n",
              "      <th>1</th>\n",
              "      <td>Random Forest</td>\n",
              "      <td>1.0</td>\n",
              "      <td>1.0</td>\n",
              "      <td>1.0</td>\n",
              "      <td>1.0</td>\n",
              "    </tr>\n",
              "    <tr>\n",
              "      <th>2</th>\n",
              "      <td>Decision Tree</td>\n",
              "      <td>1.0</td>\n",
              "      <td>1.0</td>\n",
              "      <td>1.0</td>\n",
              "      <td>1.0</td>\n",
              "    </tr>\n",
              "    <tr>\n",
              "      <th>3</th>\n",
              "      <td>Random Forest (Tuned)</td>\n",
              "      <td>1.0</td>\n",
              "      <td>1.0</td>\n",
              "      <td>1.0</td>\n",
              "      <td>1.0</td>\n",
              "    </tr>\n",
              "    <tr>\n",
              "      <th>4</th>\n",
              "      <td>Logistic Regression (Tuned)</td>\n",
              "      <td>1.0</td>\n",
              "      <td>1.0</td>\n",
              "      <td>1.0</td>\n",
              "      <td>1.0</td>\n",
              "    </tr>\n",
              "    <tr>\n",
              "      <th>5</th>\n",
              "      <td>Decision Tree (Tuned)</td>\n",
              "      <td>1.0</td>\n",
              "      <td>1.0</td>\n",
              "      <td>1.0</td>\n",
              "      <td>1.0</td>\n",
              "    </tr>\n",
              "  </tbody>\n",
              "</table>\n",
              "</div>"
            ],
            "text/plain": [
              "                         Model  Accuracy  Precision  Recall  F1-Score\n",
              "0          Logistic Regression       1.0        1.0     1.0       1.0\n",
              "1                Random Forest       1.0        1.0     1.0       1.0\n",
              "2                Decision Tree       1.0        1.0     1.0       1.0\n",
              "3        Random Forest (Tuned)       1.0        1.0     1.0       1.0\n",
              "4  Logistic Regression (Tuned)       1.0        1.0     1.0       1.0\n",
              "5        Decision Tree (Tuned)       1.0        1.0     1.0       1.0"
            ]
          },
          "execution_count": 63,
          "metadata": {},
          "output_type": "execute_result"
        }
      ],
      "source": [
        "df_merged = pd.concat([df, df_tuned], ignore_index=True)\n",
        "df_merged.iloc[[1, 2]] = df_merged.iloc[[2, 1]].values\n",
        "df_merged"
      ]
    }
  ],
  "metadata": {
    "colab": {
      "provenance": []
    },
    "kernelspec": {
      "display_name": "datascience",
      "language": "python",
      "name": "python3"
    },
    "language_info": {
      "codemirror_mode": {
        "name": "ipython",
        "version": 3
      },
      "file_extension": ".py",
      "mimetype": "text/x-python",
      "name": "python",
      "nbconvert_exporter": "python",
      "pygments_lexer": "ipython3",
      "version": "3.12.2"
    }
  },
  "nbformat": 4,
  "nbformat_minor": 0
}
