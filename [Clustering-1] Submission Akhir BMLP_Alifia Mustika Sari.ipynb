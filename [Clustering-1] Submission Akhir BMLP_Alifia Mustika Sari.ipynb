{
  "cells": [
    {
      "cell_type": "markdown",
      "metadata": {
        "id": "kZLRMFl0JyyQ"
      },
      "source": [
        "# **1. Perkenalan Dataset** (FIX)\n"
      ]
    },
    {
      "cell_type": "markdown",
      "metadata": {
        "id": "hssSDn-5n3HR"
      },
      "source": [
        "Tahap pertama, Anda harus mencari dan menggunakan dataset **tanpa label** dengan ketentuan sebagai berikut:\n",
        "\n",
        "1. **Sumber Dataset**:  \n",
        "   Dataset dapat diperoleh dari berbagai sumber, seperti public repositories (*Kaggle*, *UCI ML Repository*, *Open Data*) atau data primer yang Anda kumpulkan sendiri.\n",
        "   \n",
        "2. **Ketentuan Dataset**:\n",
        "   - **Tanpa label**: Dataset tidak boleh memiliki label atau kelas.\n",
        "   - **Jumlah Baris**: Minimal 1000 baris untuk memastikan dataset cukup besar untuk analisis yang bermakna.\n",
        "   - **Tipe Data**: Harus mengandung data **kategorikal** dan **numerikal**.\n",
        "     - *Kategorikal*: Misalnya jenis kelamin, kategori produk.\n",
        "     - *Numerikal*: Misalnya usia, pendapatan, harga.\n",
        "\n",
        "3. **Pembatasan**:  \n",
        "   Dataset yang sudah digunakan dalam latihan clustering (seperti customer segmentation) tidak boleh digunakan.\n",
        "\n",
        "---"
      ]
    },
    {
      "cell_type": "markdown",
      "metadata": {},
      "source": [
        "## **Clustering Pola Pembelian Produk**"
      ]
    },
    {
      "cell_type": "markdown",
      "metadata": {},
      "source": [
        "**Dataset Overview:**\n",
        "\n",
        "**Beverage Sales Dataset** adalah kumpulan data yang merekam pola penjualan dalam industri minuman, dirancang untuk eksplorasi segmentasi pelanggan berdasarkan pola pembelian dan faktor harga. Dataset ini mencakup `8.999.910 sampel transaksi`, terdiri dari transaksi Business-to-Business (B2B) dan Business-to-Consumer (B2C). Dengan cakupan data yang luas, dataset ini memungkinkan berbagai analisis, termasuk segmentasi pelanggan, analisis produk, dan identifikasi tren penjualan."
      ]
    },
    {
      "cell_type": "markdown",
      "metadata": {},
      "source": [
        "**Key Features:**\n",
        "\n",
        "Dataset ini berisi informasi tentang setiap transaksi, dengan variabel-variabel berikut:\n",
        "- `Order_ID` → ID unik untuk setiap pesanan. Satu pesanan bisa mencakup beberapa produk.\n",
        "- `Customer_ID` → ID unik pelanggan yang membedakan setiap pembeli.\n",
        "- `Customer_Type` → Jenis pelanggan: B2B (Business-to-Business) atau B2C (Business-to-Consumer).\n",
        "- `Product` → Nama produk yang dibeli (misalnya Coca-Cola, Erdinger Weißbier).\n",
        "- `Category` → Kategori produk (Soft Drinks, Alcoholic Beverages, dll.).\n",
        "- `Unit_Price` → Harga per unit produk.\n",
        "- `Quantity` → Jumlah unit produk yang dibeli dalam satu pesanan.\n",
        "- `Discount` → Diskon yang diberikan pada produk (hanya untuk pelanggan B2B).\n",
        "- `Total_Price` → Total harga setelah diskon diterapkan.\n",
        "- `Region` → Wilayah pelanggan (misalnya Bayern, Berlin).\n",
        "- `Order_Date` → Tanggal pesanan dilakukan."
      ]
    },
    {
      "cell_type": "markdown",
      "metadata": {},
      "source": [
        "**Objective:**\n",
        "- Mengelompokkan produk berdasarkan pola pembelian dan faktor harga.\n",
        "\n",
        "**Source:**\n",
        "- https://www.kaggle.com/datasets/sebastianwillmann/beverage-sales/data"
      ]
    },
    {
      "cell_type": "markdown",
      "metadata": {
        "id": "fKADPWcFKlj3"
      },
      "source": [
        "# **2. Import Library** (DONE)"
      ]
    },
    {
      "cell_type": "markdown",
      "metadata": {
        "id": "LgA3ERnVn84N"
      },
      "source": [
        "Pada tahap ini, Kita akan mengimpor beberapa pustaka (library) Python yang dibutuhkan untuk analisis data dan pembangunan model machine learning."
      ]
    },
    {
      "cell_type": "code",
      "execution_count": null,
      "metadata": {
        "id": "BlmvjLY9M4Yj"
      },
      "outputs": [],
      "source": [
        "# Import library untuk manipulasi data\n",
        "import pandas as pd  # Digunakan untuk mengelola dan menganalisis data dalam bentuk DataFrame\n",
        "import seaborn as sns  # Digunakan untuk visualisasi data yang lebih informatif\n",
        "import matplotlib.pyplot as plt  # Digunakan untuk membuat grafik dan plot\n",
        "\n",
        "# Import library untuk preprocessing data\n",
        "from sklearn.preprocessing import StandardScaler, MinMaxScaler, RobustScaler  # Teknik normalisasi atau scaling data numerik\n",
        "from sklearn.preprocessing import LabelEncoder  # Digunakan untuk mengubah data kategorikal menjadi bentuk numerik\n",
        "\n",
        "# Import library untuk evaluasi clustering\n",
        "from yellowbrick.cluster import KElbowVisualizer  # Digunakan untuk menentukan jumlah klaster optimal menggunakan metode Elbow\n",
        "\n",
        "# Import algoritma clustering\n",
        "from sklearn.cluster import KMeans, DBSCAN  # KMeans untuk clustering berbasis centroid, DBSCAN untuk clustering berbasis kepadatan (density)\n",
        "\n",
        "# Import library untuk reduksi dimensi\n",
        "from sklearn.decomposition import PCA  # PCA digunakan untuk mengurangi jumlah fitur agar lebih mudah divisualisasikan"
      ]
    },
    {
      "cell_type": "markdown",
      "metadata": {},
      "source": [
        "--- Penjelasan Alur Analisis Clustering ---\n",
        "1. **Preprocessing Data** \n",
        "   - Normalisasi atau standarisasi fitur menggunakan StandardScaler, MinMaxScaler, atau RobustScaler.\n",
        "   - Konversi data kategorikal menjadi numerik menggunakan LabelEncoder jika diperlukan.\n",
        "2. **Reduksi Dimensi (Opsional)**\n",
        "   - Jika dataset memiliki banyak fitur, PCA dapat diterapkan untuk mereduksi dimensi dan membantu visualisasi.\n",
        "3. **Penerapan Model Clustering**\n",
        "   - Menggunakan KMeans atau DBSCAN untuk membagi data ke dalam kelompok (cluster).\n",
        "4. **Evaluasi Jumlah Klaster (Khusus KMeans)**\n",
        "   - Menggunakan metode Elbow untuk menentukan jumlah klaster optimal.\n",
        "5. **Visualisasi Hasil**\n",
        "   - Memanfaatkan seaborn dan matplotlib untuk memvisualisasikan hasil clustering."
      ]
    },
    {
      "cell_type": "markdown",
      "metadata": {
        "id": "f3YIEnAFKrKL"
      },
      "source": [
        "# **3. Memuat Dataset** (DONE)"
      ]
    },
    {
      "cell_type": "markdown",
      "metadata": {
        "id": "Ey3ItwTen_7E"
      },
      "source": [
        "Pada tahap ini, Kita perlu memuat dataset ke dalam notebook dalam format CSV dengan menggunakan pustaka `pandas` untuk membacanya. Kita akan mengecek beberapa baris awal dataset untuk memahami struktur datanya."
      ]
    },
    {
      "cell_type": "code",
      "execution_count": 18,
      "metadata": {
        "id": "GHCGNTyrM5fS"
      },
      "outputs": [
        {
          "data": {
            "text/html": [
              "<div>\n",
              "<style scoped>\n",
              "    .dataframe tbody tr th:only-of-type {\n",
              "        vertical-align: middle;\n",
              "    }\n",
              "\n",
              "    .dataframe tbody tr th {\n",
              "        vertical-align: top;\n",
              "    }\n",
              "\n",
              "    .dataframe thead th {\n",
              "        text-align: right;\n",
              "    }\n",
              "</style>\n",
              "<table border=\"1\" class=\"dataframe\">\n",
              "  <thead>\n",
              "    <tr style=\"text-align: right;\">\n",
              "      <th></th>\n",
              "      <th>Order_ID</th>\n",
              "      <th>Customer_ID</th>\n",
              "      <th>Customer_Type</th>\n",
              "      <th>Product</th>\n",
              "      <th>Category</th>\n",
              "      <th>Unit_Price</th>\n",
              "      <th>Quantity</th>\n",
              "      <th>Discount</th>\n",
              "      <th>Total_Price</th>\n",
              "      <th>Region</th>\n",
              "      <th>Order_Date</th>\n",
              "    </tr>\n",
              "  </thead>\n",
              "  <tbody>\n",
              "    <tr>\n",
              "      <th>0</th>\n",
              "      <td>ORD1</td>\n",
              "      <td>CUS1496</td>\n",
              "      <td>B2B</td>\n",
              "      <td>Vio Wasser</td>\n",
              "      <td>Water</td>\n",
              "      <td>1.66</td>\n",
              "      <td>53</td>\n",
              "      <td>0.10</td>\n",
              "      <td>79.18</td>\n",
              "      <td>Baden-Württemberg</td>\n",
              "      <td>2023-08-23</td>\n",
              "    </tr>\n",
              "    <tr>\n",
              "      <th>1</th>\n",
              "      <td>ORD1</td>\n",
              "      <td>CUS1496</td>\n",
              "      <td>B2B</td>\n",
              "      <td>Evian</td>\n",
              "      <td>Water</td>\n",
              "      <td>1.56</td>\n",
              "      <td>90</td>\n",
              "      <td>0.10</td>\n",
              "      <td>126.36</td>\n",
              "      <td>Baden-Württemberg</td>\n",
              "      <td>2023-08-23</td>\n",
              "    </tr>\n",
              "    <tr>\n",
              "      <th>2</th>\n",
              "      <td>ORD1</td>\n",
              "      <td>CUS1496</td>\n",
              "      <td>B2B</td>\n",
              "      <td>Sprite</td>\n",
              "      <td>Soft Drinks</td>\n",
              "      <td>1.17</td>\n",
              "      <td>73</td>\n",
              "      <td>0.05</td>\n",
              "      <td>81.14</td>\n",
              "      <td>Baden-Württemberg</td>\n",
              "      <td>2023-08-23</td>\n",
              "    </tr>\n",
              "    <tr>\n",
              "      <th>3</th>\n",
              "      <td>ORD1</td>\n",
              "      <td>CUS1496</td>\n",
              "      <td>B2B</td>\n",
              "      <td>Rauch Multivitamin</td>\n",
              "      <td>Juices</td>\n",
              "      <td>3.22</td>\n",
              "      <td>59</td>\n",
              "      <td>0.10</td>\n",
              "      <td>170.98</td>\n",
              "      <td>Baden-Württemberg</td>\n",
              "      <td>2023-08-23</td>\n",
              "    </tr>\n",
              "    <tr>\n",
              "      <th>4</th>\n",
              "      <td>ORD1</td>\n",
              "      <td>CUS1496</td>\n",
              "      <td>B2B</td>\n",
              "      <td>Gerolsteiner</td>\n",
              "      <td>Water</td>\n",
              "      <td>0.87</td>\n",
              "      <td>35</td>\n",
              "      <td>0.10</td>\n",
              "      <td>27.40</td>\n",
              "      <td>Baden-Württemberg</td>\n",
              "      <td>2023-08-23</td>\n",
              "    </tr>\n",
              "  </tbody>\n",
              "</table>\n",
              "</div>"
            ],
            "text/plain": [
              "  Order_ID Customer_ID Customer_Type             Product     Category  \\\n",
              "0     ORD1     CUS1496           B2B          Vio Wasser        Water   \n",
              "1     ORD1     CUS1496           B2B               Evian        Water   \n",
              "2     ORD1     CUS1496           B2B              Sprite  Soft Drinks   \n",
              "3     ORD1     CUS1496           B2B  Rauch Multivitamin       Juices   \n",
              "4     ORD1     CUS1496           B2B        Gerolsteiner        Water   \n",
              "\n",
              "   Unit_Price  Quantity  Discount  Total_Price             Region  Order_Date  \n",
              "0        1.66        53      0.10        79.18  Baden-Württemberg  2023-08-23  \n",
              "1        1.56        90      0.10       126.36  Baden-Württemberg  2023-08-23  \n",
              "2        1.17        73      0.05        81.14  Baden-Württemberg  2023-08-23  \n",
              "3        3.22        59      0.10       170.98  Baden-Württemberg  2023-08-23  \n",
              "4        0.87        35      0.10        27.40  Baden-Württemberg  2023-08-23  "
            ]
          },
          "execution_count": 18,
          "metadata": {},
          "output_type": "execute_result"
        }
      ],
      "source": [
        "df_sales = pd.read_csv(\"Dataset_clustering-1.csv\")\n",
        "df_sales.head()"
      ]
    },
    {
      "cell_type": "markdown",
      "metadata": {
        "id": "bgZkbJLpK9UR"
      },
      "source": [
        "# **4. Exploratory Data Analysis (EDA)**\n",
        "\n",
        "Pada tahap ini, Anda akan melakukan **Exploratory Data Analysis (EDA)** untuk memahami karakteristik dataset. EDA bertujuan untuk:\n",
        "\n",
        "1. **Memahami Struktur Data**\n",
        "   - Tinjau jumlah baris dan kolom dalam dataset.  \n",
        "   - Tinjau jenis data di setiap kolom (numerikal atau kategorikal).\n",
        "\n",
        "2. **Menangani Data yang Hilang**  \n",
        "   - Identifikasi dan analisis data yang hilang (*missing values*). Tentukan langkah-langkah yang diperlukan untuk menangani data yang hilang, seperti pengisian atau penghapusan data tersebut.\n",
        "\n",
        "3. **Analisis Distribusi dan Korelasi**  \n",
        "   - Analisis distribusi variabel numerik dengan statistik deskriptif dan visualisasi seperti histogram atau boxplot.  \n",
        "   - Periksa hubungan antara variabel menggunakan matriks korelasi atau scatter plot.\n",
        "\n",
        "4. **Visualisasi Data**  \n",
        "   - Buat visualisasi dasar seperti grafik distribusi dan diagram batang untuk variabel kategorikal.  \n",
        "   - Gunakan heatmap atau pairplot untuk menganalisis korelasi antar variabel.\n",
        "\n",
        "Tujuan dari EDA adalah untuk memperoleh wawasan awal yang mendalam mengenai data dan menentukan langkah selanjutnya dalam analisis atau pemodelan."
      ]
    },
    {
      "cell_type": "markdown",
      "metadata": {},
      "source": [
        "### **4.1. Understanding Data Structures**"
      ]
    },
    {
      "cell_type": "code",
      "execution_count": 19,
      "metadata": {},
      "outputs": [
        {
          "name": "stdout",
          "output_type": "stream",
          "text": [
            "<class 'pandas.core.frame.DataFrame'>\n",
            "RangeIndex: 8999910 entries, 0 to 8999909\n",
            "Data columns (total 11 columns):\n",
            " #   Column         Dtype  \n",
            "---  ------         -----  \n",
            " 0   Order_ID       object \n",
            " 1   Customer_ID    object \n",
            " 2   Customer_Type  object \n",
            " 3   Product        object \n",
            " 4   Category       object \n",
            " 5   Unit_Price     float64\n",
            " 6   Quantity       int64  \n",
            " 7   Discount       float64\n",
            " 8   Total_Price    float64\n",
            " 9   Region         object \n",
            " 10  Order_Date     object \n",
            "dtypes: float64(3), int64(1), object(7)\n",
            "memory usage: 755.3+ MB\n"
          ]
        }
      ],
      "source": [
        "df_sales.info()"
      ]
    },
    {
      "cell_type": "code",
      "execution_count": 20,
      "metadata": {},
      "outputs": [
        {
          "name": "stdout",
          "output_type": "stream",
          "text": [
            "<class 'pandas.core.frame.DataFrame'>\n",
            "RangeIndex: 2000 entries, 0 to 1999\n",
            "Data columns (total 11 columns):\n",
            " #   Column         Non-Null Count  Dtype  \n",
            "---  ------         --------------  -----  \n",
            " 0   Order_ID       2000 non-null   object \n",
            " 1   Customer_ID    2000 non-null   object \n",
            " 2   Customer_Type  2000 non-null   object \n",
            " 3   Product        2000 non-null   object \n",
            " 4   Category       2000 non-null   object \n",
            " 5   Unit_Price     2000 non-null   float64\n",
            " 6   Quantity       2000 non-null   int64  \n",
            " 7   Discount       2000 non-null   float64\n",
            " 8   Total_Price    2000 non-null   float64\n",
            " 9   Region         2000 non-null   object \n",
            " 10  Order_Date     2000 non-null   object \n",
            "dtypes: float64(3), int64(1), object(7)\n",
            "memory usage: 172.0+ KB\n"
          ]
        }
      ],
      "source": [
        "# Ambil subset dataset secara acak karena dataset terlalu besar\n",
        "df_sales = df_sales.sample(n=2000, random_state=69, ignore_index=True)\n",
        "df_sales.info()"
      ]
    },
    {
      "cell_type": "code",
      "execution_count": 21,
      "metadata": {},
      "outputs": [
        {
          "name": "stdout",
          "output_type": "stream",
          "text": [
            "List Kolom Numerik: Index(['Unit_Price', 'Quantity', 'Discount', 'Total_Price'], dtype='object')\n",
            "\n",
            "List Kolom Kategorikal: Index([], dtype='object')\n"
          ]
        }
      ],
      "source": [
        "df_numerical = df_sales.select_dtypes(include='number')\n",
        "df_categorical = df_sales.select_dtypes(include='category')\n",
        "print(\"List Kolom Numerik:\", df_numerical.columns)\n",
        "print(\"\\nList Kolom Kategorikal:\", df_categorical.columns)"
      ]
    },
    {
      "cell_type": "code",
      "execution_count": 22,
      "metadata": {},
      "outputs": [
        {
          "name": "stdout",
          "output_type": "stream",
          "text": [
            "Order_ID : ['ORD697566' 'ORD1118443' 'ORD742327' ... 'ORD1387810' 'ORD305171'\n",
            " 'ORD768081']\n",
            "\n",
            "Customer_ID : ['CUS6363' 'CUS7797' 'CUS3123' ... 'CUS6341' 'CUS679' 'CUS3940']\n",
            "\n",
            "Customer_Type : ['B2C' 'B2B']\n",
            "\n",
            "Product : ['Coca-Cola' 'Selters' 'Fritz-Kola' 'Monster' 'San Pellegrino' \"Beck's\"\n",
            " 'Granini Apple' 'Chardonnay' 'Cranberry Juice' 'Riesling' 'Krombacher'\n",
            " 'Vittel' 'Hohes C Orange' 'Tomato Juice' 'Merlot' 'Rauch Multivitamin'\n",
            " 'Sauvignon Blanc' 'Mango Juice' 'Evian' 'Rockstar' 'Rotkäppchen Sekt'\n",
            " 'Apollinaris' 'Jack Daniels' 'Volvic Touch' 'Gerolsteiner'\n",
            " 'Passion Fruit Juice' 'Volvic' 'Vio Wasser' 'Sprite' 'Bacardi'\n",
            " 'Mezzo Mix' 'Johnnie Walker' 'Red Bull' 'Jever' 'Erdinger Weißbier'\n",
            " 'Veuve Clicquot' 'Schwip Schwap' 'Augustiner' 'Warsteiner' 'Mountain Dew'\n",
            " 'Kölsch' 'Club Mate' 'Pepsi' 'Moët & Chandon' 'Fanta' 'Havana Club'\n",
            " 'Tanqueray']\n",
            "\n",
            "Category : ['Soft Drinks' 'Water' 'Alcoholic Beverages' 'Juices']\n",
            "\n",
            "Region : ['Bremen' 'Sachsen-Anhalt' 'Sachsen' 'Schleswig-Holstein' 'Hessen'\n",
            " 'Berlin' 'Rheinland-Pfalz' 'Thüringen' 'Bayern' 'Saarland'\n",
            " 'Nordrhein-Westfalen' 'Baden-Württemberg' 'Hamburg'\n",
            " 'Mecklenburg-Vorpommern' 'Niedersachsen' 'Brandenburg']\n",
            "\n",
            "Order_Date : ['2021-02-17' '2023-04-15' '2022-06-20' '2021-09-07' '2023-04-28'\n",
            " '2023-11-01' '2021-02-23' '2022-04-16' '2023-04-29' '2022-11-10'\n",
            " '2023-03-13' '2023-09-15' '2021-10-01' '2021-10-27' '2022-02-08'\n",
            " '2022-01-09' '2023-06-27' '2021-01-21' '2023-11-18' '2023-01-31'\n",
            " '2022-10-23' '2021-04-01' '2023-06-03' '2022-04-14' '2023-07-14'\n",
            " '2022-12-20' '2023-06-14' '2021-12-19' '2023-09-19' '2023-07-07'\n",
            " '2021-12-22' '2023-09-23' '2022-08-21' '2022-04-19' '2022-01-14'\n",
            " '2022-03-23' '2022-03-09' '2022-11-13' '2023-04-05' '2023-01-11'\n",
            " '2022-12-28' '2023-01-03' '2021-05-31' '2021-05-17' '2022-05-28'\n",
            " '2022-03-03' '2023-11-02' '2022-03-19' '2022-12-16' '2021-05-06'\n",
            " '2021-03-03' '2023-12-23' '2022-10-03' '2022-10-24' '2021-06-22'\n",
            " '2022-05-27' '2021-10-17' '2023-03-17' '2021-02-14' '2022-08-30'\n",
            " '2023-08-25' '2022-03-29' '2022-02-28' '2021-02-20' '2021-07-13'\n",
            " '2022-05-13' '2023-01-19' '2021-06-13' '2023-02-24' '2023-12-16'\n",
            " '2022-12-15' '2021-01-04' '2023-10-27' '2022-05-30' '2022-04-20'\n",
            " '2021-09-19' '2022-04-15' '2021-04-24' '2023-03-16' '2023-07-15'\n",
            " '2022-06-26' '2022-04-05' '2023-07-02' '2021-11-04' '2021-07-31'\n",
            " '2022-07-02' '2023-09-16' '2023-09-11' '2023-07-19' '2021-07-29'\n",
            " '2021-05-11' '2022-04-06' '2021-09-17' '2022-01-22' '2023-05-01'\n",
            " '2023-05-04' '2023-10-13' '2023-11-08' '2022-10-02' '2023-01-17'\n",
            " '2022-11-28' '2023-10-22' '2022-09-26' '2021-10-20' '2021-03-28'\n",
            " '2023-05-16' '2023-06-05' '2023-05-26' '2021-09-30' '2021-04-20'\n",
            " '2021-11-02' '2021-04-02' '2022-02-11' '2023-07-29' '2023-08-20'\n",
            " '2023-03-23' '2022-04-28' '2022-03-04' '2021-08-03' '2023-10-26'\n",
            " '2023-08-24' '2022-02-27' '2023-07-18' '2023-06-19' '2023-03-22'\n",
            " '2022-04-24' '2022-12-22' '2022-05-04' '2023-03-31' '2023-10-05'\n",
            " '2022-11-03' '2023-05-09' '2023-02-01' '2022-04-29' '2023-03-12'\n",
            " '2022-09-01' '2023-10-07' '2022-05-15' '2023-12-25' '2023-08-01'\n",
            " '2023-08-30' '2021-12-28' '2022-07-09' '2022-03-18' '2022-09-12'\n",
            " '2022-08-16' '2022-09-29' '2021-12-15' '2023-09-06' '2021-11-03'\n",
            " '2022-04-25' '2022-10-19' '2022-05-23' '2021-04-21' '2023-10-08'\n",
            " '2023-02-05' '2022-02-12' '2021-03-08' '2023-05-19' '2023-07-21'\n",
            " '2021-10-26' '2022-09-16' '2023-09-24' '2022-03-27' '2021-07-15'\n",
            " '2021-03-05' '2023-02-26' '2023-01-14' '2023-11-22' '2022-07-30'\n",
            " '2022-08-31' '2023-05-14' '2023-01-21' '2022-08-17' '2023-06-29'\n",
            " '2022-10-08' '2023-06-21' '2022-06-10' '2022-09-23' '2023-09-07'\n",
            " '2023-12-24' '2023-07-31' '2021-11-21' '2021-09-16' '2021-06-10'\n",
            " '2021-03-25' '2022-10-29' '2022-01-20' '2022-04-17' '2022-06-15'\n",
            " '2021-11-15' '2021-04-19' '2021-01-19' '2021-09-04' '2022-04-18'\n",
            " '2023-09-14' '2022-09-10' '2023-02-06' '2022-03-15' '2021-11-09'\n",
            " '2021-10-21' '2021-03-30' '2021-10-15' '2021-12-03' '2023-10-01'\n",
            " '2021-07-27' '2022-07-10' '2021-10-31' '2023-03-18' '2023-09-22'\n",
            " '2021-07-21' '2023-11-06' '2023-01-09' '2022-07-18' '2023-12-02'\n",
            " '2023-06-28' '2021-03-12' '2023-12-07' '2022-02-05' '2021-05-16'\n",
            " '2022-01-03' '2021-06-04' '2023-11-11' '2021-06-18' '2022-08-14'\n",
            " '2022-12-10' '2023-02-08' '2022-11-01' '2021-06-30' '2023-06-23'\n",
            " '2023-02-22' '2022-05-26' '2022-09-30' '2022-12-13' '2023-02-15'\n",
            " '2023-12-19' '2022-05-01' '2021-08-07' '2023-01-22' '2021-08-23'\n",
            " '2023-07-27' '2022-09-28' '2023-11-10' '2021-11-23' '2021-12-11'\n",
            " '2022-12-31' '2022-10-11' '2021-10-05' '2021-01-06' '2023-08-07'\n",
            " '2023-08-19' '2021-11-18' '2021-05-03' '2023-03-03' '2022-03-11'\n",
            " '2021-03-19' '2021-11-22' '2021-11-27' '2023-04-10' '2022-12-02'\n",
            " '2023-10-30' '2023-11-19' '2023-05-07' '2023-10-09' '2022-03-25'\n",
            " '2023-10-20' '2021-08-15' '2021-04-25' '2021-01-05' '2022-01-01'\n",
            " '2021-07-02' '2023-12-13' '2023-08-29' '2022-08-25' '2021-09-26'\n",
            " '2022-11-07' '2022-12-08' '2022-09-22' '2022-07-27' '2023-06-13'\n",
            " '2021-02-02' '2023-10-15' '2023-04-11' '2021-07-09' '2021-07-19'\n",
            " '2022-10-14' '2021-06-28' '2023-04-24' '2023-12-21' '2023-10-23'\n",
            " '2021-04-07' '2021-06-24' '2023-04-01' '2022-07-08' '2021-06-14'\n",
            " '2023-07-24' '2023-06-17' '2022-04-13' '2022-02-16' '2023-03-05'\n",
            " '2022-05-22' '2023-08-08' '2022-03-16' '2021-10-11' '2023-03-20'\n",
            " '2021-11-07' '2023-08-27' '2021-10-13' '2022-05-31' '2022-07-19'\n",
            " '2023-09-25' '2023-01-29' '2022-01-28' '2023-05-28' '2023-11-17'\n",
            " '2022-07-29' '2022-06-08' '2021-11-19' '2021-12-09' '2022-11-12'\n",
            " '2023-09-26' '2022-08-19' '2021-07-20' '2022-12-21' '2022-12-04'\n",
            " '2022-10-20' '2022-10-04' '2021-10-12' '2023-05-12' '2021-05-02'\n",
            " '2022-09-25' '2022-07-17' '2023-10-25' '2022-12-01' '2021-03-09'\n",
            " '2021-07-18' '2022-01-29' '2022-12-29' '2023-02-13' '2021-06-16'\n",
            " '2023-10-31' '2022-11-16' '2022-06-13' '2023-03-08' '2023-06-16'\n",
            " '2021-09-03' '2021-08-29' '2022-10-12' '2023-06-01' '2021-01-23'\n",
            " '2023-01-30' '2021-02-24' '2021-04-10' '2021-06-05' '2023-01-18'\n",
            " '2022-01-19' '2022-02-06' '2022-11-11' '2021-11-16' '2022-04-09'\n",
            " '2023-07-12' '2023-06-12' '2022-04-12' '2021-09-18' '2022-01-25'\n",
            " '2021-10-30' '2021-01-18' '2023-08-15' '2022-05-07' '2023-10-18'\n",
            " '2021-08-06' '2021-11-01' '2022-10-31' '2022-12-14' '2021-09-08'\n",
            " '2021-03-20' '2022-03-28' '2023-02-20' '2021-02-08' '2021-03-01'\n",
            " '2021-09-14' '2023-03-29' '2021-04-03' '2022-07-01' '2021-10-02'\n",
            " '2022-11-25' '2022-08-23' '2023-10-02' '2023-11-14' '2022-07-26'\n",
            " '2021-06-06' '2021-05-24' '2022-11-24' '2023-07-23' '2022-11-18'\n",
            " '2021-03-16' '2023-12-11' '2023-07-05' '2021-01-01' '2023-01-27'\n",
            " '2023-05-25' '2021-12-02' '2022-06-23' '2023-09-04' '2023-04-26'\n",
            " '2021-11-28' '2021-03-02' '2023-07-01' '2023-03-07' '2022-09-03'\n",
            " '2023-08-14' '2021-08-28' '2022-09-15' '2021-04-16' '2023-07-03'\n",
            " '2021-02-28' '2021-01-31' '2023-02-17' '2022-07-07' '2021-04-22'\n",
            " '2023-05-31' '2023-01-12' '2023-09-17' '2023-02-23' '2022-06-03'\n",
            " '2021-04-09' '2023-11-03' '2022-08-29' '2023-02-11' '2022-03-01'\n",
            " '2023-07-25' '2023-04-02' '2023-08-23' '2023-01-23' '2021-07-16'\n",
            " '2022-11-26' '2021-01-24' '2021-12-01' '2023-09-10' '2022-10-30'\n",
            " '2023-10-24' '2023-12-10' '2023-05-21' '2023-11-20' '2023-12-29'\n",
            " '2023-06-15' '2022-03-12' '2021-04-14' '2023-02-14' '2021-08-08'\n",
            " '2023-10-16' '2022-05-02' '2023-10-29' '2023-04-25' '2022-01-15'\n",
            " '2022-06-22' '2021-06-08' '2023-02-16' '2022-11-15' '2023-02-03'\n",
            " '2022-02-20' '2021-12-07' '2023-04-19' '2023-10-14' '2023-02-07'\n",
            " '2023-11-27' '2022-08-07' '2023-08-04' '2022-01-02' '2023-07-16'\n",
            " '2022-04-10' '2022-11-20' '2022-12-05' '2021-08-21' '2021-11-11'\n",
            " '2022-08-10' '2023-09-30' '2022-12-17' '2023-05-18' '2021-02-06'\n",
            " '2022-08-28' '2021-03-22' '2021-01-13' '2022-11-06' '2021-07-14'\n",
            " '2022-03-08' '2021-01-02' '2023-04-20' '2021-08-16' '2021-08-31'\n",
            " '2021-10-19' '2021-01-12' '2023-03-27' '2022-07-14' '2022-09-07'\n",
            " '2023-05-11' '2022-01-21' '2022-06-17' '2021-03-17' '2022-01-31'\n",
            " '2023-05-22' '2022-07-24' '2021-08-05' '2021-03-15' '2021-11-17'\n",
            " '2022-07-13' '2022-12-12' '2022-03-06' '2022-05-18' '2021-10-29'\n",
            " '2021-12-27' '2023-03-25' '2023-03-26' '2021-04-18' '2022-06-11'\n",
            " '2022-03-21' '2022-11-27' '2022-11-30' '2021-11-08' '2023-03-14'\n",
            " '2023-01-08' '2022-10-13' '2023-04-03' '2022-07-11' '2023-10-19'\n",
            " '2021-05-14' '2021-06-09' '2022-01-23' '2022-04-26' '2023-06-06'\n",
            " '2021-09-24' '2021-11-20' '2023-08-26' '2021-11-10' '2022-03-17'\n",
            " '2021-03-04' '2021-02-07' '2023-01-01' '2021-07-25' '2022-07-23'\n",
            " '2023-10-03' '2021-08-12' '2022-12-11' '2023-08-31' '2023-08-11'\n",
            " '2021-08-30' '2023-05-03' '2022-08-08' '2021-07-07' '2022-07-06'\n",
            " '2021-12-18' '2021-07-06' '2022-01-26' '2022-05-03' '2023-09-18'\n",
            " '2022-06-05' '2022-06-19' '2023-01-16' '2022-02-22' '2022-06-25'\n",
            " '2023-01-24' '2023-05-30' '2022-11-29' '2023-05-17' '2023-12-26'\n",
            " '2023-04-13' '2022-02-18' '2022-01-06' '2022-03-26' '2023-09-29'\n",
            " '2022-08-06' '2022-07-25' '2021-12-06' '2022-08-26' '2022-12-19'\n",
            " '2021-02-03' '2023-07-17' '2022-12-18' '2022-01-04' '2022-04-07'\n",
            " '2023-04-18' '2023-04-27' '2021-05-08' '2021-08-20' '2023-08-18'\n",
            " '2023-07-06' '2021-11-06' '2023-04-09' '2021-01-11' '2021-10-25'\n",
            " '2022-09-05' '2022-05-17' '2021-06-07' '2022-02-14' '2022-01-11'\n",
            " '2021-10-10' '2021-12-08' '2021-08-25' '2022-08-04' '2023-03-15'\n",
            " '2022-08-01' '2023-03-21' '2021-04-29' '2021-01-14' '2022-01-13'\n",
            " '2023-04-16' '2023-06-18' '2023-06-11' '2021-07-22' '2021-12-23'\n",
            " '2021-04-26' '2022-05-24' '2022-06-04' '2021-09-01' '2023-10-06'\n",
            " '2023-12-08' '2023-11-29' '2021-05-18' '2021-05-19' '2022-09-14'\n",
            " '2022-05-21' '2021-03-26' '2023-12-15' '2022-09-20' '2021-10-06'\n",
            " '2021-09-25' '2021-04-17' '2021-04-13' '2022-06-18' '2022-12-24'\n",
            " '2021-02-12' '2023-08-06' '2023-03-02' '2023-01-15' '2023-02-21'\n",
            " '2021-12-31' '2023-01-02' '2021-01-09' '2021-07-08' '2023-01-26'\n",
            " '2023-02-02' '2023-01-20' '2021-02-27' '2023-07-30' '2022-11-02'\n",
            " '2022-02-21' '2021-01-03' '2023-04-07' '2021-05-21' '2021-04-12'\n",
            " '2021-10-28' '2023-07-13' '2023-01-25' '2021-12-16' '2023-12-20'\n",
            " '2021-07-30' '2021-02-19' '2021-03-23' '2021-03-14' '2023-04-30'\n",
            " '2021-03-06' '2022-05-11' '2022-01-27' '2022-11-05' '2021-08-18'\n",
            " '2022-06-29' '2023-08-21' '2023-03-24' '2021-12-24' '2021-04-04'\n",
            " '2023-02-19' '2021-02-25' '2022-05-12' '2022-06-02' '2021-06-27'\n",
            " '2023-11-09' '2023-12-22' '2022-04-21' '2021-08-10' '2022-12-07'\n",
            " '2021-11-29' '2023-10-04' '2023-08-10' '2022-04-30' '2023-02-09'\n",
            " '2022-02-19' '2022-11-14' '2021-08-04' '2021-01-22' '2022-06-21'\n",
            " '2023-04-21' '2023-09-12' '2021-07-03' '2023-03-30' '2022-01-12'\n",
            " '2021-09-09' '2022-05-29' '2023-06-25' '2023-02-04' '2023-05-05'\n",
            " '2022-01-10' '2022-08-20' '2023-05-02' '2021-05-30' '2022-03-05'\n",
            " '2022-05-25' '2023-09-01' '2022-09-19' '2023-01-07' '2022-09-02'\n",
            " '2023-11-05' '2021-06-03' '2022-01-08' '2021-09-29' '2021-04-23'\n",
            " '2023-09-02' '2021-08-27' '2021-02-26' '2023-11-21' '2021-09-20'\n",
            " '2021-10-24' '2022-06-14' '2023-06-20' '2021-05-20' '2023-03-10'\n",
            " '2023-08-09' '2021-09-27' '2021-01-10' '2022-08-09' '2021-10-23'\n",
            " '2023-05-08' '2022-12-26' '2022-03-02' '2022-09-21' '2023-08-17'\n",
            " '2021-03-13' '2022-07-31' '2021-02-16' '2023-11-24' '2021-10-18'\n",
            " '2022-09-08' '2023-04-06' '2022-12-09' '2023-12-01' '2021-03-21'\n",
            " '2021-02-01' '2022-06-30' '2021-12-29' '2022-10-07' '2021-01-17'\n",
            " '2023-05-13' '2021-06-12' '2021-04-15' '2021-11-14' '2023-05-23'\n",
            " '2021-09-28' '2023-03-09' '2021-08-01' '2023-08-28' '2023-09-03'\n",
            " '2022-08-13' '2022-10-21' '2022-07-05' '2023-06-24' '2023-04-23'\n",
            " '2023-05-29' '2021-06-29' '2023-06-22' '2021-11-05' '2022-03-22'\n",
            " '2021-06-19' '2021-02-22' '2021-01-20' '2022-10-15' '2021-06-17'\n",
            " '2022-09-17' '2022-03-07' '2021-01-16' '2021-10-14' '2022-08-11'\n",
            " '2023-08-03' '2021-01-08' '2021-09-15' '2021-01-30' '2023-12-27'\n",
            " '2021-02-04' '2023-04-04' '2022-12-27' '2022-04-22' '2021-10-22'\n",
            " '2022-08-27' '2021-05-23' '2023-02-25' '2021-07-01' '2021-08-11'\n",
            " '2021-04-11' '2021-06-25' '2021-11-25' '2023-12-05' '2021-01-25'\n",
            " '2023-12-06' '2023-04-08' '2021-03-27' '2021-08-14' '2022-09-06'\n",
            " '2022-06-06' '2022-06-09' '2023-12-30' '2023-08-12' '2023-10-11'\n",
            " '2021-01-07' '2021-05-22' '2022-08-03' '2021-02-05' '2021-02-13'\n",
            " '2021-12-25' '2022-05-20' '2022-01-24' '2022-01-07' '2021-01-28'\n",
            " '2021-12-10' '2021-04-06' '2022-06-07' '2021-09-10' '2022-08-05'\n",
            " '2023-07-20' '2022-11-22' '2021-05-10' '2022-05-06' '2023-12-12'\n",
            " '2021-09-11' '2022-08-18' '2022-01-18' '2021-12-17' '2023-09-28'\n",
            " '2021-05-04' '2022-02-09' '2022-10-25' '2021-06-01' '2023-11-15'\n",
            " '2021-02-10' '2022-02-02' '2021-10-03' '2023-03-01' '2021-07-23'\n",
            " '2021-02-11' '2021-08-19' '2021-08-09' '2021-04-08' '2022-01-05'\n",
            " '2022-12-30' '2023-07-08' '2021-10-07' '2021-08-24' '2021-07-04'\n",
            " '2023-03-28' '2022-02-25' '2022-07-16' '2022-06-27' '2021-09-02'\n",
            " '2023-08-13' '2021-06-21' '2023-01-28' '2022-09-27' '2022-04-01'\n",
            " '2023-12-28' '2021-05-01' '2022-03-20' '2023-03-11' '2022-12-25'\n",
            " '2022-04-11' '2023-01-04' '2023-12-04' '2023-04-22' '2021-05-29'\n",
            " '2023-12-17' '2022-10-06' '2021-08-13' '2022-03-13' '2022-08-02'\n",
            " '2023-06-26' '2022-10-22' '2021-02-09' '2022-06-24' '2021-01-26'\n",
            " '2022-11-19' '2022-10-10' '2023-07-11' '2023-11-26' '2022-07-22'\n",
            " '2022-12-23' '2021-04-27' '2021-09-05' '2023-12-09' '2022-11-21'\n",
            " '2021-08-26' '2023-07-26' '2022-03-24' '2022-02-10' '2022-02-23'\n",
            " '2021-08-17']\n",
            "\n"
          ]
        }
      ],
      "source": [
        "category_col = df_sales.select_dtypes(include=['object','category']).columns.tolist()\n",
        "for column in df_sales[category_col]:\n",
        "    print(f'{column} : {df_sales[column].unique()}')\n",
        "    print()"
      ]
    },
    {
      "cell_type": "markdown",
      "metadata": {
        "id": "cpgHfgnSK3ip"
      },
      "source": [
        "# **5. Data Preprocessing**"
      ]
    },
    {
      "cell_type": "markdown",
      "metadata": {
        "id": "COf8KUPXLg5r"
      },
      "source": [
        "Pada tahap ini, data preprocessing adalah langkah penting untuk memastikan kualitas data sebelum digunakan dalam model machine learning. Data mentah sering kali mengandung nilai kosong, duplikasi, atau rentang nilai yang tidak konsisten, yang dapat memengaruhi kinerja model. Oleh karena itu, proses ini bertujuan untuk membersihkan dan mempersiapkan data agar analisis berjalan optimal.\n",
        "\n",
        "Berikut adalah tahapan-tahapan yang bisa dilakukan, tetapi **tidak terbatas** pada:\n",
        "1. Menghapus atau Menangani Data Kosong (Missing Values) (TIDAK ADA)\n",
        "2. Menghapus Data Duplikat (TIDAK ADA)\n",
        "3. Normalisasi atau Standarisasi Fitur\n",
        "4. Deteksi dan Penanganan Outlier\n",
        "5. Encoding Data Kategorikal\n",
        "6. Binning (Pengelompokan Data)\n",
        "\n",
        "Cukup sesuaikan dengan karakteristik data yang kamu gunakan yah."
      ]
    },
    {
      "cell_type": "markdown",
      "metadata": {},
      "source": [
        "### **5.1. Menghapus atau Menangani Data Kosong (Missing Values)**"
      ]
    },
    {
      "cell_type": "code",
      "execution_count": 23,
      "metadata": {},
      "outputs": [
        {
          "name": "stdout",
          "output_type": "stream",
          "text": [
            "Jumlah data kosong per kolom:\n"
          ]
        },
        {
          "data": {
            "text/plain": [
              "Order_ID         0\n",
              "Customer_ID      0\n",
              "Customer_Type    0\n",
              "Product          0\n",
              "Category         0\n",
              "Unit_Price       0\n",
              "Quantity         0\n",
              "Discount         0\n",
              "Total_Price      0\n",
              "Region           0\n",
              "Order_Date       0\n",
              "dtype: int64"
            ]
          },
          "execution_count": 23,
          "metadata": {},
          "output_type": "execute_result"
        }
      ],
      "source": [
        "# Cek data kosong\n",
        "print(\"Jumlah data kosong per kolom:\")\n",
        "df_sales.isnull().sum()"
      ]
    },
    {
      "cell_type": "markdown",
      "metadata": {},
      "source": [
        "### **5.2. Menghapus Data Duplikat**"
      ]
    },
    {
      "cell_type": "code",
      "execution_count": 24,
      "metadata": {},
      "outputs": [
        {
          "name": "stdout",
          "output_type": "stream",
          "text": [
            "Jumlah duplikat: 0\n"
          ]
        }
      ],
      "source": [
        "#  Cek data duplikat\n",
        "print(\"Jumlah duplikat:\", df_sales.duplicated().sum())"
      ]
    },
    {
      "cell_type": "markdown",
      "metadata": {},
      "source": [
        "### **5.3. Normalisasi atau Standarisasi**"
      ]
    },
    {
      "cell_type": "code",
      "execution_count": 25,
      "metadata": {},
      "outputs": [
        {
          "data": {
            "text/html": [
              "<div>\n",
              "<style scoped>\n",
              "    .dataframe tbody tr th:only-of-type {\n",
              "        vertical-align: middle;\n",
              "    }\n",
              "\n",
              "    .dataframe tbody tr th {\n",
              "        vertical-align: top;\n",
              "    }\n",
              "\n",
              "    .dataframe thead th {\n",
              "        text-align: right;\n",
              "    }\n",
              "</style>\n",
              "<table border=\"1\" class=\"dataframe\">\n",
              "  <thead>\n",
              "    <tr style=\"text-align: right;\">\n",
              "      <th></th>\n",
              "      <th>Order_ID</th>\n",
              "      <th>Customer_ID</th>\n",
              "      <th>Customer_Type</th>\n",
              "      <th>Product</th>\n",
              "      <th>Category</th>\n",
              "      <th>Unit_Price</th>\n",
              "      <th>Quantity</th>\n",
              "      <th>Discount</th>\n",
              "      <th>Total_Price</th>\n",
              "      <th>Region</th>\n",
              "      <th>Order_Date</th>\n",
              "    </tr>\n",
              "  </thead>\n",
              "  <tbody>\n",
              "    <tr>\n",
              "      <th>0</th>\n",
              "      <td>ORD697566</td>\n",
              "      <td>CUS6363</td>\n",
              "      <td>B2C</td>\n",
              "      <td>Coca-Cola</td>\n",
              "      <td>Soft Drinks</td>\n",
              "      <td>1.04</td>\n",
              "      <td>7</td>\n",
              "      <td>0.0</td>\n",
              "      <td>7.28</td>\n",
              "      <td>Bremen</td>\n",
              "      <td>2021-02-17</td>\n",
              "    </tr>\n",
              "  </tbody>\n",
              "</table>\n",
              "</div>"
            ],
            "text/plain": [
              "    Order_ID Customer_ID Customer_Type    Product     Category  Unit_Price  \\\n",
              "0  ORD697566     CUS6363           B2C  Coca-Cola  Soft Drinks        1.04   \n",
              "\n",
              "   Quantity  Discount  Total_Price  Region  Order_Date  \n",
              "0         7       0.0         7.28  Bremen  2021-02-17  "
            ]
          },
          "execution_count": 25,
          "metadata": {},
          "output_type": "execute_result"
        }
      ],
      "source": [
        "df_sales.head(1)"
      ]
    },
    {
      "cell_type": "code",
      "execution_count": 26,
      "metadata": {},
      "outputs": [],
      "source": [
        "# Inisialisasi fungsi normalisasi dan standarisasi\n",
        "min_max_scaler = MinMaxScaler() # normalisasi\n",
        "standard_scaler = StandardScaler() # standarisasi\n",
        "scaler_robust = RobustScaler()"
      ]
    },
    {
      "cell_type": "code",
      "execution_count": 27,
      "metadata": {},
      "outputs": [
        {
          "data": {
            "text/html": [
              "<div>\n",
              "<style scoped>\n",
              "    .dataframe tbody tr th:only-of-type {\n",
              "        vertical-align: middle;\n",
              "    }\n",
              "\n",
              "    .dataframe tbody tr th {\n",
              "        vertical-align: top;\n",
              "    }\n",
              "\n",
              "    .dataframe thead th {\n",
              "        text-align: right;\n",
              "    }\n",
              "</style>\n",
              "<table border=\"1\" class=\"dataframe\">\n",
              "  <thead>\n",
              "    <tr style=\"text-align: right;\">\n",
              "      <th></th>\n",
              "      <th>Order_ID</th>\n",
              "      <th>Customer_ID</th>\n",
              "      <th>Customer_Type</th>\n",
              "      <th>Product</th>\n",
              "      <th>Category</th>\n",
              "      <th>Unit_Price</th>\n",
              "      <th>Quantity</th>\n",
              "      <th>Discount</th>\n",
              "      <th>Total_Price</th>\n",
              "      <th>Region</th>\n",
              "      <th>Order_Date</th>\n",
              "    </tr>\n",
              "  </thead>\n",
              "  <tbody>\n",
              "    <tr>\n",
              "      <th>0</th>\n",
              "      <td>ORD697566</td>\n",
              "      <td>CUS6363</td>\n",
              "      <td>B2C</td>\n",
              "      <td>Coca-Cola</td>\n",
              "      <td>Soft Drinks</td>\n",
              "      <td>1.04</td>\n",
              "      <td>0.060606</td>\n",
              "      <td>0.00</td>\n",
              "      <td>7.28</td>\n",
              "      <td>Bremen</td>\n",
              "      <td>2021-02-17</td>\n",
              "    </tr>\n",
              "    <tr>\n",
              "      <th>1</th>\n",
              "      <td>ORD1118443</td>\n",
              "      <td>CUS7797</td>\n",
              "      <td>B2B</td>\n",
              "      <td>Selters</td>\n",
              "      <td>Water</td>\n",
              "      <td>0.71</td>\n",
              "      <td>0.454545</td>\n",
              "      <td>0.10</td>\n",
              "      <td>29.39</td>\n",
              "      <td>Sachsen-Anhalt</td>\n",
              "      <td>2023-04-15</td>\n",
              "    </tr>\n",
              "    <tr>\n",
              "      <th>2</th>\n",
              "      <td>ORD742327</td>\n",
              "      <td>CUS3123</td>\n",
              "      <td>B2B</td>\n",
              "      <td>Fritz-Kola</td>\n",
              "      <td>Soft Drinks</td>\n",
              "      <td>2.90</td>\n",
              "      <td>0.727273</td>\n",
              "      <td>0.05</td>\n",
              "      <td>201.11</td>\n",
              "      <td>Sachsen</td>\n",
              "      <td>2022-06-20</td>\n",
              "    </tr>\n",
              "    <tr>\n",
              "      <th>3</th>\n",
              "      <td>ORD1437128</td>\n",
              "      <td>CUS6393</td>\n",
              "      <td>B2B</td>\n",
              "      <td>Monster</td>\n",
              "      <td>Soft Drinks</td>\n",
              "      <td>2.68</td>\n",
              "      <td>0.292929</td>\n",
              "      <td>0.05</td>\n",
              "      <td>76.38</td>\n",
              "      <td>Schleswig-Holstein</td>\n",
              "      <td>2021-09-07</td>\n",
              "    </tr>\n",
              "    <tr>\n",
              "      <th>4</th>\n",
              "      <td>ORD562794</td>\n",
              "      <td>CUS4090</td>\n",
              "      <td>B2C</td>\n",
              "      <td>San Pellegrino</td>\n",
              "      <td>Water</td>\n",
              "      <td>0.91</td>\n",
              "      <td>0.020202</td>\n",
              "      <td>0.00</td>\n",
              "      <td>2.73</td>\n",
              "      <td>Hessen</td>\n",
              "      <td>2023-04-28</td>\n",
              "    </tr>\n",
              "  </tbody>\n",
              "</table>\n",
              "</div>"
            ],
            "text/plain": [
              "     Order_ID Customer_ID Customer_Type         Product     Category  \\\n",
              "0   ORD697566     CUS6363           B2C       Coca-Cola  Soft Drinks   \n",
              "1  ORD1118443     CUS7797           B2B         Selters        Water   \n",
              "2   ORD742327     CUS3123           B2B      Fritz-Kola  Soft Drinks   \n",
              "3  ORD1437128     CUS6393           B2B         Monster  Soft Drinks   \n",
              "4   ORD562794     CUS4090           B2C  San Pellegrino        Water   \n",
              "\n",
              "   Unit_Price  Quantity  Discount  Total_Price              Region  Order_Date  \n",
              "0        1.04  0.060606      0.00         7.28              Bremen  2021-02-17  \n",
              "1        0.71  0.454545      0.10        29.39      Sachsen-Anhalt  2023-04-15  \n",
              "2        2.90  0.727273      0.05       201.11             Sachsen  2022-06-20  \n",
              "3        2.68  0.292929      0.05        76.38  Schleswig-Holstein  2021-09-07  \n",
              "4        0.91  0.020202      0.00         2.73              Hessen  2023-04-28  "
            ]
          },
          "execution_count": 27,
          "metadata": {},
          "output_type": "execute_result"
        }
      ],
      "source": [
        "# Normalisasi data\n",
        "df_normalized = df_sales.copy()\n",
        "df_normalized[['Quantity']] = min_max_scaler.fit_transform(df_normalized[['Quantity']])\n",
        "df_normalized.head()"
      ]
    },
    {
      "cell_type": "code",
      "execution_count": 28,
      "metadata": {},
      "outputs": [
        {
          "data": {
            "text/html": [
              "<div>\n",
              "<style scoped>\n",
              "    .dataframe tbody tr th:only-of-type {\n",
              "        vertical-align: middle;\n",
              "    }\n",
              "\n",
              "    .dataframe tbody tr th {\n",
              "        vertical-align: top;\n",
              "    }\n",
              "\n",
              "    .dataframe thead th {\n",
              "        text-align: right;\n",
              "    }\n",
              "</style>\n",
              "<table border=\"1\" class=\"dataframe\">\n",
              "  <thead>\n",
              "    <tr style=\"text-align: right;\">\n",
              "      <th></th>\n",
              "      <th>Order_ID</th>\n",
              "      <th>Customer_ID</th>\n",
              "      <th>Customer_Type</th>\n",
              "      <th>Product</th>\n",
              "      <th>Category</th>\n",
              "      <th>Unit_Price</th>\n",
              "      <th>Quantity</th>\n",
              "      <th>Discount</th>\n",
              "      <th>Total_Price</th>\n",
              "      <th>Region</th>\n",
              "      <th>Order_Date</th>\n",
              "    </tr>\n",
              "  </thead>\n",
              "  <tbody>\n",
              "    <tr>\n",
              "      <th>0</th>\n",
              "      <td>ORD697566</td>\n",
              "      <td>CUS6363</td>\n",
              "      <td>B2C</td>\n",
              "      <td>Coca-Cola</td>\n",
              "      <td>Soft Drinks</td>\n",
              "      <td>-0.330879</td>\n",
              "      <td>0.060606</td>\n",
              "      <td>0.00</td>\n",
              "      <td>-0.278208</td>\n",
              "      <td>Bremen</td>\n",
              "      <td>2021-02-17</td>\n",
              "    </tr>\n",
              "    <tr>\n",
              "      <th>1</th>\n",
              "      <td>ORD1118443</td>\n",
              "      <td>CUS7797</td>\n",
              "      <td>B2B</td>\n",
              "      <td>Selters</td>\n",
              "      <td>Water</td>\n",
              "      <td>-0.354141</td>\n",
              "      <td>0.454545</td>\n",
              "      <td>0.10</td>\n",
              "      <td>-0.223536</td>\n",
              "      <td>Sachsen-Anhalt</td>\n",
              "      <td>2023-04-15</td>\n",
              "    </tr>\n",
              "    <tr>\n",
              "      <th>2</th>\n",
              "      <td>ORD742327</td>\n",
              "      <td>CUS3123</td>\n",
              "      <td>B2B</td>\n",
              "      <td>Fritz-Kola</td>\n",
              "      <td>Soft Drinks</td>\n",
              "      <td>-0.199763</td>\n",
              "      <td>0.727273</td>\n",
              "      <td>0.05</td>\n",
              "      <td>0.201079</td>\n",
              "      <td>Sachsen</td>\n",
              "      <td>2022-06-20</td>\n",
              "    </tr>\n",
              "    <tr>\n",
              "      <th>3</th>\n",
              "      <td>ORD1437128</td>\n",
              "      <td>CUS6393</td>\n",
              "      <td>B2B</td>\n",
              "      <td>Monster</td>\n",
              "      <td>Soft Drinks</td>\n",
              "      <td>-0.215271</td>\n",
              "      <td>0.292929</td>\n",
              "      <td>0.05</td>\n",
              "      <td>-0.107343</td>\n",
              "      <td>Schleswig-Holstein</td>\n",
              "      <td>2021-09-07</td>\n",
              "    </tr>\n",
              "    <tr>\n",
              "      <th>4</th>\n",
              "      <td>ORD562794</td>\n",
              "      <td>CUS4090</td>\n",
              "      <td>B2C</td>\n",
              "      <td>San Pellegrino</td>\n",
              "      <td>Water</td>\n",
              "      <td>-0.340043</td>\n",
              "      <td>0.020202</td>\n",
              "      <td>0.00</td>\n",
              "      <td>-0.289459</td>\n",
              "      <td>Hessen</td>\n",
              "      <td>2023-04-28</td>\n",
              "    </tr>\n",
              "  </tbody>\n",
              "</table>\n",
              "</div>"
            ],
            "text/plain": [
              "     Order_ID Customer_ID Customer_Type         Product     Category  \\\n",
              "0   ORD697566     CUS6363           B2C       Coca-Cola  Soft Drinks   \n",
              "1  ORD1118443     CUS7797           B2B         Selters        Water   \n",
              "2   ORD742327     CUS3123           B2B      Fritz-Kola  Soft Drinks   \n",
              "3  ORD1437128     CUS6393           B2B         Monster  Soft Drinks   \n",
              "4   ORD562794     CUS4090           B2C  San Pellegrino        Water   \n",
              "\n",
              "   Unit_Price  Quantity  Discount  Total_Price              Region  Order_Date  \n",
              "0   -0.330879  0.060606      0.00    -0.278208              Bremen  2021-02-17  \n",
              "1   -0.354141  0.454545      0.10    -0.223536      Sachsen-Anhalt  2023-04-15  \n",
              "2   -0.199763  0.727273      0.05     0.201079             Sachsen  2022-06-20  \n",
              "3   -0.215271  0.292929      0.05    -0.107343  Schleswig-Holstein  2021-09-07  \n",
              "4   -0.340043  0.020202      0.00    -0.289459              Hessen  2023-04-28  "
            ]
          },
          "execution_count": 28,
          "metadata": {},
          "output_type": "execute_result"
        }
      ],
      "source": [
        "# Standarisasi data\n",
        "df_standardized = df_normalized.copy()\n",
        "df_standardized[['Total_Price', 'Unit_Price']] = standard_scaler.fit_transform(df_standardized[['Total_Price', 'Unit_Price']])\n",
        "df_standardized.head()"
      ]
    },
    {
      "cell_type": "markdown",
      "metadata": {},
      "source": [
        "### **5.4. Deteksi dan Penanganan Outlier**"
      ]
    },
    {
      "cell_type": "code",
      "execution_count": 29,
      "metadata": {},
      "outputs": [],
      "source": [
        "# Ambil nama kolom data numerik dari DataFrame\n",
        "numeric_columns = df_standardized.select_dtypes(include=['number']).columns"
      ]
    },
    {
      "cell_type": "code",
      "execution_count": 30,
      "metadata": {},
      "outputs": [],
      "source": [
        "# Menghitung Q1, Q3, dan IQR hanya untuk kolom numerik\n",
        "Q1 = df_standardized[numeric_columns].quantile(0.25)\n",
        "Q3 = df_standardized[numeric_columns].quantile(0.75)\n",
        "IQR = Q3 - Q1\n",
        "\n",
        "# Menentukan batas bawah dan atas\n",
        "lower_bound = Q1 - 1.5 * IQR\n",
        "upper_bound = Q3 + 1.5 * IQR"
      ]
    },
    {
      "cell_type": "code",
      "execution_count": 48,
      "metadata": {},
      "outputs": [
        {
          "data": {
            "image/png": "[encoded data removed]",
            "text/plain": [
              "<Figure size 1000x1000 with 4 Axes>"
            ]
          },
          "metadata": {},
          "output_type": "display_data"
        },
        {
          "name": "stdout",
          "output_type": "stream",
          "text": [
            "Jumlah data sebelum menghapus outlier: 2000\n"
          ]
        }
      ],
      "source": [
        "# Menampilkan boxplot sebelum menghapus outlier\n",
        "fig, axes = plt.subplots(2, 2, figsize=(10, 10))\n",
        "for i, col in enumerate(numeric_columns):\n",
        "    sns.boxplot(x=df_standardized[col], ax=axes[i//2, i%2])\n",
        "plt.suptitle(\"Boxplots of Numerical Data (before)\")\n",
        "plt.tight_layout()\n",
        "plt.show()\n",
        "\n",
        "print(\"Jumlah data sebelum menghapus outlier:\", df_standardized.shape[0])\n",
        "     "
      ]
    },
    {
      "cell_type": "code",
      "execution_count": 49,
      "metadata": {},
      "outputs": [
        {
          "data": {
            "image/png": "[encoded data removed]",
            "text/plain": [
              "<Figure size 1000x1000 with 4 Axes>"
            ]
          },
          "metadata": {},
          "output_type": "display_data"
        },
        {
          "name": "stdout",
          "output_type": "stream",
          "text": [
            "Jumlah data setelah menghapus outlier: 1515\n"
          ]
        }
      ],
      "source": [
        "# Menghapus outlier pada kolom numerik\n",
        "mask = ~((df_standardized[numeric_columns] < lower_bound) | (df_standardized[numeric_columns] > upper_bound)).any(axis=1)\n",
        "df_cleaned = df_standardized[mask]\n",
        "\n",
        "# Menampilkan boxplot sebelum menghapus outlier\n",
        "fig, axes = plt.subplots(2, 2, figsize=(10, 10))\n",
        "for i, col in enumerate(numeric_columns):\n",
        "    sns.boxplot(x=df_cleaned[col], ax=axes[i//2, i%2])\n",
        "plt.suptitle(\"Boxplots of Numerical Data (after)\")\n",
        "plt.tight_layout()\n",
        "plt.show()\n",
        "\n",
        "print(\"Jumlah data setelah menghapus outlier:\", df_cleaned.shape[0])"
      ]
    },
    {
      "cell_type": "code",
      "execution_count": 33,
      "metadata": {},
      "outputs": [
        {
          "data": {
            "text/html": [
              "<div>\n",
              "<style scoped>\n",
              "    .dataframe tbody tr th:only-of-type {\n",
              "        vertical-align: middle;\n",
              "    }\n",
              "\n",
              "    .dataframe tbody tr th {\n",
              "        vertical-align: top;\n",
              "    }\n",
              "\n",
              "    .dataframe thead th {\n",
              "        text-align: right;\n",
              "    }\n",
              "</style>\n",
              "<table border=\"1\" class=\"dataframe\">\n",
              "  <thead>\n",
              "    <tr style=\"text-align: right;\">\n",
              "      <th></th>\n",
              "      <th>Order_ID</th>\n",
              "      <th>Customer_ID</th>\n",
              "      <th>Customer_Type</th>\n",
              "      <th>Product</th>\n",
              "      <th>Category</th>\n",
              "      <th>Unit_Price</th>\n",
              "      <th>Quantity</th>\n",
              "      <th>Discount</th>\n",
              "      <th>Total_Price</th>\n",
              "      <th>Region</th>\n",
              "      <th>Order_Date</th>\n",
              "    </tr>\n",
              "  </thead>\n",
              "  <tbody>\n",
              "    <tr>\n",
              "      <th>0</th>\n",
              "      <td>ORD697566</td>\n",
              "      <td>CUS6363</td>\n",
              "      <td>B2C</td>\n",
              "      <td>Coca-Cola</td>\n",
              "      <td>Soft Drinks</td>\n",
              "      <td>-0.330879</td>\n",
              "      <td>0.060606</td>\n",
              "      <td>0.00</td>\n",
              "      <td>-0.278208</td>\n",
              "      <td>Bremen</td>\n",
              "      <td>2021-02-17</td>\n",
              "    </tr>\n",
              "    <tr>\n",
              "      <th>1</th>\n",
              "      <td>ORD1118443</td>\n",
              "      <td>CUS7797</td>\n",
              "      <td>B2B</td>\n",
              "      <td>Selters</td>\n",
              "      <td>Water</td>\n",
              "      <td>-0.354141</td>\n",
              "      <td>0.454545</td>\n",
              "      <td>0.10</td>\n",
              "      <td>-0.223536</td>\n",
              "      <td>Sachsen-Anhalt</td>\n",
              "      <td>2023-04-15</td>\n",
              "    </tr>\n",
              "    <tr>\n",
              "      <th>3</th>\n",
              "      <td>ORD1437128</td>\n",
              "      <td>CUS6393</td>\n",
              "      <td>B2B</td>\n",
              "      <td>Monster</td>\n",
              "      <td>Soft Drinks</td>\n",
              "      <td>-0.215271</td>\n",
              "      <td>0.292929</td>\n",
              "      <td>0.05</td>\n",
              "      <td>-0.107343</td>\n",
              "      <td>Schleswig-Holstein</td>\n",
              "      <td>2021-09-07</td>\n",
              "    </tr>\n",
              "    <tr>\n",
              "      <th>4</th>\n",
              "      <td>ORD562794</td>\n",
              "      <td>CUS4090</td>\n",
              "      <td>B2C</td>\n",
              "      <td>San Pellegrino</td>\n",
              "      <td>Water</td>\n",
              "      <td>-0.340043</td>\n",
              "      <td>0.020202</td>\n",
              "      <td>0.00</td>\n",
              "      <td>-0.289459</td>\n",
              "      <td>Hessen</td>\n",
              "      <td>2023-04-28</td>\n",
              "    </tr>\n",
              "    <tr>\n",
              "      <th>5</th>\n",
              "      <td>ORD2320519</td>\n",
              "      <td>CUS5936</td>\n",
              "      <td>B2C</td>\n",
              "      <td>Beck's</td>\n",
              "      <td>Alcoholic Beverages</td>\n",
              "      <td>-0.304797</td>\n",
              "      <td>0.030303</td>\n",
              "      <td>0.00</td>\n",
              "      <td>-0.282263</td>\n",
              "      <td>Bremen</td>\n",
              "      <td>2023-11-01</td>\n",
              "    </tr>\n",
              "  </tbody>\n",
              "</table>\n",
              "</div>"
            ],
            "text/plain": [
              "     Order_ID Customer_ID Customer_Type         Product             Category  \\\n",
              "0   ORD697566     CUS6363           B2C       Coca-Cola          Soft Drinks   \n",
              "1  ORD1118443     CUS7797           B2B         Selters                Water   \n",
              "3  ORD1437128     CUS6393           B2B         Monster          Soft Drinks   \n",
              "4   ORD562794     CUS4090           B2C  San Pellegrino                Water   \n",
              "5  ORD2320519     CUS5936           B2C          Beck's  Alcoholic Beverages   \n",
              "\n",
              "   Unit_Price  Quantity  Discount  Total_Price              Region  Order_Date  \n",
              "0   -0.330879  0.060606      0.00    -0.278208              Bremen  2021-02-17  \n",
              "1   -0.354141  0.454545      0.10    -0.223536      Sachsen-Anhalt  2023-04-15  \n",
              "3   -0.215271  0.292929      0.05    -0.107343  Schleswig-Holstein  2021-09-07  \n",
              "4   -0.340043  0.020202      0.00    -0.289459              Hessen  2023-04-28  \n",
              "5   -0.304797  0.030303      0.00    -0.282263              Bremen  2023-11-01  "
            ]
          },
          "execution_count": 33,
          "metadata": {},
          "output_type": "execute_result"
        }
      ],
      "source": [
        "df_cleaned.head()"
      ]
    },
    {
      "cell_type": "markdown",
      "metadata": {},
      "source": [
        "### **5.5. Encoding Data Kategorikal**"
      ]
    },
    {
      "cell_type": "code",
      "execution_count": 50,
      "metadata": {
        "id": "WzBGjcbQM7N8"
      },
      "outputs": [
        {
          "data": {
            "text/html": [
              "<div>\n",
              "<style scoped>\n",
              "    .dataframe tbody tr th:only-of-type {\n",
              "        vertical-align: middle;\n",
              "    }\n",
              "\n",
              "    .dataframe tbody tr th {\n",
              "        vertical-align: top;\n",
              "    }\n",
              "\n",
              "    .dataframe thead th {\n",
              "        text-align: right;\n",
              "    }\n",
              "</style>\n",
              "<table border=\"1\" class=\"dataframe\">\n",
              "  <thead>\n",
              "    <tr style=\"text-align: right;\">\n",
              "      <th></th>\n",
              "      <th>Order_ID</th>\n",
              "      <th>Customer_ID</th>\n",
              "      <th>Customer_Type</th>\n",
              "      <th>Product</th>\n",
              "      <th>Unit_Price</th>\n",
              "      <th>Quantity</th>\n",
              "      <th>Discount</th>\n",
              "      <th>Total_Price</th>\n",
              "      <th>Region</th>\n",
              "      <th>Order_Date</th>\n",
              "      <th>Category_Alcoholic Beverages</th>\n",
              "      <th>Category_Juices</th>\n",
              "      <th>Category_Soft Drinks</th>\n",
              "      <th>Category_Water</th>\n",
              "    </tr>\n",
              "  </thead>\n",
              "  <tbody>\n",
              "    <tr>\n",
              "      <th>0</th>\n",
              "      <td>ORD697566</td>\n",
              "      <td>CUS6363</td>\n",
              "      <td>2</td>\n",
              "      <td>5</td>\n",
              "      <td>-0.330879</td>\n",
              "      <td>0.060606</td>\n",
              "      <td>0.00</td>\n",
              "      <td>-0.278208</td>\n",
              "      <td>4</td>\n",
              "      <td>2021-02-17</td>\n",
              "      <td>False</td>\n",
              "      <td>False</td>\n",
              "      <td>True</td>\n",
              "      <td>False</td>\n",
              "    </tr>\n",
              "    <tr>\n",
              "      <th>1</th>\n",
              "      <td>ORD1118443</td>\n",
              "      <td>CUS7797</td>\n",
              "      <td>3</td>\n",
              "      <td>31</td>\n",
              "      <td>-0.354141</td>\n",
              "      <td>0.454545</td>\n",
              "      <td>0.10</td>\n",
              "      <td>-0.223536</td>\n",
              "      <td>13</td>\n",
              "      <td>2023-04-15</td>\n",
              "      <td>False</td>\n",
              "      <td>False</td>\n",
              "      <td>False</td>\n",
              "      <td>True</td>\n",
              "    </tr>\n",
              "    <tr>\n",
              "      <th>3</th>\n",
              "      <td>ORD1437128</td>\n",
              "      <td>CUS6393</td>\n",
              "      <td>2</td>\n",
              "      <td>20</td>\n",
              "      <td>-0.215271</td>\n",
              "      <td>0.292929</td>\n",
              "      <td>0.05</td>\n",
              "      <td>-0.107343</td>\n",
              "      <td>14</td>\n",
              "      <td>2021-09-07</td>\n",
              "      <td>False</td>\n",
              "      <td>False</td>\n",
              "      <td>True</td>\n",
              "      <td>False</td>\n",
              "    </tr>\n",
              "    <tr>\n",
              "      <th>4</th>\n",
              "      <td>ORD562794</td>\n",
              "      <td>CUS4090</td>\n",
              "      <td>3</td>\n",
              "      <td>28</td>\n",
              "      <td>-0.340043</td>\n",
              "      <td>0.020202</td>\n",
              "      <td>0.00</td>\n",
              "      <td>-0.289459</td>\n",
              "      <td>6</td>\n",
              "      <td>2023-04-28</td>\n",
              "      <td>False</td>\n",
              "      <td>False</td>\n",
              "      <td>False</td>\n",
              "      <td>True</td>\n",
              "    </tr>\n",
              "    <tr>\n",
              "      <th>5</th>\n",
              "      <td>ORD2320519</td>\n",
              "      <td>CUS5936</td>\n",
              "      <td>0</td>\n",
              "      <td>2</td>\n",
              "      <td>-0.304797</td>\n",
              "      <td>0.030303</td>\n",
              "      <td>0.00</td>\n",
              "      <td>-0.282263</td>\n",
              "      <td>4</td>\n",
              "      <td>2023-11-01</td>\n",
              "      <td>True</td>\n",
              "      <td>False</td>\n",
              "      <td>False</td>\n",
              "      <td>False</td>\n",
              "    </tr>\n",
              "  </tbody>\n",
              "</table>\n",
              "</div>"
            ],
            "text/plain": [
              "     Order_ID Customer_ID  Customer_Type  Product  Unit_Price  Quantity  \\\n",
              "0   ORD697566     CUS6363              2        5   -0.330879  0.060606   \n",
              "1  ORD1118443     CUS7797              3       31   -0.354141  0.454545   \n",
              "3  ORD1437128     CUS6393              2       20   -0.215271  0.292929   \n",
              "4   ORD562794     CUS4090              3       28   -0.340043  0.020202   \n",
              "5  ORD2320519     CUS5936              0        2   -0.304797  0.030303   \n",
              "\n",
              "   Discount  Total_Price  Region  Order_Date  Category_Alcoholic Beverages  \\\n",
              "0      0.00    -0.278208       4  2021-02-17                         False   \n",
              "1      0.10    -0.223536      13  2023-04-15                         False   \n",
              "3      0.05    -0.107343      14  2021-09-07                         False   \n",
              "4      0.00    -0.289459       6  2023-04-28                         False   \n",
              "5      0.00    -0.282263       4  2023-11-01                          True   \n",
              "\n",
              "   Category_Juices  Category_Soft Drinks  Category_Water  \n",
              "0            False                  True           False  \n",
              "1            False                 False            True  \n",
              "3            False                  True           False  \n",
              "4            False                 False            True  \n",
              "5            False                 False           False  "
            ]
          },
          "execution_count": 50,
          "metadata": {},
          "output_type": "execute_result"
        }
      ],
      "source": [
        "# Inisialisasi label encoder\n",
        "label_encoder = LabelEncoder()\n",
        "\n",
        "df_labeled = df_cleaned.copy()\n",
        "\n",
        "# Label encoding\n",
        "df_labeled[['Customer_Type', 'Region', 'Product']] = df_cleaned[['Category', 'Region', 'Product']].apply(label_encoder.fit_transform)\n",
        "\n",
        "# one-hot encoding\n",
        "df_encoded = pd.get_dummies(df_labeled, columns=['Category'])\n",
        "df_encoded.head()"
      ]
    },
    {
      "cell_type": "markdown",
      "metadata": {
        "id": "BR73dCnrLEiq"
      },
      "source": [
        "# **6. Pembangunan Model Clustering**"
      ]
    },
    {
      "cell_type": "markdown",
      "metadata": {
        "id": "Fkd_QHXWMBDr"
      },
      "source": [
        "## **a. Pembangunan Model Clustering**"
      ]
    },
    {
      "cell_type": "markdown",
      "metadata": {
        "id": "Kn6Y2qbqMVLP"
      },
      "source": [
        "Pada tahap ini, kita akan membangun model clustering dengan memilih algoritma yang sesuai untuk mengelompokkan data berdasarkan kesamaan. Algoritma clustering yang sering digunakan sebagai berikut.\n",
        "- `K-Means`: Cocok untuk dataset dengan batas klaster yang jelas dan ukuran klaster seragam.\n",
        "- `DBSCAN`: Cocok untuk dataset dengan outlier atau klaster dengan bentuk yang tidak beraturan.\n",
        "- `Hierarchical Clustering`: Berguna untuk memahami struktur hierarki antar data.\n",
        "\n",
        "Disini, kita akan memulai dengan `K-Means` karena cocok untuk dataset transaksi yang memiliki pola berbasis jumlah transaksi dan durasi transaksi."
      ]
    },
    {
      "cell_type": "code",
      "execution_count": 52,
      "metadata": {},
      "outputs": [
        {
          "data": {
            "text/html": [
              "<div>\n",
              "<style scoped>\n",
              "    .dataframe tbody tr th:only-of-type {\n",
              "        vertical-align: middle;\n",
              "    }\n",
              "\n",
              "    .dataframe tbody tr th {\n",
              "        vertical-align: top;\n",
              "    }\n",
              "\n",
              "    .dataframe thead th {\n",
              "        text-align: right;\n",
              "    }\n",
              "</style>\n",
              "<table border=\"1\" class=\"dataframe\">\n",
              "  <thead>\n",
              "    <tr style=\"text-align: right;\">\n",
              "      <th></th>\n",
              "      <th>Unit_Price</th>\n",
              "      <th>Quantity</th>\n",
              "      <th>Discount</th>\n",
              "      <th>Total_Price</th>\n",
              "      <th>Category_Alcoholic Beverages</th>\n",
              "      <th>Category_Juices</th>\n",
              "      <th>Category_Soft Drinks</th>\n",
              "      <th>Category_Water</th>\n",
              "    </tr>\n",
              "  </thead>\n",
              "  <tbody>\n",
              "    <tr>\n",
              "      <th>0</th>\n",
              "      <td>-0.330879</td>\n",
              "      <td>0.060606</td>\n",
              "      <td>0.00</td>\n",
              "      <td>-0.278208</td>\n",
              "      <td>False</td>\n",
              "      <td>False</td>\n",
              "      <td>True</td>\n",
              "      <td>False</td>\n",
              "    </tr>\n",
              "    <tr>\n",
              "      <th>1</th>\n",
              "      <td>-0.354141</td>\n",
              "      <td>0.454545</td>\n",
              "      <td>0.10</td>\n",
              "      <td>-0.223536</td>\n",
              "      <td>False</td>\n",
              "      <td>False</td>\n",
              "      <td>False</td>\n",
              "      <td>True</td>\n",
              "    </tr>\n",
              "    <tr>\n",
              "      <th>3</th>\n",
              "      <td>-0.215271</td>\n",
              "      <td>0.292929</td>\n",
              "      <td>0.05</td>\n",
              "      <td>-0.107343</td>\n",
              "      <td>False</td>\n",
              "      <td>False</td>\n",
              "      <td>True</td>\n",
              "      <td>False</td>\n",
              "    </tr>\n",
              "    <tr>\n",
              "      <th>4</th>\n",
              "      <td>-0.340043</td>\n",
              "      <td>0.020202</td>\n",
              "      <td>0.00</td>\n",
              "      <td>-0.289459</td>\n",
              "      <td>False</td>\n",
              "      <td>False</td>\n",
              "      <td>False</td>\n",
              "      <td>True</td>\n",
              "    </tr>\n",
              "    <tr>\n",
              "      <th>5</th>\n",
              "      <td>-0.304797</td>\n",
              "      <td>0.030303</td>\n",
              "      <td>0.00</td>\n",
              "      <td>-0.282263</td>\n",
              "      <td>True</td>\n",
              "      <td>False</td>\n",
              "      <td>False</td>\n",
              "      <td>False</td>\n",
              "    </tr>\n",
              "    <tr>\n",
              "      <th>...</th>\n",
              "      <td>...</td>\n",
              "      <td>...</td>\n",
              "      <td>...</td>\n",
              "      <td>...</td>\n",
              "      <td>...</td>\n",
              "      <td>...</td>\n",
              "      <td>...</td>\n",
              "      <td>...</td>\n",
              "    </tr>\n",
              "    <tr>\n",
              "      <th>1990</th>\n",
              "      <td>-0.330174</td>\n",
              "      <td>0.080808</td>\n",
              "      <td>0.00</td>\n",
              "      <td>-0.272842</td>\n",
              "      <td>True</td>\n",
              "      <td>False</td>\n",
              "      <td>False</td>\n",
              "      <td>False</td>\n",
              "    </tr>\n",
              "    <tr>\n",
              "      <th>1992</th>\n",
              "      <td>-0.371060</td>\n",
              "      <td>0.070707</td>\n",
              "      <td>0.00</td>\n",
              "      <td>-0.286912</td>\n",
              "      <td>False</td>\n",
              "      <td>False</td>\n",
              "      <td>False</td>\n",
              "      <td>True</td>\n",
              "    </tr>\n",
              "    <tr>\n",
              "      <th>1994</th>\n",
              "      <td>-0.299157</td>\n",
              "      <td>0.020202</td>\n",
              "      <td>0.00</td>\n",
              "      <td>-0.285156</td>\n",
              "      <td>False</td>\n",
              "      <td>False</td>\n",
              "      <td>True</td>\n",
              "      <td>False</td>\n",
              "    </tr>\n",
              "    <tr>\n",
              "      <th>1996</th>\n",
              "      <td>-0.170861</td>\n",
              "      <td>0.111111</td>\n",
              "      <td>0.00</td>\n",
              "      <td>-0.197993</td>\n",
              "      <td>False</td>\n",
              "      <td>True</td>\n",
              "      <td>False</td>\n",
              "      <td>False</td>\n",
              "    </tr>\n",
              "    <tr>\n",
              "      <th>1998</th>\n",
              "      <td>-0.236419</td>\n",
              "      <td>0.030303</td>\n",
              "      <td>0.00</td>\n",
              "      <td>-0.272669</td>\n",
              "      <td>False</td>\n",
              "      <td>True</td>\n",
              "      <td>False</td>\n",
              "      <td>False</td>\n",
              "    </tr>\n",
              "  </tbody>\n",
              "</table>\n",
              "<p>1515 rows × 8 columns</p>\n",
              "</div>"
            ],
            "text/plain": [
              "      Unit_Price  Quantity  Discount  Total_Price  \\\n",
              "0      -0.330879  0.060606      0.00    -0.278208   \n",
              "1      -0.354141  0.454545      0.10    -0.223536   \n",
              "3      -0.215271  0.292929      0.05    -0.107343   \n",
              "4      -0.340043  0.020202      0.00    -0.289459   \n",
              "5      -0.304797  0.030303      0.00    -0.282263   \n",
              "...          ...       ...       ...          ...   \n",
              "1990   -0.330174  0.080808      0.00    -0.272842   \n",
              "1992   -0.371060  0.070707      0.00    -0.286912   \n",
              "1994   -0.299157  0.020202      0.00    -0.285156   \n",
              "1996   -0.170861  0.111111      0.00    -0.197993   \n",
              "1998   -0.236419  0.030303      0.00    -0.272669   \n",
              "\n",
              "      Category_Alcoholic Beverages  Category_Juices  Category_Soft Drinks  \\\n",
              "0                            False            False                  True   \n",
              "1                            False            False                 False   \n",
              "3                            False            False                  True   \n",
              "4                            False            False                 False   \n",
              "5                             True            False                 False   \n",
              "...                            ...              ...                   ...   \n",
              "1990                          True            False                 False   \n",
              "1992                         False            False                 False   \n",
              "1994                         False            False                  True   \n",
              "1996                         False             True                 False   \n",
              "1998                         False             True                 False   \n",
              "\n",
              "      Category_Water  \n",
              "0              False  \n",
              "1               True  \n",
              "3              False  \n",
              "4               True  \n",
              "5              False  \n",
              "...              ...  \n",
              "1990           False  \n",
              "1992            True  \n",
              "1994           False  \n",
              "1996           False  \n",
              "1998           False  \n",
              "\n",
              "[1515 rows x 8 columns]"
            ]
          },
          "execution_count": 52,
          "metadata": {},
          "output_type": "execute_result"
        }
      ],
      "source": [
        "# Tentukan fitur\n",
        "features = ['Unit_Price', 'Quantity', 'Discount', 'Total_Price', 'Category_Alcoholic Beverages', 'Category_Juices', 'Category_Soft Drinks', 'Category_Water']\n",
        "X = df_encoded[features]\n",
        "X"
      ]
    },
    {
      "cell_type": "code",
      "execution_count": 53,
      "metadata": {},
      "outputs": [
        {
          "name": "stderr",
          "output_type": "stream",
          "text": [
            "d:\\Program_Files\\Anaconda\\envs\\datascience\\Lib\\site-packages\\sklearn\\cluster\\_kmeans.py:1412: FutureWarning: The default value of `n_init` will change from 10 to 'auto' in 1.4. Set the value of `n_init` explicitly to suppress the warning\n",
            "  super()._check_params_vs_input(X, default_n_init=10)\n",
            "d:\\Program_Files\\Anaconda\\envs\\datascience\\Lib\\site-packages\\sklearn\\cluster\\_kmeans.py:1412: FutureWarning: The default value of `n_init` will change from 10 to 'auto' in 1.4. Set the value of `n_init` explicitly to suppress the warning\n",
            "  super()._check_params_vs_input(X, default_n_init=10)\n",
            "d:\\Program_Files\\Anaconda\\envs\\datascience\\Lib\\site-packages\\sklearn\\cluster\\_kmeans.py:1412: FutureWarning: The default value of `n_init` will change from 10 to 'auto' in 1.4. Set the value of `n_init` explicitly to suppress the warning\n",
            "  super()._check_params_vs_input(X, default_n_init=10)\n",
            "d:\\Program_Files\\Anaconda\\envs\\datascience\\Lib\\site-packages\\sklearn\\cluster\\_kmeans.py:1412: FutureWarning: The default value of `n_init` will change from 10 to 'auto' in 1.4. Set the value of `n_init` explicitly to suppress the warning\n",
            "  super()._check_params_vs_input(X, default_n_init=10)\n",
            "d:\\Program_Files\\Anaconda\\envs\\datascience\\Lib\\site-packages\\sklearn\\cluster\\_kmeans.py:1412: FutureWarning: The default value of `n_init` will change from 10 to 'auto' in 1.4. Set the value of `n_init` explicitly to suppress the warning\n",
            "  super()._check_params_vs_input(X, default_n_init=10)\n",
            "d:\\Program_Files\\Anaconda\\envs\\datascience\\Lib\\site-packages\\sklearn\\cluster\\_kmeans.py:1412: FutureWarning: The default value of `n_init` will change from 10 to 'auto' in 1.4. Set the value of `n_init` explicitly to suppress the warning\n",
            "  super()._check_params_vs_input(X, default_n_init=10)\n",
            "d:\\Program_Files\\Anaconda\\envs\\datascience\\Lib\\site-packages\\sklearn\\cluster\\_kmeans.py:1412: FutureWarning: The default value of `n_init` will change from 10 to 'auto' in 1.4. Set the value of `n_init` explicitly to suppress the warning\n",
            "  super()._check_params_vs_input(X, default_n_init=10)\n",
            "d:\\Program_Files\\Anaconda\\envs\\datascience\\Lib\\site-packages\\sklearn\\cluster\\_kmeans.py:1412: FutureWarning: The default value of `n_init` will change from 10 to 'auto' in 1.4. Set the value of `n_init` explicitly to suppress the warning\n",
            "  super()._check_params_vs_input(X, default_n_init=10)\n",
            "d:\\Program_Files\\Anaconda\\envs\\datascience\\Lib\\site-packages\\sklearn\\cluster\\_kmeans.py:1412: FutureWarning: The default value of `n_init` will change from 10 to 'auto' in 1.4. Set the value of `n_init` explicitly to suppress the warning\n",
            "  super()._check_params_vs_input(X, default_n_init=10)\n"
          ]
        },
        {
          "data": {
            "image/png": "[encoded data removed]",
            "text/plain": [
              "<Figure size 800x550 with 2 Axes>"
            ]
          },
          "metadata": {},
          "output_type": "display_data"
        },
        {
          "data": {
            "text/plain": [
              "<Axes: title={'center': 'Distortion Score Elbow for KMeans Clustering'}, xlabel='k', ylabel='distortion score'>"
            ]
          },
          "execution_count": 53,
          "metadata": {},
          "output_type": "execute_result"
        }
      ],
      "source": [
        "# Inisialisasi model KMeans tanpa parameter awal\n",
        "kmeans = KMeans()\n",
        "\n",
        "# Inisialisasi visualizer KElbow untuk menentukan jumlah cluster optimal\n",
        "visualizer = KElbowVisualizer(kmeans, k=(2, 11))\n",
        "\n",
        "# Fit visualizer dengan data untuk menemukan jumlah cluster optimal\n",
        "visualizer.fit(X)\n",
        "\n",
        "# Menampilkan grafik elbow untuk analisis\n",
        "visualizer.show()"
      ]
    },
    {
      "cell_type": "code",
      "execution_count": 54,
      "metadata": {},
      "outputs": [],
      "source": [
        "# Kurangi dimensi data menjadi 2 dengan PCA agar mudah untuk memvisualisasi\n",
        "pca = PCA(n_components=2)\n",
        "X_pca = pca.fit_transform(X)"
      ]
    },
    {
      "cell_type": "code",
      "execution_count": 55,
      "metadata": {},
      "outputs": [
        {
          "name": "stdout",
          "output_type": "stream",
          "text": [
            "(1515, 2)\n"
          ]
        }
      ],
      "source": [
        "print(X_pca.shape)"
      ]
    },
    {
      "cell_type": "code",
      "execution_count": 56,
      "metadata": {},
      "outputs": [
        {
          "name": "stderr",
          "output_type": "stream",
          "text": [
            "d:\\Program_Files\\Anaconda\\envs\\datascience\\Lib\\site-packages\\sklearn\\cluster\\_kmeans.py:1412: FutureWarning: The default value of `n_init` will change from 10 to 'auto' in 1.4. Set the value of `n_init` explicitly to suppress the warning\n",
            "  super()._check_params_vs_input(X, default_n_init=10)\n"
          ]
        },
        {
          "data": {
            "text/html": [
              "<style>#sk-container-id-2 {color: black;}#sk-container-id-2 pre{padding: 0;}#sk-container-id-2 div.sk-toggleable {background-color: white;}#sk-container-id-2 label.sk-toggleable__label {cursor: pointer;display: block;width: 100%;margin-bottom: 0;padding: 0.3em;box-sizing: border-box;text-align: center;}#sk-container-id-2 label.sk-toggleable__label-arrow:before {content: \"▸\";float: left;margin-right: 0.25em;color: #696969;}#sk-container-id-2 label.sk-toggleable__label-arrow:hover:before {color: black;}#sk-container-id-2 div.sk-estimator:hover label.sk-toggleable__label-arrow:before {color: black;}#sk-container-id-2 div.sk-toggleable__content {max-height: 0;max-width: 0;overflow: hidden;text-align: left;background-color: #f0f8ff;}#sk-container-id-2 div.sk-toggleable__content pre {margin: 0.2em;color: black;border-radius: 0.25em;background-color: #f0f8ff;}#sk-container-id-2 input.sk-toggleable__control:checked~div.sk-toggleable__content {max-height: 200px;max-width: 100%;overflow: auto;}#sk-container-id-2 input.sk-toggleable__control:checked~label.sk-toggleable__label-arrow:before {content: \"▾\";}#sk-container-id-2 div.sk-estimator input.sk-toggleable__control:checked~label.sk-toggleable__label {background-color: #d4ebff;}#sk-container-id-2 div.sk-label input.sk-toggleable__control:checked~label.sk-toggleable__label {background-color: #d4ebff;}#sk-container-id-2 input.sk-hidden--visually {border: 0;clip: rect(1px 1px 1px 1px);clip: rect(1px, 1px, 1px, 1px);height: 1px;margin: -1px;overflow: hidden;padding: 0;position: absolute;width: 1px;}#sk-container-id-2 div.sk-estimator {font-family: monospace;background-color: #f0f8ff;border: 1px dotted black;border-radius: 0.25em;box-sizing: border-box;margin-bottom: 0.5em;}#sk-container-id-2 div.sk-estimator:hover {background-color: #d4ebff;}#sk-container-id-2 div.sk-parallel-item::after {content: \"\";width: 100%;border-bottom: 1px solid gray;flex-grow: 1;}#sk-container-id-2 div.sk-label:hover label.sk-toggleable__label {background-color: #d4ebff;}#sk-container-id-2 div.sk-serial::before {content: \"\";position: absolute;border-left: 1px solid gray;box-sizing: border-box;top: 0;bottom: 0;left: 50%;z-index: 0;}#sk-container-id-2 div.sk-serial {display: flex;flex-direction: column;align-items: center;background-color: white;padding-right: 0.2em;padding-left: 0.2em;position: relative;}#sk-container-id-2 div.sk-item {position: relative;z-index: 1;}#sk-container-id-2 div.sk-parallel {display: flex;align-items: stretch;justify-content: center;background-color: white;position: relative;}#sk-container-id-2 div.sk-item::before, #sk-container-id-2 div.sk-parallel-item::before {content: \"\";position: absolute;border-left: 1px solid gray;box-sizing: border-box;top: 0;bottom: 0;left: 50%;z-index: -1;}#sk-container-id-2 div.sk-parallel-item {display: flex;flex-direction: column;z-index: 1;position: relative;background-color: white;}#sk-container-id-2 div.sk-parallel-item:first-child::after {align-self: flex-end;width: 50%;}#sk-container-id-2 div.sk-parallel-item:last-child::after {align-self: flex-start;width: 50%;}#sk-container-id-2 div.sk-parallel-item:only-child::after {width: 0;}#sk-container-id-2 div.sk-dashed-wrapped {border: 1px dashed gray;margin: 0 0.4em 0.5em 0.4em;box-sizing: border-box;padding-bottom: 0.4em;background-color: white;}#sk-container-id-2 div.sk-label label {font-family: monospace;font-weight: bold;display: inline-block;line-height: 1.2em;}#sk-container-id-2 div.sk-label-container {text-align: center;}#sk-container-id-2 div.sk-container {/* jupyter's `normalize.less` sets `[hidden] { display: none; }` but bootstrap.min.css set `[hidden] { display: none !important; }` so we also need the `!important` here to be able to override the default hidden behavior on the sphinx rendered scikit-learn.org. See: https://github.com/scikit-learn/scikit-learn/issues/21755 */display: inline-block !important;position: relative;}#sk-container-id-2 div.sk-text-repr-fallback {display: none;}</style><div id=\"sk-container-id-2\" class=\"sk-top-container\"><div class=\"sk-text-repr-fallback\"><pre>KMeans(n_clusters=4, random_state=69)</pre><b>In a Jupyter environment, please rerun this cell to show the HTML representation or trust the notebook. <br />On GitHub, the HTML representation is unable to render, please try loading this page with nbviewer.org.</b></div><div class=\"sk-container\" hidden><div class=\"sk-item\"><div class=\"sk-estimator sk-toggleable\"><input class=\"sk-toggleable__control sk-hidden--visually\" id=\"sk-estimator-id-2\" type=\"checkbox\" checked><label for=\"sk-estimator-id-2\" class=\"sk-toggleable__label sk-toggleable__label-arrow\">KMeans</label><div class=\"sk-toggleable__content\"><pre>KMeans(n_clusters=4, random_state=69)</pre></div></div></div></div></div>"
            ],
            "text/plain": [
              "KMeans(n_clusters=4, random_state=69)"
            ]
          },
          "execution_count": 56,
          "metadata": {},
          "output_type": "execute_result"
        }
      ],
      "source": [
        "# Ambil k optimal dari Elbow method\n",
        "optimal_k = visualizer.elbow_value_\n",
        "\n",
        "# Fit data pada model k-means dengan k optimal\n",
        "kmeans = KMeans(n_clusters=optimal_k, random_state=69, init='k-means++')\n",
        "kmeans.fit(X_pca)"
      ]
    },
    {
      "cell_type": "markdown",
      "metadata": {
        "id": "zsGVwzPKMEvn"
      },
      "source": [
        "## **b. Evaluasi Model Clustering**"
      ]
    },
    {
      "cell_type": "markdown",
      "metadata": {
        "id": "qk63ew39MeBf"
      },
      "source": [
        "Untuk menentukan jumlah cluster yang optimal dalam model clustering, Anda dapat menggunakan metode Elbow atau Silhouette Score.\n",
        "\n",
        "Metode ini membantu kita menemukan jumlah cluster yang memberikan pemisahan terbaik antar kelompok data, sehingga model yang dibangun dapat lebih efektif. Berikut adalah **rekomendasi** tahapannya.\n",
        "1. Gunakan Silhouette Score dan Elbow Method untuk menentukan jumlah cluster optimal.\n",
        "2. Hitung Silhouette Score sebagai ukuran kualitas cluster."
      ]
    },
    {
      "cell_type": "code",
      "execution_count": 57,
      "metadata": {
        "id": "yrPkK_bvM-Ya"
      },
      "outputs": [
        {
          "name": "stdout",
          "output_type": "stream",
          "text": [
            "Silhouette  for K=4: 0.9927\n"
          ]
        }
      ],
      "source": [
        "# Hitung Silhouette Score\n",
        "silhouette_avg = silhouette_score(X_pca, kmeans.labels_)\n",
        "\n",
        "print(f\"Silhouette  for K={optimal_k}: {silhouette_avg:.4f}\")"
      ]
    },
    {
      "cell_type": "markdown",
      "metadata": {
        "id": "vWZp5vKNQddd"
      },
      "source": [
        "## **c. Feature Selection (Opsional)**"
      ]
    },
    {
      "cell_type": "markdown",
      "metadata": {
        "id": "QIHKgE07Q4c0"
      },
      "source": [
        "Silakan lakukan feature selection jika Anda membutuhkan optimasi model clustering. Jika Anda menerapkan proses ini, silakan lakukan pemodelan dan evaluasi kembali menggunakan kolom-kolom hasil feature selection. Terakhir, bandingkan hasil performa model sebelum dan sesudah menerapkan feature selection."
      ]
    },
    {
      "cell_type": "markdown",
      "metadata": {
        "id": "nn01TKkLLRiF"
      },
      "source": [
        "## **d. Visualisasi Hasil Clustering**"
      ]
    },
    {
      "cell_type": "markdown",
      "metadata": {
        "id": "gaz0fnhhMkRI"
      },
      "source": [
        "Setelah model clustering dilatih dan jumlah cluster optimal ditentukan, langkah selanjutnya adalah menampilkan hasil clustering melalui visualisasi.\n",
        "\n",
        "Berikut adalah **rekomendasi** tahapannya.\n",
        "1. Tampilkan hasil clustering dalam bentuk visualisasi, seperti grafik scatter plot atau 2D PCA projection."
      ]
    },
    {
      "cell_type": "code",
      "execution_count": 64,
      "metadata": {},
      "outputs": [
        {
          "data": {
            "image/png": "[encoded data removed]",
            "text/plain": [
              "<Figure size 1200x800 with 1 Axes>"
            ]
          },
          "metadata": {},
          "output_type": "display_data"
        }
      ],
      "source": [
        "# Visualize each cluster\n",
        "plt.figure(figsize=(12, 8))\n",
        "for i in range(4):\n",
        "    plt.scatter(X_pca[kmeans.labels_ == i, 0], X_pca[kmeans.labels_ == i, 1], label=f'Cluster {i}')\n",
        "plt.scatter(kmeans.cluster_centers_[:, 0], kmeans.cluster_centers_[:, 1], c='yellow', marker='X', label='Centroids')\n",
        "plt.title('K-Means Clustering Result (PCA 2D)')\n",
        "plt.xlabel('Principal Component 1')\n",
        "plt.ylabel('Principal Component 2')\n",
        "plt.legend(loc='upper left', bbox_to_anchor=(1, 1), frameon=True, edgecolor='black')\n",
        "plt.show()"
      ]
    },
    {
      "cell_type": "markdown",
      "metadata": {
        "id": "X4eydPWJLH4I"
      },
      "source": [
        "## **e. Analisis dan Interpretasi Hasil Cluster**"
      ]
    },
    {
      "cell_type": "markdown",
      "metadata": {
        "id": "mxTeTkTkA7o6"
      },
      "source": [
        "### Interpretasi Target"
      ]
    },
    {
      "cell_type": "markdown",
      "metadata": {},
      "source": [
        "Setelah mendapatkan hasil clustering, kita tambahkan label cluster ke dalam DataFrame yang telah dinormalisasi."
      ]
    },
    {
      "cell_type": "code",
      "execution_count": 65,
      "metadata": {
        "id": "ySc78cHdOiaQ"
      },
      "outputs": [
        {
          "data": {
            "text/html": [
              "<div>\n",
              "<style scoped>\n",
              "    .dataframe tbody tr th:only-of-type {\n",
              "        vertical-align: middle;\n",
              "    }\n",
              "\n",
              "    .dataframe tbody tr th {\n",
              "        vertical-align: top;\n",
              "    }\n",
              "\n",
              "    .dataframe thead th {\n",
              "        text-align: right;\n",
              "    }\n",
              "</style>\n",
              "<table border=\"1\" class=\"dataframe\">\n",
              "  <thead>\n",
              "    <tr style=\"text-align: right;\">\n",
              "      <th></th>\n",
              "      <th>Order_ID</th>\n",
              "      <th>Customer_ID</th>\n",
              "      <th>Customer_Type</th>\n",
              "      <th>Product</th>\n",
              "      <th>Category</th>\n",
              "      <th>Unit_Price</th>\n",
              "      <th>Quantity</th>\n",
              "      <th>Discount</th>\n",
              "      <th>Total_Price</th>\n",
              "      <th>Region</th>\n",
              "      <th>Order_Date</th>\n",
              "      <th>Cluster</th>\n",
              "    </tr>\n",
              "  </thead>\n",
              "  <tbody>\n",
              "    <tr>\n",
              "      <th>0</th>\n",
              "      <td>ORD697566</td>\n",
              "      <td>CUS6363</td>\n",
              "      <td>B2C</td>\n",
              "      <td>Coca-Cola</td>\n",
              "      <td>Soft Drinks</td>\n",
              "      <td>-0.330879</td>\n",
              "      <td>0.060606</td>\n",
              "      <td>0.00</td>\n",
              "      <td>-0.278208</td>\n",
              "      <td>Bremen</td>\n",
              "      <td>2021-02-17</td>\n",
              "      <td>2</td>\n",
              "    </tr>\n",
              "    <tr>\n",
              "      <th>1</th>\n",
              "      <td>ORD1118443</td>\n",
              "      <td>CUS7797</td>\n",
              "      <td>B2B</td>\n",
              "      <td>Selters</td>\n",
              "      <td>Water</td>\n",
              "      <td>-0.354141</td>\n",
              "      <td>0.454545</td>\n",
              "      <td>0.10</td>\n",
              "      <td>-0.223536</td>\n",
              "      <td>Sachsen-Anhalt</td>\n",
              "      <td>2023-04-15</td>\n",
              "      <td>0</td>\n",
              "    </tr>\n",
              "    <tr>\n",
              "      <th>3</th>\n",
              "      <td>ORD1437128</td>\n",
              "      <td>CUS6393</td>\n",
              "      <td>B2B</td>\n",
              "      <td>Monster</td>\n",
              "      <td>Soft Drinks</td>\n",
              "      <td>-0.215271</td>\n",
              "      <td>0.292929</td>\n",
              "      <td>0.05</td>\n",
              "      <td>-0.107343</td>\n",
              "      <td>Schleswig-Holstein</td>\n",
              "      <td>2021-09-07</td>\n",
              "      <td>2</td>\n",
              "    </tr>\n",
              "    <tr>\n",
              "      <th>4</th>\n",
              "      <td>ORD562794</td>\n",
              "      <td>CUS4090</td>\n",
              "      <td>B2C</td>\n",
              "      <td>San Pellegrino</td>\n",
              "      <td>Water</td>\n",
              "      <td>-0.340043</td>\n",
              "      <td>0.020202</td>\n",
              "      <td>0.00</td>\n",
              "      <td>-0.289459</td>\n",
              "      <td>Hessen</td>\n",
              "      <td>2023-04-28</td>\n",
              "      <td>0</td>\n",
              "    </tr>\n",
              "    <tr>\n",
              "      <th>5</th>\n",
              "      <td>ORD2320519</td>\n",
              "      <td>CUS5936</td>\n",
              "      <td>B2C</td>\n",
              "      <td>Beck's</td>\n",
              "      <td>Alcoholic Beverages</td>\n",
              "      <td>-0.304797</td>\n",
              "      <td>0.030303</td>\n",
              "      <td>0.00</td>\n",
              "      <td>-0.282263</td>\n",
              "      <td>Bremen</td>\n",
              "      <td>2023-11-01</td>\n",
              "      <td>3</td>\n",
              "    </tr>\n",
              "  </tbody>\n",
              "</table>\n",
              "</div>"
            ],
            "text/plain": [
              "     Order_ID Customer_ID Customer_Type         Product             Category  \\\n",
              "0   ORD697566     CUS6363           B2C       Coca-Cola          Soft Drinks   \n",
              "1  ORD1118443     CUS7797           B2B         Selters                Water   \n",
              "3  ORD1437128     CUS6393           B2B         Monster          Soft Drinks   \n",
              "4   ORD562794     CUS4090           B2C  San Pellegrino                Water   \n",
              "5  ORD2320519     CUS5936           B2C          Beck's  Alcoholic Beverages   \n",
              "\n",
              "   Unit_Price  Quantity  Discount  Total_Price              Region  \\\n",
              "0   -0.330879  0.060606      0.00    -0.278208              Bremen   \n",
              "1   -0.354141  0.454545      0.10    -0.223536      Sachsen-Anhalt   \n",
              "3   -0.215271  0.292929      0.05    -0.107343  Schleswig-Holstein   \n",
              "4   -0.340043  0.020202      0.00    -0.289459              Hessen   \n",
              "5   -0.304797  0.030303      0.00    -0.282263              Bremen   \n",
              "\n",
              "   Order_Date  Cluster  \n",
              "0  2021-02-17        2  \n",
              "1  2023-04-15        0  \n",
              "3  2021-09-07        2  \n",
              "4  2023-04-28        0  \n",
              "5  2023-11-01        3  "
            ]
          },
          "execution_count": 65,
          "metadata": {},
          "output_type": "execute_result"
        }
      ],
      "source": [
        "df_labeled = df_cleaned.copy()\n",
        "df_labeled['Cluster'] = kmeans.labels_\n",
        "df_labeled.head()"
      ]
    },
    {
      "cell_type": "markdown",
      "metadata": {
        "id": "vITTtdoT_fIF"
      },
      "source": [
        "### Inverse Data Jika Melakukan Normalisasi/Standardisasi"
      ]
    },
    {
      "cell_type": "markdown",
      "metadata": {},
      "source": [
        "Lakukan Inverse Transform pada feature yang sudah dilakukan Labelisasi dan Standararisasi untuk mengembalikannya ke skala asli."
      ]
    },
    {
      "cell_type": "code",
      "execution_count": 66,
      "metadata": {
        "id": "aIGQ_6wKGbVz"
      },
      "outputs": [
        {
          "data": {
            "text/html": [
              "<div>\n",
              "<style scoped>\n",
              "    .dataframe tbody tr th:only-of-type {\n",
              "        vertical-align: middle;\n",
              "    }\n",
              "\n",
              "    .dataframe tbody tr th {\n",
              "        vertical-align: top;\n",
              "    }\n",
              "\n",
              "    .dataframe thead th {\n",
              "        text-align: right;\n",
              "    }\n",
              "</style>\n",
              "<table border=\"1\" class=\"dataframe\">\n",
              "  <thead>\n",
              "    <tr style=\"text-align: right;\">\n",
              "      <th></th>\n",
              "      <th>Order_ID</th>\n",
              "      <th>Customer_ID</th>\n",
              "      <th>Customer_Type</th>\n",
              "      <th>Product</th>\n",
              "      <th>Category</th>\n",
              "      <th>Unit_Price</th>\n",
              "      <th>Quantity</th>\n",
              "      <th>Discount</th>\n",
              "      <th>Total_Price</th>\n",
              "      <th>Region</th>\n",
              "      <th>Order_Date</th>\n",
              "      <th>Cluster</th>\n",
              "    </tr>\n",
              "  </thead>\n",
              "  <tbody>\n",
              "    <tr>\n",
              "      <th>0</th>\n",
              "      <td>ORD697566</td>\n",
              "      <td>CUS6363</td>\n",
              "      <td>B2C</td>\n",
              "      <td>Coca-Cola</td>\n",
              "      <td>Soft Drinks</td>\n",
              "      <td>1.04</td>\n",
              "      <td>7.0</td>\n",
              "      <td>0.00</td>\n",
              "      <td>7.28</td>\n",
              "      <td>Bremen</td>\n",
              "      <td>2021-02-17</td>\n",
              "      <td>2</td>\n",
              "    </tr>\n",
              "    <tr>\n",
              "      <th>1</th>\n",
              "      <td>ORD1118443</td>\n",
              "      <td>CUS7797</td>\n",
              "      <td>B2B</td>\n",
              "      <td>Selters</td>\n",
              "      <td>Water</td>\n",
              "      <td>0.71</td>\n",
              "      <td>46.0</td>\n",
              "      <td>0.10</td>\n",
              "      <td>29.39</td>\n",
              "      <td>Sachsen-Anhalt</td>\n",
              "      <td>2023-04-15</td>\n",
              "      <td>0</td>\n",
              "    </tr>\n",
              "    <tr>\n",
              "      <th>3</th>\n",
              "      <td>ORD1437128</td>\n",
              "      <td>CUS6393</td>\n",
              "      <td>B2B</td>\n",
              "      <td>Monster</td>\n",
              "      <td>Soft Drinks</td>\n",
              "      <td>2.68</td>\n",
              "      <td>30.0</td>\n",
              "      <td>0.05</td>\n",
              "      <td>76.38</td>\n",
              "      <td>Schleswig-Holstein</td>\n",
              "      <td>2021-09-07</td>\n",
              "      <td>2</td>\n",
              "    </tr>\n",
              "    <tr>\n",
              "      <th>4</th>\n",
              "      <td>ORD562794</td>\n",
              "      <td>CUS4090</td>\n",
              "      <td>B2C</td>\n",
              "      <td>San Pellegrino</td>\n",
              "      <td>Water</td>\n",
              "      <td>0.91</td>\n",
              "      <td>3.0</td>\n",
              "      <td>0.00</td>\n",
              "      <td>2.73</td>\n",
              "      <td>Hessen</td>\n",
              "      <td>2023-04-28</td>\n",
              "      <td>0</td>\n",
              "    </tr>\n",
              "    <tr>\n",
              "      <th>5</th>\n",
              "      <td>ORD2320519</td>\n",
              "      <td>CUS5936</td>\n",
              "      <td>B2C</td>\n",
              "      <td>Beck's</td>\n",
              "      <td>Alcoholic Beverages</td>\n",
              "      <td>1.41</td>\n",
              "      <td>4.0</td>\n",
              "      <td>0.00</td>\n",
              "      <td>5.64</td>\n",
              "      <td>Bremen</td>\n",
              "      <td>2023-11-01</td>\n",
              "      <td>3</td>\n",
              "    </tr>\n",
              "  </tbody>\n",
              "</table>\n",
              "</div>"
            ],
            "text/plain": [
              "     Order_ID Customer_ID Customer_Type         Product             Category  \\\n",
              "0   ORD697566     CUS6363           B2C       Coca-Cola          Soft Drinks   \n",
              "1  ORD1118443     CUS7797           B2B         Selters                Water   \n",
              "3  ORD1437128     CUS6393           B2B         Monster          Soft Drinks   \n",
              "4   ORD562794     CUS4090           B2C  San Pellegrino                Water   \n",
              "5  ORD2320519     CUS5936           B2C          Beck's  Alcoholic Beverages   \n",
              "\n",
              "   Unit_Price  Quantity  Discount  Total_Price              Region  \\\n",
              "0        1.04       7.0      0.00         7.28              Bremen   \n",
              "1        0.71      46.0      0.10        29.39      Sachsen-Anhalt   \n",
              "3        2.68      30.0      0.05        76.38  Schleswig-Holstein   \n",
              "4        0.91       3.0      0.00         2.73              Hessen   \n",
              "5        1.41       4.0      0.00         5.64              Bremen   \n",
              "\n",
              "   Order_Date  Cluster  \n",
              "0  2021-02-17        2  \n",
              "1  2023-04-15        0  \n",
              "3  2021-09-07        2  \n",
              "4  2023-04-28        0  \n",
              "5  2023-11-01        3  "
            ]
          },
          "execution_count": 66,
          "metadata": {},
          "output_type": "execute_result"
        }
      ],
      "source": [
        "# Ubah kembali data numerik menjadi semula (sebelum dinormalisasi/standardisasi)\n",
        "df_labeled[['Quantity']] = min_max_scaler.inverse_transform(df_labeled[['Quantity']])\n",
        "df_labeled[['Total_Price', 'Unit_Price']] = standard_scaler.inverse_transform(df_labeled[['Total_Price', 'Unit_Price']])\n",
        "df_labeled.head()"
      ]
    },
    {
      "cell_type": "markdown",
      "metadata": {
        "id": "SENfLnfRMpC-"
      },
      "source": [
        "Setelah melakukan clustering, langkah selanjutnya adalah menganalisis karakteristik dari masing-masing cluster berdasarkan fitur yang tersedia.\n",
        "\n",
        "Berikut adalah **rekomendasi** tahapannya.\n",
        "1. Analisis karakteristik tiap cluster berdasarkan fitur yang tersedia (misalnya, distribusi nilai dalam cluster).\n",
        "2. Berikan interpretasi: Apakah hasil clustering sesuai dengan ekspektasi dan logika bisnis? Apakah ada pola tertentu yang bisa dimanfaatkan?"
      ]
    },
    {
      "cell_type": "code",
      "execution_count": 67,
      "metadata": {
        "id": "MFq0x-OzM_Wt"
      },
      "outputs": [
        {
          "name": "stdout",
          "output_type": "stream",
          "text": [
            "Cluster\n",
            "1    447\n",
            "0    435\n",
            "2    419\n",
            "3    214\n",
            "Name: count, dtype: int64 \n",
            "\n"
          ]
        },
        {
          "data": {
            "image/png": "[encoded data removed]",
            "text/plain": [
              "<Figure size 800x550 with 1 Axes>"
            ]
          },
          "metadata": {},
          "output_type": "display_data"
        }
      ],
      "source": [
        "# Hitung jumlah data per kluster\n",
        "cluster_count = df_labeled['Cluster'].value_counts()\n",
        "print(cluster_count,'\\n')\n",
        "\n",
        "# Visualisasi\n",
        "plt.pie(cluster_count, labels=cluster_count.index, autopct='%1.1f%%', startangle=90)\n",
        "plt.title('Distribution of Clusters')\n",
        "plt.show()"
      ]
    },
    {
      "cell_type": "code",
      "execution_count": 68,
      "metadata": {},
      "outputs": [
        {
          "data": {
            "text/html": [
              "<div>\n",
              "<style scoped>\n",
              "    .dataframe tbody tr th:only-of-type {\n",
              "        vertical-align: middle;\n",
              "    }\n",
              "\n",
              "    .dataframe tbody tr th {\n",
              "        vertical-align: top;\n",
              "    }\n",
              "\n",
              "    .dataframe thead th {\n",
              "        text-align: right;\n",
              "    }\n",
              "</style>\n",
              "<table border=\"1\" class=\"dataframe\">\n",
              "  <thead>\n",
              "    <tr style=\"text-align: right;\">\n",
              "      <th></th>\n",
              "      <th>Unit_Price</th>\n",
              "      <th>Quantity</th>\n",
              "      <th>Discount</th>\n",
              "      <th>Total_Price</th>\n",
              "    </tr>\n",
              "    <tr>\n",
              "      <th>Cluster</th>\n",
              "      <th></th>\n",
              "      <th></th>\n",
              "      <th></th>\n",
              "      <th></th>\n",
              "    </tr>\n",
              "  </thead>\n",
              "  <tbody>\n",
              "    <tr>\n",
              "      <th>0</th>\n",
              "      <td>0.912161</td>\n",
              "      <td>15.181609</td>\n",
              "      <td>0.018966</td>\n",
              "      <td>12.722184</td>\n",
              "    </tr>\n",
              "    <tr>\n",
              "      <th>1</th>\n",
              "      <td>2.548680</td>\n",
              "      <td>14.266219</td>\n",
              "      <td>0.017450</td>\n",
              "      <td>33.223714</td>\n",
              "    </tr>\n",
              "    <tr>\n",
              "      <th>2</th>\n",
              "      <td>1.611647</td>\n",
              "      <td>14.202864</td>\n",
              "      <td>0.018377</td>\n",
              "      <td>21.718974</td>\n",
              "    </tr>\n",
              "    <tr>\n",
              "      <th>3</th>\n",
              "      <td>2.240093</td>\n",
              "      <td>13.883178</td>\n",
              "      <td>0.015187</td>\n",
              "      <td>28.336355</td>\n",
              "    </tr>\n",
              "  </tbody>\n",
              "</table>\n",
              "</div>"
            ],
            "text/plain": [
              "         Unit_Price   Quantity  Discount  Total_Price\n",
              "Cluster                                              \n",
              "0          0.912161  15.181609  0.018966    12.722184\n",
              "1          2.548680  14.266219  0.017450    33.223714\n",
              "2          1.611647  14.202864  0.018377    21.718974\n",
              "3          2.240093  13.883178  0.015187    28.336355"
            ]
          },
          "execution_count": 68,
          "metadata": {},
          "output_type": "execute_result"
        }
      ],
      "source": [
        "# Cari rata-rata setiap cluster\n",
        "df_labeled.select_dtypes(include=['number']).groupby('Cluster').mean()"
      ]
    },
    {
      "cell_type": "markdown",
      "metadata": {
        "id": "JfgVMEBDS3KG"
      },
      "source": [
        "Tulis hasil interpretasinya di sini.\n",
        "1. Cluster 1:\n",
        "2. Cluster 2:\n",
        "3. Cluster 3:"
      ]
    },
    {
      "cell_type": "markdown",
      "metadata": {
        "id": "hOygRVqs_vdU"
      },
      "source": [
        "# Contoh interpretasi [TEMPLATE]\n",
        "# Analisis Karakteristik Cluster dari Model KMeans\n",
        "\n",
        "Berikut adalah analisis karakteristik untuk setiap cluster yang dihasilkan dari model KMeans.\n",
        "\n",
        "## Cluster 1:\n",
        "- **Rata-rata Annual Income (k$):** 48,260  \n",
        "- **Rata-rata Spending Score (1-100):** 56.48  \n",
        "- **Analisis:** Cluster ini mencakup pelanggan dengan pendapatan tahunan menengah dan tingkat pengeluaran yang cukup tinggi. Pelanggan dalam cluster ini cenderung memiliki daya beli yang moderat dan mereka lebih cenderung untuk membelanjakan sebagian besar pendapatan mereka.\n",
        "\n",
        "## Cluster 2:\n",
        "- **Rata-rata Annual Income (k$):** 86,540  \n",
        "- **Rata-rata Spending Score (1-100):** 82.13  \n",
        "- **Analisis:** Cluster ini menunjukkan pelanggan dengan pendapatan tahunan tinggi dan pengeluaran yang sangat tinggi. Pelanggan di cluster ini merupakan kelompok premium dengan daya beli yang kuat dan cenderung mengeluarkan uang dalam jumlah besar untuk produk atau layanan.\n",
        "\n",
        "## Cluster 3:\n",
        "- **Rata-rata Annual Income (k$):** 87,000  \n",
        "- **Rata-rata Spending Score (1-100):** 18.63  \n",
        "- **Analisis:** Cluster ini terdiri dari pelanggan dengan pendapatan tahunan yang tinggi tetapi pengeluaran yang rendah. Mereka mungkin memiliki kapasitas finansial yang baik namun tidak terlalu aktif dalam berbelanja. Ini bisa menunjukkan bahwa mereka lebih selektif dalam pengeluaran mereka atau mungkin lebih cenderung untuk menyimpan uang."
      ]
    },
    {
      "cell_type": "markdown",
      "metadata": {
        "id": "jaYP1fx5VgWO"
      },
      "source": [
        "# **7. Mengekspor Data**\n",
        "\n",
        "Simpan hasilnya ke dalam file CSV."
      ]
    },
    {
      "cell_type": "code",
      "execution_count": 69,
      "metadata": {
        "id": "fkbg_o80aRSH"
      },
      "outputs": [],
      "source": [
        "df_labeled.to_csv(\"Dataset_klasifikasi.csv\", index=False)"
      ]
    }
  ],
  "metadata": {
    "colab": {
      "provenance": []
    },
    "kernelspec": {
      "display_name": "datascience",
      "language": "python",
      "name": "python3"
    },
    "language_info": {
      "codemirror_mode": {
        "name": "ipython",
        "version": 3
      },
      "file_extension": ".py",
      "mimetype": "text/x-python",
      "name": "python",
      "nbconvert_exporter": "python",
      "pygments_lexer": "ipython3",
      "version": "3.12.2"
    }
  },
  "nbformat": 4,
  "nbformat_minor": 0
}
